{
  "cells": [
    {
      "cell_type": "markdown",
      "metadata": {},
      "source": [
        "A variable is created when a value is assigned to it."
      ]
    },
    {
      "cell_type": "code",
      "execution_count": null,
      "metadata": {
        "id": "Nf1A5IpBUQtF"
      },
      "outputs": [],
      "source": [
        "# Examples of variables and variable assignment\n",
        "num_var = 10\n",
        "str_var = 'Hello'"
      ]
    },
    {
      "cell_type": "markdown",
      "metadata": {},
      "source": [
        "Variables can have different data types and can be reassigned to different values during the program's execution."
      ]
    },
    {
      "cell_type": "code",
      "execution_count": null,
      "metadata": {},
      "outputs": [],
      "source": [
        "# Reassign variables\n",
        "num_var = 20\n",
        "str_var = 'World'"
      ]
    },
    {
      "cell_type": "markdown",
      "metadata": {},
      "source": [
        "Variables can be displayed with **print** statement"
      ]
    },
    {
      "cell_type": "code",
      "execution_count": null,
      "metadata": {},
      "outputs": [],
      "source": [
        "# Run the code and see the output\n",
        "print(\"Number Variable:\", num_var)\n",
        "print(\"String Variable:\", str_var)"
      ]
    }
  ],
  "metadata": {
    "colab": {
      "provenance": []
    },
    "kernelspec": {
      "display_name": "Python 3",
      "name": "python3"
    },
    "language_info": {
      "name": "python"
    }
  },
  "nbformat": 4,
  "nbformat_minor": 0
}
