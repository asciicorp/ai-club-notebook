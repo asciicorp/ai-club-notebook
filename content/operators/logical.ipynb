{
 "cells": [
  {
   "cell_type": "markdown",
   "metadata": {},
   "source": [
    "### Logical Operators in Python"
   ]
  },
  {
   "cell_type": "code",
   "execution_count": 1,
   "metadata": {},
   "outputs": [
    {
     "name": "stdout",
     "output_type": "stream",
     "text": [
      "Logical AND Result: False\n"
     ]
    }
   ],
   "source": [
    "# Logical AND\n",
    "is_sunny = True\n",
    "is_warm = False\n",
    "result_logical_and = is_sunny and is_warm\n",
    "print(f\"Logical AND Result: {result_logical_and}\")"
   ]
  },
  {
   "cell_type": "code",
   "execution_count": 2,
   "metadata": {},
   "outputs": [
    {
     "name": "stdout",
     "output_type": "stream",
     "text": [
      "Logical OR Result: True\n"
     ]
    }
   ],
   "source": [
    "# Logical OR\n",
    "result_logical_or = is_sunny or is_warm\n",
    "print(f\"Logical OR Result: {result_logical_or}\")"
   ]
  },
  {
   "cell_type": "code",
   "execution_count": 3,
   "metadata": {},
   "outputs": [
    {
     "name": "stdout",
     "output_type": "stream",
     "text": [
      "Logical NOT Result: False\n"
     ]
    }
   ],
   "source": [
    "# Logical NOT\n",
    "result_logical_not = not is_sunny\n",
    "print(f\"Logical NOT Result: {result_logical_not}\")"
   ]
  },
  {
   "cell_type": "markdown",
   "metadata": {},
   "source": [
    "Try changing the values of `is_sunny` and `is_warm` and run all the operators. "
   ]
  }
 ],
 "metadata": {
  "kernelspec": {
   "display_name": "Python 3",
   "language": "python",
   "name": "python3"
  },
  "language_info": {
   "codemirror_mode": {
    "name": "ipython",
    "version": 3
   },
   "file_extension": ".py",
   "mimetype": "text/x-python",
   "name": "python",
   "nbconvert_exporter": "python",
   "pygments_lexer": "ipython3",
   "version": "3.11.3"
  },
  "orig_nbformat": 4
 },
 "nbformat": 4,
 "nbformat_minor": 2
}
