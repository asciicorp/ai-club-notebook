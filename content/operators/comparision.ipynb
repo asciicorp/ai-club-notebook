{
 "cells": [
  {
   "cell_type": "markdown",
   "metadata": {},
   "source": [
    "### Comparison Operators in Python"
   ]
  },
  {
   "cell_type": "code",
   "execution_count": null,
   "metadata": {},
   "outputs": [],
   "source": [
    "# Equal to\n",
    "x = 5\n",
    "y = 10\n",
    "result_equal_to = x == y\n",
    "print(f\"Equal to Result: {result_equal_to}\")"
   ]
  },
  {
   "cell_type": "code",
   "execution_count": null,
   "metadata": {},
   "outputs": [],
   "source": [
    "# Not Equal to\n",
    "result_not_equal_to = x != y\n",
    "print(f\"Not Equal to Result: {result_not_equal_to}\")"
   ]
  },
  {
   "cell_type": "code",
   "execution_count": null,
   "metadata": {},
   "outputs": [],
   "source": [
    "# Greater than\n",
    "result_greater_than = x > y\n",
    "print(f\"Greater than Result: {result_greater_than}\")"
   ]
  },
  {
   "cell_type": "code",
   "execution_count": null,
   "metadata": {},
   "outputs": [],
   "source": [
    "# Less than\n",
    "result_less_than = x < y\n",
    "print(f\"Less than Result: {result_less_than}\")"
   ]
  },
  {
   "cell_type": "code",
   "execution_count": null,
   "metadata": {},
   "outputs": [],
   "source": [
    "# Greater than or Equal to\n",
    "result_greater_than_equal_to = x >= y\n",
    "print(f\"Greater than or Equal to Result: {result_greater_than_equal_to}\")"
   ]
  },
  {
   "cell_type": "code",
   "execution_count": null,
   "metadata": {},
   "outputs": [],
   "source": [
    "# Less than or Equal to\n",
    "result_less_than_equal_to = x <= y\n",
    "print(f\"Less than or Equal to Result: {result_less_than_equal_to}\")"
   ]
  },
  {
   "cell_type": "markdown",
   "metadata": {},
   "source": [
    "Try changing the values of `x` and `y` and run all the operators. "
   ]
  }
 ],
 "metadata": {
  "kernelspec": {
   "display_name": "Python 3",
   "language": "python",
   "name": "python3"
  },
  "language_info": {
   "codemirror_mode": {
    "name": "ipython",
    "version": 3
   },
   "file_extension": ".py",
   "mimetype": "text/x-python",
   "name": "python",
   "nbconvert_exporter": "python",
   "pygments_lexer": "ipython3",
   "version": "3.11.3"
  },
  "orig_nbformat": 4
 },
 "nbformat": 4,
 "nbformat_minor": 2
}
