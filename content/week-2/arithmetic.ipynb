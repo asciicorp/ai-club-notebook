{
  "cells": [
    {
      "cell_type": "markdown",
      "metadata": {},
      "source": [
        "### Arithmetic Operators in Python"
      ]
    },
    {
      "cell_type": "markdown",
      "metadata": {},
      "source": [
        "### `+` Addition: Add two operands together."
      ]
    },
    {
      "cell_type": "markdown",
      "metadata": {},
      "source": [
        "The following code can be used to add two or many numbers.\n",
        "\n",
        "We use the '+' operator as usual to add two or any number of variables. "
      ]
    },
    {
      "cell_type": "code",
      "execution_count": 1,
      "metadata": {
        "trusted": true
      },
      "outputs": [
        {
          "name": "stdout",
          "output_type": "stream",
          "text": [
            "Enter the y value: 5\n",
            "Enter the x value: 10\n"
          ]
        }
      ],
      "source": [
        "x=input(\"Enter the x value:\")\n",
        "y=input(\"Enter the y value:\")\n"
      ]
    },
    {
      "cell_type": "code",
      "execution_count": 3,
      "metadata": {
        "trusted": true
      },
      "outputs": [
        {
          "name": "stdout",
          "output_type": "stream",
          "text": [
            "The sum is: 15\n"
          ]
        }
      ],
      "source": [
        "# Addition\n",
        "x=5\n",
        "y=10\n",
        "sum = x + y\n",
        "print(f\"The sum is: {sum}\")"
      ]
    },
    {
      "cell_type": "markdown",
      "metadata": {},
      "source": [
        "### `-` Subtraction: Subtracts the right operand from the left operand.\n",
        "\n",
        "In the same code, by replacing the '+' operator with the '-' operator, we can perform substraction to obtain the diferrence between the two numbers. "
      ]
    },
    {
      "cell_type": "code",
      "execution_count": null,
      "metadata": {},
      "outputs": [],
      "source": [
        "# Subtraction\n",
        "difference = x - y\n",
        "print(f\"The difference is: {difference}\")"
      ]
    },
    {
      "cell_type": "markdown",
      "metadata": {},
      "source": [
        "### `*` Multiplication: Multiplies two operands\n",
        "\n",
        "In the same code, we can use the '*' operator, to obtain the multiplication or the product as follows. "
      ]
    },
    {
      "cell_type": "code",
      "execution_count": null,
      "metadata": {},
      "outputs": [],
      "source": [
        "# Multiplication\n",
        "product = x * y\n",
        "print(f\"The product is: {product}\")"
      ]
    },
    {
      "cell_type": "markdown",
      "metadata": {},
      "source": [
        "### `/` Division: Divides the left operand by the right operand\n",
        "\n",
        "The division operator '/' devides the number on the left by the number on the right. "
      ]
    },
    {
      "cell_type": "code",
      "execution_count": 4,
      "metadata": {
        "trusted": true
      },
      "outputs": [
        {
          "name": "stdout",
          "output_type": "stream",
          "text": [
            "The ratio is: 0.5\n"
          ]
        }
      ],
      "source": [
        "# Division\n",
        "ratio = x/y\n",
        "print(f\"The ratio is: {ratio}\")"
      ]
    },
    {
      "cell_type": "markdown",
      "metadata": {},
      "source": [
        "### `%` Modulus: Returns the remainder of the division between the left and right operands\n",
        "\n",
        "The modulus operator '%' returns the remainder of the division. In here, 10/5 is equal to 2. And the remainder is '0'. "
      ]
    },
    {
      "cell_type": "code",
      "execution_count": 5,
      "metadata": {
        "trusted": true
      },
      "outputs": [
        {
          "name": "stdout",
          "output_type": "stream",
          "text": [
            "The remainder is: 5\n"
          ]
        }
      ],
      "source": [
        "# Modulus (Remainder)\n",
        "remainder = x % y\n",
        "print(f\"The remainder is: {remainder}\")"
      ]
    },
    {
      "cell_type": "markdown",
      "metadata": {},
      "source": [
        "### `**` Exponentiation: Raises the left operand to the power of the right operand\n",
        "\n",
        "The exponentiation operator '**' is used to determine the power of a number. Folowing code evaluates x to the power y. "
      ]
    },
    {
      "cell_type": "code",
      "execution_count": 7,
      "metadata": {
        "trusted": true
      },
      "outputs": [
        {
          "name": "stdout",
          "output_type": "stream",
          "text": [
            "The x to the power y is: 9765625\n"
          ]
        }
      ],
      "source": [
        "# Exponentiation\n",
        "power = x ** y\n",
        "print(f\"The x to the power y is: {power}\")"
      ]
    },
    {
      "cell_type": "markdown",
      "metadata": {},
      "source": [
        "Try changing the `x` and `y` and run all the operators. "
      ]
    }
  ],
  "metadata": {
    "kernelspec": {
      "display_name": "Python (Pyodide)",
      "language": "python",
      "name": "python"
    },
    "language_info": {
      "codemirror_mode": {
        "name": "python",
        "version": 3
      },
      "file_extension": ".py",
      "mimetype": "text/x-python",
      "name": "python",
      "nbconvert_exporter": "python",
      "pygments_lexer": "ipython3",
      "version": "3.8"
    }
  },
  "nbformat": 4,
  "nbformat_minor": 4
}
