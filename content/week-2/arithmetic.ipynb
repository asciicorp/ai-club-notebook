{
  "metadata": {
    "kernelspec": {
      "name": "python",
      "display_name": "Python (Pyodide)",
      "language": "python"
    },
    "language_info": {
      "codemirror_mode": {
        "name": "python",
        "version": 3
      },
      "file_extension": ".py",
      "mimetype": "text/x-python",
      "name": "python",
      "nbconvert_exporter": "python",
      "pygments_lexer": "ipython3",
      "version": "3.8"
    }
  },
  "nbformat_minor": 4,
  "nbformat": 4,
  "cells": [
    {
      "cell_type": "markdown",
      "source": "### Arithmetic Operators in Python",
      "metadata": {}
    },
    {
      "cell_type": "markdown",
      "source": "### `+` Addition: Add two operands together.",
      "metadata": {}
    },
    {
      "cell_type": "markdown",
      "source": "The following code can be used to add two or many numbers.\n\nWe use the '+' operator as usual to add two or any number of variables. ",
      "metadata": {}
    },
    {
      "cell_type": "code",
      "source": "x=input(\"Enter the x value:\")\ny=input(\"Enter the y value:\")\n",
      "metadata": {
        "trusted": true
      },
      "execution_count": 1,
      "outputs": [
        {
          "output_type": "stream",
          "name": "stdin",
          "text": "Enter the y value: 5\nEnter the x value: 10\n"
        }
      ]
    },
    {
      "cell_type": "code",
      "source": "# Addition\nx=5\ny=10\nsum = x + y\nprint(f\"The sum is: {sum}\")",
      "metadata": {
        "trusted": true
      },
      "execution_count": 3,
      "outputs": [
        {
          "name": "stdout",
          "text": "The sum is: 15\n",
          "output_type": "stream"
        }
      ]
    },
    {
      "cell_type": "markdown",
      "source": "### `-` Subtraction: Subtracts the right operand from the left operand.\n\nIn the same code, by replacing the '+' operator with the '-' operator, we can perform substraction to obtain the diferrence between the two numbers. ",
      "metadata": {}
    },
    {
      "cell_type": "code",
      "source": "# Subtraction\ndifference = x - y\nprint(f\"The difference is: {difference}\")",
      "metadata": {},
      "execution_count": null,
      "outputs": []
    },
    {
      "cell_type": "markdown",
      "source": "### `*` Multiplication: Multiplies two operands\n\nIn the same code, we can use the '*' operator, to obtain the multiplication or the product as follows. ",
      "metadata": {}
    },
    {
      "cell_type": "code",
      "source": "# Multiplication\nproduct = x * y\nprint(f\"The product is: {product}\")",
      "metadata": {},
      "execution_count": null,
      "outputs": []
    },
    {
      "cell_type": "markdown",
      "source": "### `/` Division: Divides the left operand by the right operand\n\nThe division operator '/' devides the number on the left by the number on the right. ",
      "metadata": {}
    },
    {
      "cell_type": "code",
      "source": "# Division\nratio = x/y\nprint(f\"The ratio is: {ratio}\")",
      "metadata": {
        "trusted": true
      },
      "execution_count": 4,
      "outputs": [
        {
          "name": "stdout",
          "text": "The ratio is: 0.5\n",
          "output_type": "stream"
        }
      ]
    },
    {
      "cell_type": "markdown",
      "source": "### `%` Modulus: Returns the remainder of the division between the left and right operands\n\nThe modulus operator '%' returns the remainder of the division. In here, 10/5 is equal to 2. And the remainder is '0'. ",
      "metadata": {}
    },
    {
      "cell_type": "code",
      "source": "# Modulus (Remainder)\nremainder = x % y\nprint(f\"The remainder is: {remainder}\")",
      "metadata": {
        "trusted": true
      },
      "execution_count": 5,
      "outputs": [
        {
          "name": "stdout",
          "text": "The remainder is: 5\n",
          "output_type": "stream"
        }
      ]
    },
    {
      "cell_type": "markdown",
      "source": "### `**` Exponentiation: Raises the left operand to the power of the right operand\n\nThe exponentiation operator '**' is used to determine the power of a number. Folowing code evaluates x to the power y. ",
      "metadata": {}
    },
    {
      "cell_type": "code",
      "source": "# Exponentiation\npower = x ** y\nprint(f\"The x to the power y is: {power}\")",
      "metadata": {
        "trusted": true
      },
      "execution_count": 7,
      "outputs": [
        {
          "name": "stdout",
          "text": "The x to the power y is: 9765625\n",
          "output_type": "stream"
        }
      ]
    },
    {
      "cell_type": "markdown",
      "source": "Try changing the `x` and `y` and run all the operators. ",
      "metadata": {}
    }
  ]
}