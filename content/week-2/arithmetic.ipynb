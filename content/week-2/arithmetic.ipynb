{
 "cells": [
  {
   "cell_type": "markdown",
   "metadata": {},
   "source": [
    "### Arithmetic Operators in Python"
   ]
  },
  {
   "cell_type": "code",
   "execution_count": null,
   "metadata": {},
   "outputs": [],
   "source": [
    "# Addition\n",
    "num1 = 10\n",
    "num2 = 5\n",
    "result_addition = num1 + num2\n",
    "print(f\"Addition Result: {result_addition}\")\n"
   ]
  },
  {
   "cell_type": "code",
   "execution_count": null,
   "metadata": {},
   "outputs": [],
   "source": [
    "# Calculating the total cost of purchasing multiple copies of a book\n",
    "book_cost = 10\n",
    "num_books = 5\n",
    "total_cost = book_cost * num_books\n",
    "print(f\"Total cost for {num_books} books: {total_cost}\")\n"
   ]
  },
  {
   "cell_type": "code",
   "execution_count": null,
   "metadata": {},
   "outputs": [],
   "source": [
    "# Subtraction\n",
    "result_subtraction = num1 - num2\n",
    "print(f\"Subtraction Result: {result_subtraction}\")\n"
   ]
  },
  {
   "cell_type": "code",
   "execution_count": null,
   "metadata": {},
   "outputs": [],
   "source": [
    "# An AI analyzing data and determining the difference between two values\n",
    "data_value1 = 50\n",
    "data_value2 = 30\n",
    "difference = data_value1 - data_value2\n",
    "print(\"Difference:\", difference)\n"
   ]
  },
  {
   "cell_type": "code",
   "execution_count": null,
   "metadata": {},
   "outputs": [],
   "source": [
    "# Multiplication\n",
    "result_multiplication = num1 * num2\n",
    "print(f\"Multiplication Result: {result_multiplication}\")\n"
   ]
  },
  {
   "cell_type": "code",
   "execution_count": null,
   "metadata": {},
   "outputs": [],
   "source": [
    "# An AI calculating the total cost of multiple items with different prices\n",
    "item1_price = 15\n",
    "item2_price = 8\n",
    "total_cost = item1_price * 2 + item2_price * 3\n",
    "print(\"Total cost:\", total_cost)\n"
   ]
  },
  {
   "cell_type": "code",
   "execution_count": null,
   "metadata": {},
   "outputs": [],
   "source": [
    "# Division\n",
    "result_division = num1 / num2\n",
    "print(f\"Division Result: {result_division}\")\n"
   ]
  },
  {
   "cell_type": "code",
   "execution_count": null,
   "metadata": {},
   "outputs": [],
   "source": [
    "# An AI analyzing data and calculating the average value\n",
    "data_sum = 450\n",
    "num_data_points = 30\n",
    "average_value = data_sum / num_data_points\n",
    "print(\"Average value:\", average_value)\n"
   ]
  },
  {
   "cell_type": "code",
   "execution_count": null,
   "metadata": {},
   "outputs": [],
   "source": [
    "# Floor Division\n",
    "result_floor_division = num1 // num2\n",
    "print(f\"Floor Division Result: {result_floor_division}\")\n"
   ]
  },
  {
   "cell_type": "code",
   "execution_count": null,
   "metadata": {},
   "outputs": [],
   "source": [
    "# An AI distributing data points evenly into clusters\n",
    "total_data_points = 100\n",
    "num_clusters = 4\n",
    "data_per_cluster = total_data_points // num_clusters\n",
    "print(\"Data points per cluster:\", data_per_cluster)\n"
   ]
  },
  {
   "cell_type": "code",
   "execution_count": null,
   "metadata": {},
   "outputs": [],
   "source": [
    "# Modulus (Remainder)\n",
    "result_modulus = num1 % num2\n",
    "print(f\"Modulus Result: {result_modulus}\")\n"
   ]
  },
  {
   "cell_type": "code",
   "execution_count": null,
   "metadata": {},
   "outputs": [],
   "source": [
    "# An AI scheduling tasks and calculating time slots\n",
    "total_time = 90\n",
    "task_duration = 20\n",
    "remaining_time = total_time % task_duration\n",
    "print(\"Remaining time:\", remaining_time, \"minutes\")\n"
   ]
  },
  {
   "cell_type": "code",
   "execution_count": null,
   "metadata": {},
   "outputs": [],
   "source": [
    "# Exponentiation\n",
    "result_exponentiation = num1 ** num2\n",
    "print(f\"Exponentiation Result: {result_exponentiation}\")\n"
   ]
  },
  {
   "cell_type": "code",
   "execution_count": null,
   "metadata": {},
   "outputs": [],
   "source": [
    "# An AI calculating the likelihood of an event occurring multiple times\n",
    "event_likelihood = 0.8\n",
    "num_occurrences = 3\n",
    "total_likelihood = event_likelihood ** num_occurrences\n",
    "print(\"Total likelihood:\", total_likelihood)\n"
   ]
  },
  {
   "cell_type": "markdown",
   "metadata": {},
   "source": [
    "Try changing the `num1` and `num2` and run all the operators. "
   ]
  }
 ],
 "metadata": {
  "kernelspec": {
   "display_name": "Python 3",
   "language": "python",
   "name": "python3"
  },
  "language_info": {
   "codemirror_mode": {
    "name": "ipython",
    "version": 3
   },
   "file_extension": ".py",
   "mimetype": "text/x-python",
   "name": "python",
   "nbconvert_exporter": "python",
   "pygments_lexer": "ipython3",
   "version": "3.11.3"
  },
  "orig_nbformat": 4
 },
 "nbformat": 4,
 "nbformat_minor": 2
}
