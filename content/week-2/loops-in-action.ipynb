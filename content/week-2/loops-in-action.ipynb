{
 "cells": [
  {
   "cell_type": "markdown",
   "metadata": {},
   "source": [
    "# Simulating Training of a Neural Network\n",
    "\n",
    "In this notebook, we'll simulate the training of a simple neural network using a gradient descent optimization algorithm."
   ]
  },
  {
   "cell_type": "markdown",
   "metadata": {},
   "source": [
    "## Simulated Training Data\n",
    "\n",
    "Let's start by defining some simulated training data: input data and corresponding target data."
   ]
  },
  {
   "cell_type": "code",
   "execution_count": null,
   "metadata": {},
   "outputs": [],
   "source": [
    "# Simulated training data\n",
    "input_data = [1.0, 2.0, 3.0]\n",
    "target_data = [3.0, 5.0, 7.0]\n",
    "input_data, target_data"
   ]
  },
  {
   "cell_type": "markdown",
   "metadata": {},
   "source": [
    "Imagine you have some data points where you have pairs of input and target values. \n",
    "\n",
    "In your code, the input data is [1.0, 2.0, 3.0] and the corresponding target data is [3.0, 5.0, 7.0]. \n",
    "\n",
    "This means, for example, when the input is 1.0, the expected output or target is 3.0."
   ]
  },
  {
   "cell_type": "markdown",
   "metadata": {},
   "source": [
    "## Initializing Weights and Learning Rate\n",
    "\n",
    "Before training, we initialize the weight and learning rate for our neural network."
   ]
  },
  {
   "cell_type": "code",
   "execution_count": null,
   "metadata": {},
   "outputs": [],
   "source": [
    "# Initialize weights and learning rate\n",
    "weight = 1.0\n",
    "learning_rate = 0.01"
   ]
  },
  {
   "cell_type": "markdown",
   "metadata": {},
   "source": [
    "Think of weights as how much importance we give to the input. \n",
    "\n",
    "In the beginning, we randomly choose a weight, which is like an initial guess. It's 1.0 in your code. \n",
    "\n",
    "This weight will be adjusted during training to minimize the loss. \n",
    "\n",
    "The learning rate (0.01) controls how big steps we take to adjust this weight during training."
   ]
  },
  {
   "cell_type": "markdown",
   "metadata": {},
   "source": [
    "## Training Loop with While\n",
    "\n",
    "Here's where the main process happens. \n",
    "\n",
    "You want to make the weight better so that the prediction gets closer to the target. \n",
    "\n",
    "You repeat this process several times (1000 times in this case), and in each repetition (epoch), you try to improve the weight a little bit."
   ]
  },
  {
   "cell_type": "code",
   "execution_count": null,
   "metadata": {},
   "outputs": [],
   "source": [
    "# Training loop with while\n",
    "epoch = 0\n",
    "while epoch < 1000:\n",
    "    total_loss = 0\n",
    "    i = 0\n",
    "    while i < len(input_data):\n",
    "        # Forward pass\n",
    "        prediction = input_data[i] * weight\n",
    "        # Calculate loss\n",
    "        loss = 0.5 * (prediction - target_data[i])**2\n",
    "        total_loss += loss\n",
    "        # Backpropagation and weight update\n",
    "        gradient = (prediction - target_data[i]) * input_data[i]\n",
    "        weight -= learning_rate * gradient\n",
    "        i += 1\n",
    "    # Print the average loss for this epoch\n",
    "    average_loss = total_loss / len(input_data)\n",
    "    print(f\"Epoch {epoch+1}/{1000}, Average Loss: {average_loss}\")\n",
    "    epoch += 1\n",
    "print(\"Training complete.\")"
   ]
  },
  {
   "cell_type": "markdown",
   "metadata": {},
   "source": [
    "**Inside the Training Loop:**\n",
    "\n",
    "Now, in each epoch, you go through all the data points one by one.\n",
    "\n",
    "**Forward Pass:**\n",
    "\n",
    "`prediction = input_data[i] * weight`\n",
    "\n",
    "For each data point, you multiply the input (1.0, 2.0, or 3.0) by the current weight to make a prediction. \n",
    "\n",
    "For example, if the weight is 1.0 and the input is 1.0, the prediction is 1.0 * 1.0 = 1.0.\n",
    "\n",
    "**Calculate Loss:**\n",
    "\n",
    "`loss = 0.5 * (prediction - target_data[i])**2`\n",
    "\n",
    "`total_loss += loss`\n",
    "\n",
    "You then compare this prediction with the target for that data point. \n",
    "\n",
    "The loss is a measure of how far off your prediction is from the actual target. \n",
    "\n",
    "You square the difference ((prediction - target)^2) and then multiply it by 0.5. \n",
    "\n",
    "This is a common way to measure how bad your prediction is.\n",
    "\n",
    "**Backpropagation and Weight Update:**\n",
    "\n",
    "`gradient = (prediction - target_data[i]) * input_data[i]`\n",
    "\n",
    "`weight -= learning_rate * gradient`\n",
    "\n",
    "The goal is to make the weight better so that the prediction gets closer to the target. \n",
    "\n",
    "Backpropagation is like figuring out how the weight should change to reduce the prediction error. \n",
    "\n",
    "The bigger the error, the bigger the change you need. \n",
    "\n",
    "This change is determined by multiplying the difference between prediction and target by the input value. \n",
    "\n",
    "The learning rate controls how big this change is.\n",
    "\n"
   ]
  },
  {
   "cell_type": "markdown",
   "metadata": {},
   "source": [
    "**After One Epoch:**\n",
    "\n",
    "`average_loss = total_loss / len(input_data)`\n",
    "\n",
    "`print(f\"Epoch {epoch+1}/{1000}, Average Loss: {average_loss}\")`\n",
    "\n",
    "`epoch += 1`\n",
    "\n",
    "After going through all the data points and adjusting the weight a bit for each data point, you calculate the average loss for that epoch. \n",
    "\n",
    "This tells you, on average, how well your weight is performing on the whole dataset. \n",
    "\n",
    "You print this loss to see if it's decreasing with each epoch.\n",
    "\n",
    "**Repeat the Process:**\n",
    "\n",
    "You repeat these steps for a number of epochs (1000 in your code) to gradually improve the weight.\n",
    "\n",
    "The idea is that as you keep adjusting the weight based on the errors, it should get closer and closer to a value that makes predictions close to the targets.\n",
    "\n",
    "**Training Complete:**\n",
    "\n",
    "`print(\"Training complete.\")`\n",
    "\n",
    "Once you've gone through all the epochs, you print \"Training complete,\" indicating that the process of adjusting the weight to fit the data is finished."
   ]
  }
 ],
 "metadata": {
  "kernelspec": {
   "display_name": "Python 3",
   "language": "python",
   "name": "python3"
  },
  "language_info": {
   "codemirror_mode": {
    "name": "ipython",
    "version": 3
   },
   "file_extension": ".py",
   "mimetype": "text/x-python",
   "name": "python",
   "nbconvert_exporter": "python",
   "pygments_lexer": "ipython3",
   "version": "3.11.3"
  },
  "orig_nbformat": 4
 },
 "nbformat": 4,
 "nbformat_minor": 2
}
