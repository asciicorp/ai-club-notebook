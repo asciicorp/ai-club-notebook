{
 "cells": [
  {
   "cell_type": "markdown",
   "metadata": {},
   "source": [
    "# Neural Network Training using Functions\n",
    "\n",
    "Welcome to this Jupyter Notebook where we'll explore the process of training a neural network-like model using custom functions on the example we learnt before"
   ]
  },
  {
   "cell_type": "markdown",
   "metadata": {},
   "source": [
    "## Defining Functions for Training\n",
    "\n",
    "We'll begin by creating some special functions that play a crucial role in training our model."
   ]
  },
  {
   "cell_type": "code",
   "execution_count": null,
   "metadata": {},
   "outputs": [],
   "source": [
    "# Define functions for training\n",
    "def forward_pass(input_value, weight):\n",
    "    return input_value * weight\n",
    "\n",
    "def calculate_loss(prediction, target):\n",
    "    return 0.5 * (prediction - target) ** 2\n",
    "\n",
    "def calculate_gradient(prediction, target, input_value):\n",
    "    return (prediction - target) * input_value\n",
    "\n",
    "def update_weight(weight, gradient, learning_rate):\n",
    "    return weight - learning_rate * gradient"
   ]
  },
  {
   "cell_type": "markdown",
   "metadata": {},
   "source": [
    "In the code above, we defined four functions:\n",
    "- `forward_pass`: This function takes an input value and a weight and calculates the prediction by multiplying them.\n",
    "- `calculate_loss`: Given a prediction and target value, this function computes the loss using a formula.\n",
    "- `calculate_gradient`: With a prediction, target, and input value, this function calculates the gradient for updating the weight.\n",
    "- `update_weight`: This function updates the weight using the gradient and learning rate."
   ]
  },
  {
   "cell_type": "markdown",
   "metadata": {},
   "source": [
    "## Simulated Training Data and Initialization\n",
    "\n",
    "Now, we'll set up some data for training and initialize the weight and hyperparameters."
   ]
  },
  {
   "cell_type": "code",
   "execution_count": null,
   "metadata": {},
   "outputs": [],
   "source": [
    "# Simulated training data\n",
    "input_data = [1.0, 2.0, 3.0]\n",
    "target_data = [3.0, 5.0, 7.0]\n",
    "\n",
    "# Initialize weights and hyperparameters\n",
    "weight = 1.0\n",
    "learning_rate = 0.01\n",
    "num_epochs = 1000"
   ]
  },
  {
   "cell_type": "markdown",
   "metadata": {},
   "source": [
    "We've set up some training data with `input_data` and corresponding `target_data`. Additionally, we've initialized the weight and hyperparameters like `learning_rate` and `num_epochs`."
   ]
  },
  {
   "cell_type": "markdown",
   "metadata": {},
   "source": [
    "## Training Loop using Functions\n",
    "\n",
    "Time for the exciting part! We'll use our custom functions to train the model through multiple epochs."
   ]
  },
  {
   "cell_type": "code",
   "execution_count": null,
   "metadata": {},
   "outputs": [],
   "source": [
    "# Training loop with functions\n",
    "for epoch in range(num_epochs):\n",
    "    total_loss = 0\n",
    "    \n",
    "    for i in range(len(input_data)):\n",
    "        prediction = forward_pass(input_data[i], weight)\n",
    "        loss = calculate_loss(prediction, target_data[i])\n",
    "        total_loss += loss\n",
    "        \n",
    "        gradient = calculate_gradient(prediction, target_data[i], input_data[i])\n",
    "        weight = update_weight(weight, gradient, learning_rate)\n",
    "    \n",
    "    average_loss = total_loss / len(input_data)\n",
    "    print(f\"Epoch {epoch+1}/{num_epochs}, Average Loss: {average_loss}\")\n",
    "\n",
    "print(\"Training complete.\")"
   ]
  },
  {
   "cell_type": "markdown",
   "metadata": {},
   "source": [
    "In this code, we're running a loop for each epoch. Inside the epoch loop, we calculate the prediction using `forward_pass`, compute the loss using `calculate_loss`, update the weight using `update_weight`, and finally print the average loss.\n",
    "\n",
    "As you can see the code looks much simpler and readable."
   ]
  }
 ],
 "metadata": {
  "kernelspec": {
   "display_name": "Python 3",
   "language": "python",
   "name": "python3"
  },
  "language_info": {
   "codemirror_mode": {
    "name": "ipython",
    "version": 3
   },
   "file_extension": ".py",
   "mimetype": "text/x-python",
   "name": "python",
   "nbconvert_exporter": "python",
   "pygments_lexer": "ipython3",
   "version": "3.11.3"
  },
  "orig_nbformat": 4
 },
 "nbformat": 4,
 "nbformat_minor": 2
}
