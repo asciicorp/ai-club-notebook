{
  "cells": [
    {
      "cell_type": "markdown",
      "metadata": {},
      "source": [
        "## Understanding Example\n",
        "\n",
        "Let's go through each line in our example"
      ]
    },
    {
      "cell_type": "code",
      "execution_count": null,
      "metadata": {},
      "outputs": [],
      "source": [
        "# Example: Comparing x and y\n",
        "x = 10\n",
        "y = 5\n",
        "if x > y:\n",
        "    print(\"x is greater than y\")\n",
        "else:\n",
        "    print(\"x is not greater than y\")"
      ]
    },
    {
      "cell_type": "markdown",
      "metadata": {},
      "source": [
        "In this example, we have two variables, `x` and `y`, and we use an if-else statement to compare their values using comparision operator \">\""
      ]
    },
    {
      "cell_type": "markdown",
      "metadata": {},
      "source": [
        "### Line 2-3\n",
        "```python\n",
        "x = 10\n",
        "y = 5\n",
        "```\n",
        "Here, we assign the value `10` to the variable `x` and the value `5` to the variable `y`."
      ]
    },
    {
      "cell_type": "markdown",
      "metadata": {},
      "source": [
        "### Lines 4-6\n",
        "```python\n",
        "if x > y:\n",
        "    print(\"x is greater than y\")\n",
        "else:\n",
        "    print(\"x is not greater than y\")\n",
        "```\n",
        "The `if` statement checks if the condition `x > y` is true. Since `x` is `10` and `y` is `5`, the condition is true, and the indented block of code under the `if` statement is executed. As a result, it prints \"x is greater than y\" on the screen. The `else` block is not executed in this case.\n",
        "\n",
        "Try changing different values for `x` and `y`. Also you can try to change the comparision operator `>` with other operators `<` , `>=`, `<=`, `==` and `!=`"
      ]
    },
    {
      "cell_type": "markdown",
      "metadata": {},
      "source": [
        "## Try running this example AI Bot"
      ]
    },
    {
      "cell_type": "code",
      "execution_count": 1,
      "metadata": {},
      "outputs": [
        {
          "name": "stdout",
          "output_type": "stream",
          "text": [
            "I can provide you with the current weather conditions.\n"
          ]
        }
      ],
      "source": [
        "user_input = \"Hey Google! What's the weather tomorrow\"\n",
        "\n",
        "if \"weather\" in user_input:\n",
        "    print(\"I can provide you with the current weather conditions.\")\n",
        "elif \"news\" in user_input:\n",
        "    print(\"I can fetch the latest news updates for you.\")\n",
        "elif \"joke\" in user_input:\n",
        "    print(\"Would you like to hear a joke? I'm here to make you laugh!\")\n",
        "else:\n",
        "    print(\"I'm sorry, I'm not sure how to respond to that question.\")"
      ]
    },
    {
      "cell_type": "markdown",
      "metadata": {},
      "source": [
        "In this example, the program simulates an AI chatbot that responds to user_input variable. \n",
        "\n",
        "The if-else and else if statements are used to determine the type of query the user is making and provide an appropriate response. \n",
        "\n",
        "If the user mentions \"weather,\" the chatbot responds with a weather-related message. \n",
        "\n",
        "If the user mentions \"news,\" the chatbot responds with a news-related message. \n",
        "\n",
        "If the user mentions \"joke,\" the chatbot offers to tell a joke. \n",
        "\n",
        "If the variable doesn't match any of these specific cases, the else statement provides a generic response."
      ]
    },
    {
      "cell_type": "markdown",
      "metadata": {},
      "source": [
        "## Exercise: Grade Calculator\n",
        "\n",
        "Write a program that takes the scores of four subjects as input and calculates the average grade for a student. Each subject is scored on a scale of 0 to 100, and the grades are classified as follows:\n",
        "\n",
        "- 90 to 100: A\n",
        "- 80 to 89: B\n",
        "- 70 to 79: C\n",
        "- 60 to 69: D\n",
        "- Below 60: F\n",
        "\n",
        "**Instructions:**\n",
        "\n",
        "1. Ask the user to enter the scores for each of the four subjects (Math, Science, English, and History).\n",
        "2. Calculate the average score by summing the four scores and dividing by 4.\n",
        "3. Based on the average score, determine the corresponding grade using if-else statements.\n",
        "4. Display the average score and the corresponding grade.\n",
        "\n",
        "Example Output:\n",
        "\n",
        "Enter the score for Math: 85\n",
        "\n",
        "Enter the score for Science: 92\n",
        "\n",
        "Enter the score for English: 78\n",
        "\n",
        "Enter the score for History: 88\n",
        "\n",
        "Average Score: 85.75\n",
        "\n",
        "Grade: B"
      ]
    }
  ],
  "metadata": {
    "kernelspec": {
      "display_name": "Python 3",
      "language": "python",
      "name": "python3"
    },
    "language_info": {
      "codemirror_mode": {
        "name": "ipython",
        "version": 3
      },
      "file_extension": ".py",
      "mimetype": "text/x-python",
      "name": "python",
      "nbconvert_exporter": "python",
      "pygments_lexer": "ipython3",
      "version": "3.11.3"
    },
    "orig_nbformat": 4
  },
  "nbformat": 4,
  "nbformat_minor": 2
}
