{
  "cells": [
    {
      "cell_type": "markdown",
      "metadata": {},
      "source": [
        "## Example (Conditional Statements: if, else):\n",
        "\n",
        "The following code requests the user to enter his or her marks, and stores the entered marks as a variable 'Marks'. "
      ]
    },
    {
      "cell_type": "code",
      "execution_count": null,
      "metadata": {
        "trusted": true
      },
      "outputs": [],
      "source": [
        "# Input the Marks\n",
        "marks= await input(\"Please Enter Your Marks: \")"
      ]
    },
    {
      "cell_type": "code",
      "execution_count": null,
      "metadata": {},
      "outputs": [],
      "source": [
        "marks = int(marks)"
      ]
    },
    {
      "cell_type": "markdown",
      "metadata": {},
      "source": [
        "The following code prints \"Unfortunately, you are required to resit for the exam\" if the entered mark is less than 40.\n",
        "\n",
        "Else, it prints \"You have satisfied the minimum requirement\". "
      ]
    },
    {
      "cell_type": "code",
      "execution_count": null,
      "metadata": {
        "trusted": true
      },
      "outputs": [],
      "source": [
        "# Example: Conditional Statements: if, else\n",
        "marks=50\n",
        "if marks < 40:\n",
        "    print(\"Unfortunately, you are required to resit for the exam\")\n",
        "else:\n",
        "    print(\"You have satisfied the minimum requirement\")"
      ]
    },
    {
      "cell_type": "markdown",
      "metadata": {},
      "source": [
        "## Example (Conditional Statements: if, elif, else):\n",
        "\n",
        "If multiple conditions are involved, we need to use else if (elif) as follows.\n",
        "\n",
        "As we can see, the code starts with if, and ends with else. In between, there can be any number of elif statements."
      ]
    },
    {
      "cell_type": "code",
      "execution_count": null,
      "metadata": {
        "trusted": true
      },
      "outputs": [],
      "source": [
        "marks=65\n",
        "if marks < 40:\n",
        "    print(\"Unfortunately, you are required to resit for the exam\")\n",
        "elif 40<= marks < 60:\n",
        "    print(\"Congratulations! You have obtained a Pass grade\")\n",
        "elif 60<= marks < 75:\n",
        "    print(\"Congratulations! You have obtained a Merrit grade\")\n",
        "else:\n",
        "    print(\"Congratulations! You have obtained a Distinction\")"
      ]
    },
    {
      "cell_type": "markdown",
      "metadata": {},
      "source": [
        "## Example (with == operator):\n",
        "\n",
        "The following example demonstrates the use of double equal '==' operator. \n",
        "\n",
        "This code prints \"System is marginally stable\" if the 'z' value you entered is exaclty euqaul to one. "
      ]
    },
    {
      "cell_type": "code",
      "execution_count": null,
      "metadata": {
        "trusted": true
      },
      "outputs": [],
      "source": [
        "input_z= await input(\"Please Enter the z value: \")\n"
      ]
    },
    {
      "cell_type": "code",
      "execution_count": null,
      "metadata": {},
      "outputs": [],
      "source": [
        "input_z = int(input_z)"
      ]
    },
    {
      "cell_type": "code",
      "execution_count": null,
      "metadata": {
        "trusted": true
      },
      "outputs": [],
      "source": [
        "z=1\n",
        "if z < 1.0:\n",
        "    print(\"System is stable\")\n",
        "elif z == 1.0:\n",
        "    print(\"System is marginally stable\")\n",
        "else:\n",
        "    print(\"System is unstable\")"
      ]
    },
    {
      "cell_type": "markdown",
      "metadata": {
        "tags": []
      },
      "source": [
        "## Practice Exercise: Grade Calculator\n",
        "\n",
        "Write a program that takes the scores of four subjects as input and calculates the average grade for a student. Each subject is scored on a scale of 0 to 100, and the grades are classified as follows:\n",
        "\n",
        "- 90 to 100: A\n",
        "- 80 to 89: B\n",
        "- 70 to 79: C\n",
        "- 60 to 69: D\n",
        "- Below 60: F\n",
        "\n",
        "**Instructions:**\n",
        "\n",
        "1. Ask the user to enter the scores for each of the four subjects (Math, Science, English, and History).\n",
        "2. Calculate the average score by summing the four scores and dividing by 4.\n",
        "3. Based on the average score, determine the corresponding grade using if-else statements.\n",
        "4. Display the average score and the corresponding grade.\n",
        "\n",
        "Example Output:\n",
        "\n",
        "Enter the score for Math: 85\n",
        "\n",
        "Enter the score for Science: 92\n",
        "\n",
        "Enter the score for English: 78\n",
        "\n",
        "Enter the score for History: 88\n",
        "\n",
        "Average Score: 85.75\n",
        "\n",
        "Grade: B"
      ]
    }
  ],
  "metadata": {
    "kernelspec": {
      "display_name": "Python (Pyodide)",
      "language": "python",
      "name": "python"
    },
    "language_info": {
      "codemirror_mode": {
        "name": "python",
        "version": 3
      },
      "file_extension": ".py",
      "mimetype": "text/x-python",
      "name": "python",
      "nbconvert_exporter": "python",
      "pygments_lexer": "ipython3",
      "version": "3.8"
    }
  },
  "nbformat": 4,
  "nbformat_minor": 4
}
