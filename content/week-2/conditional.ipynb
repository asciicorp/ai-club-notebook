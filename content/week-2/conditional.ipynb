{
  "metadata": {
    "kernelspec": {
      "name": "python",
      "display_name": "Python (Pyodide)",
      "language": "python"
    },
    "language_info": {
      "codemirror_mode": {
        "name": "python",
        "version": 3
      },
      "file_extension": ".py",
      "mimetype": "text/x-python",
      "name": "python",
      "nbconvert_exporter": "python",
      "pygments_lexer": "ipython3",
      "version": "3.8"
    }
  },
  "nbformat_minor": 4,
  "nbformat": 4,
  "cells": [
    {
      "cell_type": "markdown",
      "source": "## Example (Conditional Statements: if, else):\n\nThe following code requests the user to enter his or her marks, and stores the entered marks as a variable 'Marks'. ",
      "metadata": {}
    },
    {
      "cell_type": "code",
      "source": "# Input the Marks\nMarks= input(\"Please Enter Your Marks: \")",
      "metadata": {
        "trusted": true
      },
      "execution_count": 1,
      "outputs": [
        {
          "output_type": "stream",
          "name": "stdin",
          "text": "Please Enter Your Marks:  50\n"
        }
      ]
    },
    {
      "cell_type": "markdown",
      "source": "The following code prints \"Unfortunately, you are required to resit for the exam\" if the entered mark is less than 40.\n\nElse, it prints \"You have satisfied the minimum requirement\". ",
      "metadata": {}
    },
    {
      "cell_type": "code",
      "source": "# Example: Conditional Statements: if, else\nMarks=50\nif Marks < 40:\n    print(\"Unfortunately, you are required to resit for the exam\")\nelse:\n    print(\"You have satisfied the minimum requirement\")",
      "metadata": {
        "trusted": true
      },
      "execution_count": 3,
      "outputs": [
        {
          "name": "stdout",
          "text": "You have satisfied the minimum requirement\n",
          "output_type": "stream"
        }
      ]
    },
    {
      "cell_type": "markdown",
      "source": "## Example (Conditional Statements: if, elif, else):\n\nIf multiple conditions are involved, we need to use else if (elif) as follows.\n\nAs we can see, the code starts with if, and ends with else. In between, there can be any number of elif statements.",
      "metadata": {}
    },
    {
      "cell_type": "code",
      "source": "Marks=65\nif Marks < 40:\n    print(\"Unfortunately, you are required to resit for the exam\")\nelif 40<= Marks < 60:\n    print(\"Congratulations! You have obtained a Pass grade\")\nelif 60<= Marks < 75:\n    print(\"Congratulations! You have obtained a Merrit grade\")\nelse:\n    print(\"Congratulations! You have obtained a Distinction\")",
      "metadata": {
        "trusted": true
      },
      "execution_count": 8,
      "outputs": [
        {
          "name": "stdout",
          "text": "Congratulations! You have obtained a Merrit grade\n",
          "output_type": "stream"
        }
      ]
    },
    {
      "cell_type": "markdown",
      "source": "## Example (with == operator):\n\nThe following example demonstrates the use of double equal '==' operator. \n\nThis code prints \"System is marginally stable\" if the 'z' value you entered is exaclty euqaul to one. ",
      "metadata": {}
    },
    {
      "cell_type": "code",
      "source": "Input_z= input(\"Please Enter the z value: \")\n",
      "metadata": {
        "trusted": true
      },
      "execution_count": 4,
      "outputs": [
        {
          "output_type": "stream",
          "name": "stdin",
          "text": "Please Enter the z value:  1\n"
        }
      ]
    },
    {
      "cell_type": "code",
      "source": "z=1\nif z < 1.0:\n    print(\"System is stable\")\nelif z == 1.0:\n    print(\"System is marginally stable\")\nelse:\n    print(\"System is unstable\")",
      "metadata": {
        "trusted": true
      },
      "execution_count": 9,
      "outputs": [
        {
          "name": "stdout",
          "text": "System is marginally stable\n",
          "output_type": "stream"
        }
      ]
    },
    {
      "cell_type": "markdown",
      "source": "## Practice Exercise: Grade Calculator\n\nWrite a program that takes the scores of four subjects as input and calculates the average grade for a student. Each subject is scored on a scale of 0 to 100, and the grades are classified as follows:\n\n- 90 to 100: A\n- 80 to 89: B\n- 70 to 79: C\n- 60 to 69: D\n- Below 60: F\n\n**Instructions:**\n\n1. Ask the user to enter the scores for each of the four subjects (Math, Science, English, and History).\n2. Calculate the average score by summing the four scores and dividing by 4.\n3. Based on the average score, determine the corresponding grade using if-else statements.\n4. Display the average score and the corresponding grade.\n\nExample Output:\n\nEnter the score for Math: 85\n\nEnter the score for Science: 92\n\nEnter the score for English: 78\n\nEnter the score for History: 88\n\nAverage Score: 85.75\n\nGrade: B",
      "metadata": {
        "tags": []
      }
    }
  ]
}