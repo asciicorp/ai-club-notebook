{
 "cells": [
  {
   "cell_type": "markdown",
   "metadata": {},
   "source": [
    "# Understanding Variables in Python\n",
    "\n",
    "In this notebook, we'll learn about variables in Python through simple examples. Variables are like containers that hold different types of data."
   ]
  },
  {
   "cell_type": "markdown",
   "metadata": {},
   "source": [
    "## Storing Different Types of Data\n",
    "\n",
    "In programming, variables allow us to store and work with different types of data. Let's look at some examples."
   ]
  },
  {
   "cell_type": "code",
   "execution_count": null,
   "metadata": {},
   "outputs": [],
   "source": [
    "# Storing a Name\n",
    "Name = \"Logee\"\n",
    "print(\"Name:\", Name)"
   ]
  },
  {
   "cell_type": "markdown",
   "metadata": {},
   "source": [
    "In the code above, we stored a name in a variable called `Name`. The name is enclosed in double quotes because it's a piece of text or a string. "
   ]
  },
  {
   "cell_type": "code",
   "execution_count": null,
   "metadata": {},
   "outputs": [],
   "source": [
    "# Storing an Age\n",
    "Age = 25\n"
   ]
  },
  {
   "cell_type": "markdown",
   "metadata": {},
   "source": [
    "Next, we stored an age in a variable called `Age`. Unlike the name, an age is a number, so we don't need quotes. "
   ]
  },
  {
   "cell_type": "code",
   "execution_count": null,
   "metadata": {},
   "outputs": [],
   "source": [
    "# Storing Weight\n",
    "Weight = 60.65"
   ]
  },
  {
   "cell_type": "markdown",
   "metadata": {},
   "source": [
    "Here, we stored a weight in a variable called `Weight`. The weight has a decimal point, so it's called a floating-point number or a float."
   ]
  },
  {
   "cell_type": "code",
   "execution_count": null,
   "metadata": {},
   "outputs": [],
   "source": [
    "# Storing Gender\n",
    "Gender = True  # True usually means Male"
   ]
  },
  {
   "cell_type": "markdown",
   "metadata": {},
   "source": [
    "Lastly, we stored a gender in a variable called `Gender`. We used the value `True` to represent male. In programming, `True` and `False` are special values called booleans."
   ]
  },
  {
   "cell_type": "markdown",
   "metadata": {},
   "source": [
    "## Using Print Statement\n",
    "\n",
    "In Python, we can use print statement to display the variable in screen"
   ]
  },
  {
   "cell_type": "code",
   "execution_count": null,
   "metadata": {},
   "outputs": [],
   "source": [
    "print(Name)\n",
    "print(Age)\n",
    "print(Weight)\n",
    "print(Gender)"
   ]
  },
  {
   "cell_type": "markdown",
   "metadata": {},
   "source": [
    "## Using f-strings\n",
    "\n",
    "In Python, we can use f-strings to create dynamic strings that include variables' values."
   ]
  },
  {
   "cell_type": "code",
   "execution_count": null,
   "metadata": {},
   "outputs": [],
   "source": [
    "# Using f-strings\n",
    "print(f\"Hello, my name is {Name} and I am {Age} years old. My weight is {Weight} kg\")"
   ]
  },
  {
   "cell_type": "markdown",
   "metadata": {},
   "source": [
    "In the code above, we used an f-string to create a sentence that includes the values of the `Name`,`Age` and `Weight` variables. The `{}` placeholders are replaced with the actual values when the string is printed."
   ]
  },
  {
   "cell_type": "markdown",
   "metadata": {},
   "source": [
    "## The `type()` Function\n",
    "\n",
    "The `type()` function is used to determine the type of a variable."
   ]
  },
  {
   "cell_type": "code",
   "execution_count": null,
   "metadata": {},
   "outputs": [],
   "source": [
    "# Using the type() function\n",
    "print(type(Name))\n",
    "print(type(Age))\n",
    "print(type(Weight))\n",
    "print(type(Gender))"
   ]
  },
  {
   "cell_type": "markdown",
   "metadata": {},
   "source": [
    "In the code above, we used the `type()` function to determine the types of the variables we assigned earlier, The function returns the types of the variables as outputs."
   ]
  },
  {
   "cell_type": "markdown",
   "metadata": {},
   "source": [
    "## The `input()` Function\n",
    "\n",
    "The `input()` function is used to get the input from user."
   ]
  },
  {
   "cell_type": "code",
   "execution_count": null,
   "metadata": {},
   "outputs": [],
   "source": [
    "Name = input(\"Please Enter Your Name: \")"
   ]
  },
  {
   "cell_type": "code",
   "execution_count": null,
   "metadata": {},
   "outputs": [],
   "source": [
    "print(Name)"
   ]
  },
  {
   "cell_type": "markdown",
   "metadata": {},
   "source": [
    "## Exercise"
   ]
  },
  {
   "cell_type": "markdown",
   "metadata": {},
   "source": [
    "Save patient name, age, body temperature and print it to screen in the below format. \n",
    "\n",
    "`Hi Logee! Your age is 25 and your body temperature is 30 celcius`"
   ]
  },
  {
   "cell_type": "code",
   "execution_count": null,
   "metadata": {},
   "outputs": [],
   "source": []
  }
 ],
 "metadata": {
  "kernelspec": {
   "display_name": "Python 3",
   "language": "python",
   "name": "python3"
  },
  "language_info": {
   "codemirror_mode": {
    "name": "ipython",
    "version": 3
   },
   "file_extension": ".py",
   "mimetype": "text/x-python",
   "name": "python",
   "nbconvert_exporter": "python",
   "pygments_lexer": "ipython3",
   "version": "3.11.3"
  },
  "orig_nbformat": 4
 },
 "nbformat": 4,
 "nbformat_minor": 2
}
