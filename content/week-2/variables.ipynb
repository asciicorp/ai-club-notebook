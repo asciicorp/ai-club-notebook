{
  "metadata": {
    "kernelspec": {
      "name": "python",
      "display_name": "Python (Pyodide)",
      "language": "python"
    },
    "language_info": {
      "codemirror_mode": {
        "name": "python",
        "version": 3
      },
      "file_extension": ".py",
      "mimetype": "text/x-python",
      "name": "python",
      "nbconvert_exporter": "python",
      "pygments_lexer": "ipython3",
      "version": "3.8"
    }
  },
  "nbformat_minor": 4,
  "nbformat": 4,
  "cells": [
    {
      "cell_type": "markdown",
      "source": "# Understanding Variables in Python\n\nWhat you see here is the JupyterLab Notebook. It is a web-based interactive development environment for code and data. In this notebook, we'll learn about variables used in Python programming through simple examples. Variables are like containers that hold different types of data.",
      "metadata": {}
    },
    {
      "cell_type": "markdown",
      "source": "## Storing Different Types of Data\n\nIn programming, variables allow us to store and work with different types of data. \n\nFirst let's look at how to store a string variable. ",
      "metadata": {}
    },
    {
      "cell_type": "code",
      "source": "# Storing a string variable\nName = \"Mike\"\nprint(\"Name:\", Name)",
      "metadata": {
        "trusted": true
      },
      "execution_count": 1,
      "outputs": [
        {
          "name": "stdout",
          "text": "Name: Mike\n",
          "output_type": "stream"
        }
      ]
    },
    {
      "cell_type": "markdown",
      "source": "In the code above,\n\nThe line starts with a `#` is a comment. Comments are lines of text meant for human readers to provide explanations, clarifications, or notes about the code. \n\nWe stored a string variable in a variable called `Name`. The name is enclosed in double quotes because it's a piece of text or a string. \n\nThe print() function is used in Python to display the text or values you provide within the parentheses.",
      "metadata": {}
    },
    {
      "cell_type": "code",
      "source": "# Storing an integer variable\nAge = 25\nprint(\"Age:\", Age)",
      "metadata": {
        "trusted": true
      },
      "execution_count": 2,
      "outputs": [
        {
          "name": "stdout",
          "text": "Age: 25\n",
          "output_type": "stream"
        }
      ]
    },
    {
      "cell_type": "markdown",
      "source": "In the above code, we stored an integer variable in a variable called `Age`. Note that quotes are not used when storing an integer variable. The same applies to float variables such as height in meters. ",
      "metadata": {}
    },
    {
      "cell_type": "code",
      "source": "# Storing a float variable\nHeight = 1.78\nprint(\"Height:\", Height)",
      "metadata": {
        "trusted": true
      },
      "execution_count": 3,
      "outputs": [
        {
          "name": "stdout",
          "text": "Height: 1.78\n",
          "output_type": "stream"
        }
      ]
    },
    {
      "cell_type": "markdown",
      "source": "Here, we stored a float variable in a variable called `Height`. The height in meters is a decimal number. Such numbers are called floating-point numbers or float.",
      "metadata": {}
    },
    {
      "cell_type": "code",
      "source": "# Storing a boolean variable\nDubai_Resident = True  # True usually means Yes\nprint(\"Dubai_Resident:\", Dubai_Resident)",
      "metadata": {
        "trusted": true
      },
      "execution_count": 4,
      "outputs": [
        {
          "name": "stdout",
          "text": "Dubai_Resident: True\n",
          "output_type": "stream"
        }
      ]
    },
    {
      "cell_type": "markdown",
      "source": "Lastly, we stored a boolean variable in a variable called `Dubai_Resident`. We used the value `True` to represent Yes. In programming, `True` and `False` are special values called booleans.",
      "metadata": {}
    },
    {
      "cell_type": "markdown",
      "source": "## Using f-strings\n\nIn Python, we can use f-strings to create dynamic strings that include variables' values.",
      "metadata": {}
    },
    {
      "cell_type": "code",
      "source": "# Using f-strings\nprint(f\"Hello, my name is {Name} and I am {Age} years old. My height is {Height} meters\")",
      "metadata": {
        "trusted": true
      },
      "execution_count": 5,
      "outputs": [
        {
          "name": "stdout",
          "text": "Hello, my name is Mike and I am 25 years old. My height is 1.78 meters\n",
          "output_type": "stream"
        }
      ]
    },
    {
      "cell_type": "markdown",
      "source": "In the code above, we used an f-string to create a sentence that includes the values of the `Name`,`Age` and `Height` variables. The `{}` placeholders are replaced with the actual values when the string is printed.",
      "metadata": {}
    },
    {
      "cell_type": "markdown",
      "source": "## The `type()` Function\n\nThe `type()` function is used to determine the type of a variable.",
      "metadata": {}
    },
    {
      "cell_type": "code",
      "source": "# Using the type() function\nprint(type(Name))\nprint(type(Age))\nprint(type(Height))\nprint(type(Dubai_Resident))",
      "metadata": {
        "trusted": true
      },
      "execution_count": 7,
      "outputs": [
        {
          "name": "stdout",
          "text": "<class 'str'>\n<class 'int'>\n<class 'float'>\n<class 'bool'>\n",
          "output_type": "stream"
        }
      ]
    },
    {
      "cell_type": "markdown",
      "source": "In the code above, we used the `type()` function to determine the types of the variables we assigned earlier, The function returns the types of the variables as outputs.",
      "metadata": {}
    },
    {
      "cell_type": "markdown",
      "source": "## The `input()` Function\n\nThe `input()` function is used to get the input from the user.",
      "metadata": {}
    },
    {
      "cell_type": "code",
      "source": "Name = input(\"Please Enter Your Name: \")",
      "metadata": {
        "trusted": true
      },
      "execution_count": 8,
      "outputs": [
        {
          "output_type": "stream",
          "name": "stdin",
          "text": "Please Enter Your Name:  Donald\n"
        }
      ]
    },
    {
      "cell_type": "code",
      "source": "print(Name)",
      "metadata": {
        "trusted": true
      },
      "execution_count": 9,
      "outputs": [
        {
          "name": "stdout",
          "text": "<PyodideFuture finished result='Donald'>\n",
          "output_type": "stream"
        }
      ]
    },
    {
      "cell_type": "markdown",
      "source": "## Exercise",
      "metadata": {}
    },
    {
      "cell_type": "markdown",
      "source": "Save the patient name, age, body temperature and print it to screen in the below format. \n\n`Hi Donald! Your age is 28 and your body temperature is 36.6 degrees Celcius`",
      "metadata": {}
    },
    {
      "cell_type": "code",
      "source": "",
      "metadata": {},
      "execution_count": null,
      "outputs": []
    }
  ]
}