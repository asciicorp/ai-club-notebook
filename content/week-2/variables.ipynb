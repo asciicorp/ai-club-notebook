{
  "metadata": {
    "kernelspec": {
      "name": "python",
      "display_name": "Python (Pyodide)",
      "language": "python"
    },
    "language_info": {
      "codemirror_mode": {
        "name": "python",
        "version": 3
      },
      "file_extension": ".py",
      "mimetype": "text/x-python",
      "name": "python",
      "nbconvert_exporter": "python",
      "pygments_lexer": "ipython3",
      "version": "3.8"
    }
  },
  "nbformat_minor": 4,
  "nbformat": 4,
  "cells": [
    {
      "cell_type": "markdown",
      "source": "# Understanding Variables in Python\n\nWhat you see here is JupyterLab Notebook. It is a web-based interactive development environment for code, and data. In this notebook, we'll learn about variables in Python through simple examples. Variables are like containers that hold different types of data.",
      "metadata": {}
    },
    {
      "cell_type": "markdown",
      "source": "## Storing Different Types of Data\n\nIn programming, variables allow us to store and work with different types of data. Let's look at some examples.",
      "metadata": {}
    },
    {
      "cell_type": "code",
      "source": "# Storing a Name\nName = \"Logee\"\nprint(\"Name:\", Name)",
      "metadata": {
        "trusted": true
      },
      "execution_count": 1,
      "outputs": [
        {
          "name": "stdout",
          "text": "Name: Logee\n",
          "output_type": "stream"
        }
      ]
    },
    {
      "cell_type": "markdown",
      "source": "In the code above, we stored a name in a variable called `Name`. The name is enclosed in double quotes because it's a piece of text or a string. ",
      "metadata": {}
    },
    {
      "cell_type": "code",
      "source": "# Storing an Age\nAge = 25\n",
      "metadata": {
        "trusted": true
      },
      "execution_count": 2,
      "outputs": []
    },
    {
      "cell_type": "markdown",
      "source": "Next, we stored an age in a variable called `Age`. Unlike the name, an age is a number, so we don't need quotes. ",
      "metadata": {}
    },
    {
      "cell_type": "code",
      "source": "# Storing a Height\nHeight = 1.78",
      "metadata": {
        "trusted": true
      },
      "execution_count": 3,
      "outputs": []
    },
    {
      "cell_type": "markdown",
      "source": "Here, we stored a height in a variable called `Height`. The height in meters is a decimal number. Such numbers are called floating-point numbers or float.",
      "metadata": {}
    },
    {
      "cell_type": "code",
      "source": "# Storing Gender\nGender = True  # True usually means Male",
      "metadata": {
        "trusted": true
      },
      "execution_count": 5,
      "outputs": []
    },
    {
      "cell_type": "markdown",
      "source": "Lastly, we stored a gender in a variable called `Gender`. We used the value `True` to represent male. In programming, `True` and `False` are special values called booleans.",
      "metadata": {}
    },
    {
      "cell_type": "markdown",
      "source": "## Using Print Statement\n\nIn Python, we can use print statement to display the variable on the screen",
      "metadata": {}
    },
    {
      "cell_type": "code",
      "source": "print(Name)\nprint(Age)\nprint(Height)\nprint(Gender)",
      "metadata": {
        "trusted": true
      },
      "execution_count": 6,
      "outputs": [
        {
          "name": "stdout",
          "text": "Logee\n25\n1.78\nTrue\n",
          "output_type": "stream"
        }
      ]
    },
    {
      "cell_type": "markdown",
      "source": "## Using f-strings\n\nIn Python, we can use f-strings to create dynamic strings that include variables' values.",
      "metadata": {}
    },
    {
      "cell_type": "code",
      "source": "# Using f-strings\nprint(f\"Hello, my name is {Name} and I am {Age} years old. My height is {Height} meters\")",
      "metadata": {
        "trusted": true
      },
      "execution_count": 7,
      "outputs": [
        {
          "name": "stdout",
          "text": "Hello, my name is Logee and I am 25 years old. My height is 1.78 meters\n",
          "output_type": "stream"
        }
      ]
    },
    {
      "cell_type": "markdown",
      "source": "In the code above, we used an f-string to create a sentence that includes the values of the `Name`,`Age` and `Weight` variables. The `{}` placeholders are replaced with the actual values when the string is printed.",
      "metadata": {}
    },
    {
      "cell_type": "markdown",
      "source": "## The `type()` Function\n\nThe `type()` function is used to determine the type of a variable.",
      "metadata": {}
    },
    {
      "cell_type": "code",
      "source": "# Using the type() function\nprint(type(Name))\nprint(type(Age))\nprint(type(Height))\nprint(type(Gender))",
      "metadata": {
        "trusted": true
      },
      "execution_count": 8,
      "outputs": [
        {
          "name": "stdout",
          "text": "<class 'str'>\n<class 'int'>\n<class 'float'>\n<class 'bool'>\n",
          "output_type": "stream"
        }
      ]
    },
    {
      "cell_type": "markdown",
      "source": "In the code above, we used the `type()` function to determine the types of the variables we assigned earlier, The function returns the types of the variables as outputs.",
      "metadata": {}
    },
    {
      "cell_type": "markdown",
      "source": "## The `input()` Function\n\nThe `input()` function is used to get the input from the user.",
      "metadata": {}
    },
    {
      "cell_type": "code",
      "source": "Name = input(\"Please Enter Your Name: \")",
      "metadata": {
        "trusted": true
      },
      "execution_count": 9,
      "outputs": [
        {
          "output_type": "stream",
          "name": "stdin",
          "text": "Please Enter Your Name:  Logee\n"
        }
      ]
    },
    {
      "cell_type": "code",
      "source": "print(Name)",
      "metadata": {
        "trusted": true
      },
      "execution_count": 10,
      "outputs": [
        {
          "name": "stdout",
          "text": "<PyodideFuture finished result='Logee'>\n",
          "output_type": "stream"
        }
      ]
    },
    {
      "cell_type": "markdown",
      "source": "## Exercise",
      "metadata": {}
    },
    {
      "cell_type": "markdown",
      "source": "Save the patient name, age, body temperature and print it to screen in the below format. \n\n`Hi Logee! Your age is 25 and your body temperature is 36.6 degrees Celcius`",
      "metadata": {}
    },
    {
      "cell_type": "code",
      "source": "Name=\"Logee\"\nAge=25\nTemperature=36.6\nprint(f\"Hi {Name} ! Your age is {Age} and your body temperature is {Temperature} degree Celcius\")",
      "metadata": {
        "trusted": true
      },
      "execution_count": 11,
      "outputs": [
        {
          "name": "stdout",
          "text": "Hi Logee ! Your age is 25 and your body temperature is 36.6 degree celcius\n",
          "output_type": "stream"
        }
      ]
    },
    {
      "cell_type": "code",
      "source": "",
      "metadata": {},
      "execution_count": null,
      "outputs": []
    }
  ]
}