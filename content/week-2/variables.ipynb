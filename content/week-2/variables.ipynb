{
  "cells": [
    {
      "cell_type": "markdown",
      "metadata": {},
      "source": [
        "# Understanding Variables in Python\n",
        "\n",
        "What you see here is the JupyterLab Notebook. It is a web-based interactive development environment for code and data. In this notebook, we'll learn about variables used in Python programming through simple examples. Variables are like containers that hold different types of data."
      ]
    },
    {
      "cell_type": "markdown",
      "metadata": {},
      "source": [
        "## Storing Different Types of Data\n",
        "\n",
        "In programming, variables allow us to store and work with different types of data. \n",
        "\n",
        "First let's look at how to store a string variable. "
      ]
    },
    {
      "cell_type": "code",
      "execution_count": null,
      "metadata": {
        "trusted": true
      },
      "outputs": [],
      "source": [
        "# Storing a string variable\n",
        "name = \"Mike\"\n",
        "print(\"Name:\", name)"
      ]
    },
    {
      "cell_type": "markdown",
      "metadata": {},
      "source": [
        "In the code above,\n",
        "\n",
        "The line starts with a `#` is a comment. Comments are lines of text meant for human readers to provide explanations, clarifications, or notes about the code. \n",
        "\n",
        "We stored a string variable in a variable called `Name`. The name is enclosed in double quotes because it's a piece of text or a string. \n",
        "\n",
        "The print() function is used in Python to display the text or values you provide within the parentheses."
      ]
    },
    {
      "cell_type": "code",
      "execution_count": null,
      "metadata": {
        "trusted": true
      },
      "outputs": [],
      "source": [
        "# Storing an integer variable\n",
        "age = 25\n",
        "print(\"Age:\", age)"
      ]
    },
    {
      "cell_type": "markdown",
      "metadata": {},
      "source": [
        "In the above code, we stored an integer variable in a variable called `Age`. Note that quotes are not used when storing an integer variable. The same applies to float variables such as height in meters. "
      ]
    },
    {
      "cell_type": "code",
      "execution_count": null,
      "metadata": {
        "trusted": true
      },
      "outputs": [],
      "source": [
        "# Storing a float variable\n",
        "height = 1.78\n",
        "print(\"Height:\", height)"
      ]
    },
    {
      "cell_type": "markdown",
      "metadata": {},
      "source": [
        "Here, we stored a float variable in a variable called `Height`. The height in meters is a decimal number. Such numbers are called floating-point numbers or float."
      ]
    },
    {
      "cell_type": "code",
      "execution_count": null,
      "metadata": {
        "trusted": true
      },
      "outputs": [],
      "source": [
        "# Storing a boolean variable\n",
        "dubai_resident = True  # True usually means Yes\n",
        "print(\"Dubai_Resident:\", dubai_resident)"
      ]
    },
    {
      "cell_type": "markdown",
      "metadata": {},
      "source": [
        "Lastly, we stored a boolean variable in a variable called `Dubai_Resident`. We used the value `True` to represent Yes. In programming, `True` and `False` are special values called booleans."
      ]
    },
    {
      "cell_type": "markdown",
      "metadata": {},
      "source": [
        "## Using f-strings\n",
        "\n",
        "In Python, we can use f-strings to create dynamic strings that include variables' values."
      ]
    },
    {
      "cell_type": "code",
      "execution_count": null,
      "metadata": {
        "trusted": true
      },
      "outputs": [],
      "source": [
        "# Using f-strings\n",
        "print(f\"Hello, my name is {name} and I am {age} years old. My height is {height} meters\")"
      ]
    },
    {
      "cell_type": "markdown",
      "metadata": {},
      "source": [
        "In the code above, we used an f-string to create a sentence that includes the values of the `Name`,`Age` and `Height` variables. The `{}` placeholders are replaced with the actual values when the string is printed."
      ]
    },
    {
      "cell_type": "markdown",
      "metadata": {},
      "source": [
        "## The `type()` Function\n",
        "\n",
        "The `type()` function is used to determine the type of a variable."
      ]
    },
    {
      "cell_type": "code",
      "execution_count": null,
      "metadata": {
        "trusted": true
      },
      "outputs": [],
      "source": [
        "# Using the type() function\n",
        "print(type(name))\n",
        "print(type(age))\n",
        "print(type(height))\n",
        "print(type(dubai_resident))"
      ]
    },
    {
      "cell_type": "markdown",
      "metadata": {},
      "source": [
        "In the code above, we used the `type()` function to determine the types of the variables we assigned earlier, The function returns the types of the variables as outputs."
      ]
    },
    {
      "cell_type": "markdown",
      "metadata": {},
      "source": [
        "## The `input()` Function\n",
        "\n",
        "The `input()` function is used to get the input from the user. The input is always taken as a string value."
      ]
    },
    {
      "cell_type": "code",
      "execution_count": null,
      "metadata": {
        "trusted": true
      },
      "outputs": [],
      "source": [
        "name = input(\"Please Enter Your Name: \")"
      ]
    },
    {
      "cell_type": "code",
      "execution_count": null,
      "metadata": {
        "trusted": true
      },
      "outputs": [],
      "source": [
        "print(name)"
      ]
    },
    {
      "cell_type": "markdown",
      "metadata": {},
      "source": [
        "The prefix `<PyodideFuture finished result=' '>` appears when we print the name because we're using a Jupyter notebook to get user input, and it's showing us the result of a special operation performed by the notebook."
      ]
    },
    {
      "cell_type": "markdown",
      "metadata": {},
      "source": [
        "We can avoid it by using `await input()`. Let's use it and print it and see the difference."
      ]
    },
    {
      "cell_type": "code",
      "execution_count": null,
      "metadata": {},
      "outputs": [],
      "source": [
        "name_with_await = await input(\"Please Enter Your Name: \")"
      ]
    },
    {
      "cell_type": "code",
      "execution_count": null,
      "metadata": {},
      "outputs": [],
      "source": [
        "print(name_with_await)"
      ]
    },
    {
      "cell_type": "markdown",
      "metadata": {},
      "source": [
        "Now you can clearly see the difference. We'll use `await input()` here after to take the input."
      ]
    },
    {
      "cell_type": "markdown",
      "metadata": {},
      "source": [
        "## Exercise"
      ]
    },
    {
      "cell_type": "markdown",
      "metadata": {},
      "source": [
        "Save the patient name, age, body temperature and print it to screen in the below format. \n",
        "\n",
        "`Hi Donald! Your age is 28 and your body temperature is 36.6 degrees Celcius`"
      ]
    },
    {
      "cell_type": "code",
      "execution_count": null,
      "metadata": {},
      "outputs": [],
      "source": []
    }
  ],
  "metadata": {
    "kernelspec": {
      "display_name": "Python (Pyodide)",
      "language": "python",
      "name": "python"
    },
    "language_info": {
      "codemirror_mode": {
        "name": "python",
        "version": 3
      },
      "file_extension": ".py",
      "mimetype": "text/x-python",
      "name": "python",
      "nbconvert_exporter": "python",
      "pygments_lexer": "ipython3",
      "version": "3.8"
    }
  },
  "nbformat": 4,
  "nbformat_minor": 4
}
