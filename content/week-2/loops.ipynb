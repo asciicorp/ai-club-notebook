{
  "cells": [
    {
      "cell_type": "markdown",
      "metadata": {},
      "source": [
        "## Example (Iterating over a list): \n",
        "\n",
        "The \"for\" loop is used to repeat an action multiple times. Let's see how we can use a for loop to print each mark in a list of marks labeled 'marks_list'.\n",
        "\n"
      ]
    },
    {
      "cell_type": "code",
      "execution_count": null,
      "metadata": {
        "trusted": true
      },
      "outputs": [],
      "source": [
        "# List of marks\n",
        "marks_list = [85, 70, 55, 78, 90]\n",
        "\n",
        "# Print each mark in the list using for loop\n",
        "for marks in marks_list:\n",
        "    print(marks)"
      ]
    },
    {
      "cell_type": "markdown",
      "metadata": {},
      "source": [
        "In the code above, we have used a `for` loop to iterate through each element in the list, `marks_list`. \n",
        "\n",
        "The code assigns values in the list to the variable `marks` and prints it iteratively every time the loop is repeated. \n",
        "\n",
        "The loop terminates automatically once the list is completed. "
      ]
    },
    {
      "cell_type": "markdown",
      "metadata": {},
      "source": [
        "## Example (Iterating over a string):\n",
        "\n",
        "The `for` loop can also be used to iteratively print each letter in a string as demonstrated in the following example.  "
      ]
    },
    {
      "cell_type": "code",
      "execution_count": null,
      "metadata": {
        "trusted": true
      },
      "outputs": [],
      "source": [
        "# Print each letter in a string using for loop\n",
        "for letters in \"AIeye\":\n",
        "    print(letters)"
      ]
    },
    {
      "cell_type": "markdown",
      "metadata": {
        "tags": []
      },
      "source": [
        "## Prcatice Exercise: Counting and Printing Characters\n",
        "\n",
        "Write a program that asks the user to enter a word and then uses a for loop to count and print each character in the word.\n",
        "\n"
      ]
    },
    {
      "cell_type": "code",
      "execution_count": null,
      "metadata": {},
      "outputs": [],
      "source": []
    },
    {
      "cell_type": "markdown",
      "metadata": {},
      "source": [
        "Now, we will take a look at some examples where the 'while' loop is used to repeat the task until a condition is met. "
      ]
    },
    {
      "cell_type": "markdown",
      "metadata": {},
      "source": [
        "## Example (printing the first ten positive integers):\n",
        "\n",
        "The following simple code prints the first 10 positive integers. The index 'i' is initiated as 1 and repeatedly increased by 1 and printed. This task is repeated as long as the condition i less than or equal to 10 is true. That means the loop stops after printing 10.  "
      ]
    },
    {
      "cell_type": "code",
      "execution_count": null,
      "metadata": {
        "trusted": true
      },
      "outputs": [],
      "source": [
        "# Example: printing the first ten positive integers\n",
        "i=1\n",
        "while i <= 10:\n",
        "    print(i)\n",
        "    i=i+1"
      ]
    },
    {
      "cell_type": "markdown",
      "metadata": {},
      "source": [
        "## Example (sum of the terms of a series):\n",
        "\n",
        "Imagine you have to sum up the terms of a long sequence of numbers as follows. Doing this manually can be a tedious task. \n",
        "\n",
        "Consider the following series that starts with 3 and increases by the step size of 2.  \n",
        "3+5+7+9+...+15\n",
        "\n",
        "The following simple code prints the sum of the elements of the series that starts with 3 and ends with fifteen. The index 'i' is initiated as 3.  The loop iterates over the range 3 to 15 with a step size of 2 add the current value to the sum variable.\n",
        "\n",
        "This task is repeated as long as the condition i less than or equal to 15 is true. Finally, the sum is printed. \n",
        "\n"
      ]
    },
    {
      "cell_type": "code",
      "execution_count": null,
      "metadata": {
        "trusted": true
      },
      "outputs": [],
      "source": [
        "# Example: sum of the terms af a series.\n",
        "Sum=0\n",
        "i=3\n",
        "while i <= 15:\n",
        "    Sum= Sum+i \n",
        "    i=i+2\n",
        "    \n",
        "print (\"The sum of the terms of a series is\", Sum)"
      ]
    },
    {
      "cell_type": "markdown",
      "metadata": {},
      "source": [
        "## Practice Exercise: Countdown Printer\n",
        "\n",
        "Write a program that asks the user to enter a starting number and then counts down to zero, printing each number in the countdown."
      ]
    },
    {
      "cell_type": "code",
      "execution_count": null,
      "metadata": {},
      "outputs": [],
      "source": []
    }
  ],
  "metadata": {
    "kernelspec": {
      "display_name": "Python (Pyodide)",
      "language": "python",
      "name": "python"
    },
    "language_info": {
      "codemirror_mode": {
        "name": "python",
        "version": 3
      },
      "file_extension": ".py",
      "mimetype": "text/x-python",
      "name": "python",
      "nbconvert_exporter": "python",
      "pygments_lexer": "ipython3",
      "version": "3.8"
    }
  },
  "nbformat": 4,
  "nbformat_minor": 4
}
