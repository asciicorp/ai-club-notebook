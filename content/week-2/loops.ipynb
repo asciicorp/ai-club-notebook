{
  "cells": [
    {
      "cell_type": "markdown",
      "metadata": {},
      "source": [
        "# Exploring Loops in Python\n",
        "\n",
        "In this notebook, we'll learn how to work with loops in Python through a simple example."
      ]
    },
    {
      "cell_type": "markdown",
      "metadata": {},
      "source": [
        "## Using a For Loop\n",
        "\n",
        "A loop is used to repeat a set of actions multiple times. Let's see how we can use a `for` loop to print each number in the `numbers` list."
      ]
    },
    {
      "cell_type": "code",
      "execution_count": null,
      "metadata": {
        "trusted": true
      },
      "outputs": [],
      "source": [
        "# List of marks\n",
        "marks_list = [85, 70, 55, 78, 90]\n",
        "\n",
        "# Print each mark in the list using for loop\n",
        "for marks in marks_list:\n",
        "    print(marks)"
      ]
    },
    {
      "cell_type": "markdown",
      "metadata": {},
      "source": [
        "In the code above, we used a `for` loop to iterate through each element in the list, `marks_list`. \n",
        "\n",
        "The variable `marks` takes on each value from the list one at a time. \n",
        "\n",
        "Inside the loop, we used the `print` statement to display each value of `marks`."
      ]
    },
    {
      "cell_type": "code",
      "execution_count": null,
      "metadata": {
        "trusted": true
      },
      "outputs": [],
      "source": [
        "# Print each letter in a string using for loop\n",
        "for letters in \"AIeye\":\n",
        "    print(letters)"
      ]
    },
    {
      "cell_type": "markdown",
      "metadata": {},
      "source": [
        "In the code above, we used a `for` loop to iterate through each letter in the string `AIeye` .\n",
        "\n",
        "The letters takes on each letter from the string one at a time.\n",
        "\n",
        "Inside the loop, we used the `print` statement to display each letter in the string `AIeye`."
      ]
    },
    {
      "cell_type": "markdown",
      "metadata": {},
      "source": [
        "## Exercise: Counting and Printing Characters\n",
        "\n",
        "Write a program that asks the user to enter a word and then uses a for loop to count and print each character in the word.\n",
        "\n"
      ]
    },
    {
      "cell_type": "code",
      "execution_count": null,
      "metadata": {},
      "outputs": [],
      "source": []
    },
    {
      "cell_type": "markdown",
      "metadata": {},
      "source": [
        "## Using a While Loop\n",
        "\n",
        "In this part, we'll explore the concept of a `while` loop in Python using an example of simulating an AI optimization process."
      ]
    },
    {
      "cell_type": "code",
      "execution_count": null,
      "metadata": {
        "trusted": true
      },
      "outputs": [],
      "source": [
        "# Example: printing the first ten positive integers\n",
        "i=1\n",
        "while i <= 10:\n",
        "    print(i)\n",
        "    i=i+1"
      ]
    },
    {
      "cell_type": "markdown",
      "metadata": {},
      "source": [
        "In the code above, we used a `while` loop to print the integer numbers from `1` to `10` . \n",
        "\n",
        "The loop continues as long as the defined variable`i` is less than or equal to 10. \n",
        "\n",
        "Inside the loop, we increment the defined variable `i` by 1 in each iteration and display the current number using a print function.  \n",
        "\n",
        "Once the `i`  reaches 10, the loop stops.\n",
        "\n",
        "Initially we declared the `i` with 1 so the while loop will run for **10 times** until it reaches 10."
      ]
    },
    {
      "cell_type": "code",
      "execution_count": null,
      "metadata": {
        "trusted": true
      },
      "outputs": [],
      "source": [
        "# Example: sum of the first 100 positive integers\n",
        "Sum=0\n",
        "i=1\n",
        "while i <= 100:\n",
        "    i=i+1\n",
        "    Sum= Sum+i \n",
        "print (\"Sum of the first 100 positive integers is\", Sum)"
      ]
    },
    {
      "cell_type": "markdown",
      "metadata": {},
      "source": [
        "In the code above, we used a `while` loop is used to sum up the numbers from `1` to `100` . \n",
        "\n",
        "The loop continues as long as the defined variable`i` is less than or equal to 100. \n",
        "\n",
        "Inside the loop, we increment the defined variable `i` by 1 in each iteration. At the same time the present `i` value is added to the defined variable `Sum`. \n",
        "\n",
        "Once the `i`  reaches 100, the loop stops.\n",
        "\n",
        "Initially we declared the `i` with 1 so the while loop will run for **100 times** until it reaches 100.\n",
        "\n",
        "Finally, we print the `Sum` using the print function.  "
      ]
    },
    {
      "cell_type": "markdown",
      "metadata": {},
      "source": [
        "## Exercise: Countdown Timer\n",
        "\n",
        "Write a program that asks the user to enter a starting number and then counts down to zero, printing each number in the countdown."
      ]
    },
    {
      "cell_type": "code",
      "execution_count": null,
      "metadata": {},
      "outputs": [],
      "source": []
    }
  ],
  "metadata": {
    "kernelspec": {
      "display_name": "Python 3",
      "language": "python",
      "name": "python3"
    },
    "language_info": {
      "codemirror_mode": {
        "name": "python",
        "version": 3
      },
      "file_extension": ".py",
      "mimetype": "text/x-python",
      "name": "python",
      "nbconvert_exporter": "python",
      "pygments_lexer": "ipython3",
      "version": "3.11.3"
    }
  },
  "nbformat": 4,
  "nbformat_minor": 4
}
