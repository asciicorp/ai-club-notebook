{
 "cells": [
  {
   "cell_type": "markdown",
   "metadata": {},
   "source": [
    "# Exploring Loops in Python\n",
    "\n",
    "In this notebook, we'll learn how to work with loops in Python through a simple example."
   ]
  },
  {
   "cell_type": "markdown",
   "metadata": {},
   "source": [
    "## Using a For Loop\n",
    "\n",
    "A loop is used to repeat a set of actions multiple times. Let's see how we can use a `for` loop to print each number in the `numbers` list."
   ]
  },
  {
   "cell_type": "code",
   "execution_count": null,
   "metadata": {},
   "outputs": [],
   "source": [
    "# List of numbers\n",
    "numbers = [1, 2, 3, 4, 5]\n",
    "\n",
    "# Print each number using a for loop\n",
    "for num in numbers:\n",
    "    print(num) "
   ]
  },
  {
   "cell_type": "markdown",
   "metadata": {},
   "source": [
    "In the code above, we used a `for` loop to iterate through each element in the `numbers` list. \n",
    "\n",
    "The variable `num` takes on each value from the list one at a time. \n",
    "\n",
    "Inside the loop, we used the `print` statement to display each value of `num`."
   ]
  },
  {
   "cell_type": "markdown",
   "metadata": {},
   "source": [
    "## Using a While Loop\n",
    "\n",
    "In this part, we'll explore the concept of a `while` loop in Python using an example of simulating an AI optimization process."
   ]
  },
  {
   "cell_type": "code",
   "execution_count": null,
   "metadata": {},
   "outputs": [],
   "source": [
    "# Example: Simulating an AI optimization process\n",
    "\n",
    "print(\"AI Optimization Simulation\")\n",
    "accuracy = 50\n",
    "\n",
    "while accuracy < 90:\n",
    "    accuracy += 5\n",
    "    print(f\"Current accuracy: {accuracy}%\")\n",
    "\n",
    "print(\"AI has achieved desired accuracy.\") "
   ]
  },
  {
   "cell_type": "markdown",
   "metadata": {},
   "source": [
    "In the code above, we used a `while` loop to simulate an optimization process. \n",
    "\n",
    "The loop continues as long as the `accuracy` is less than 90. \n",
    "\n",
    "Inside the loop, we increment the `accuracy` by 5 in each iteration and display the current accuracy using an f-string. \n",
    "\n",
    "Once the accuracy reaches 90 or more, the loop stops.\n",
    "\n",
    "Initially we declared the `accuracy` with 50% so the while loop will run for **8 times** until it reaches 90%"
   ]
  },
  {
   "cell_type": "markdown",
   "metadata": {},
   "source": [
    "## Exercise: Counting and Printing Characters\n",
    "\n",
    "Write a program that asks the user to enter a word and then uses a for loop to count and print each character in the word.\n",
    "\n"
   ]
  },
  {
   "cell_type": "code",
   "execution_count": null,
   "metadata": {},
   "outputs": [],
   "source": []
  },
  {
   "cell_type": "markdown",
   "metadata": {},
   "source": [
    "## Exercise: Countdown Timer\n",
    "\n",
    "Write a program that asks the user to enter a starting number and then counts down to zero, printing each number in the countdown."
   ]
  }
 ],
 "metadata": {
  "kernelspec": {
   "display_name": "Python 3",
   "language": "python",
   "name": "python3"
  },
  "language_info": {
   "codemirror_mode": {
    "name": "ipython",
    "version": 3
   },
   "file_extension": ".py",
   "mimetype": "text/x-python",
   "name": "python",
   "nbconvert_exporter": "python",
   "pygments_lexer": "ipython3",
   "version": "3.11.3"
  },
  "orig_nbformat": 4
 },
 "nbformat": 4,
 "nbformat_minor": 2
}
