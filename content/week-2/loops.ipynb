{
  "metadata": {
    "kernelspec": {
      "name": "python",
      "display_name": "Python (Pyodide)",
      "language": "python"
    },
    "language_info": {
      "codemirror_mode": {
        "name": "python",
        "version": 3
      },
      "file_extension": ".py",
      "mimetype": "text/x-python",
      "name": "python",
      "nbconvert_exporter": "python",
      "pygments_lexer": "ipython3",
      "version": "3.8"
    }
  },
  "nbformat_minor": 4,
  "nbformat": 4,
  "cells": [
    {
      "cell_type": "markdown",
      "source": "## Example (Iterating over a list): \n\nThe \"for\" loop is used to repeat an action multiple times. Let's see how we can use a for loop to print each mark in a list of marks labeled 'marks_list'.\n\n",
      "metadata": {}
    },
    {
      "cell_type": "code",
      "source": "# List of marks\nmarks_list = [85, 70, 55, 78, 90]\n\n# Print each mark in the list using for loop\nfor marks in marks_list:\n    print(marks)",
      "metadata": {
        "trusted": true
      },
      "execution_count": 2,
      "outputs": [
        {
          "name": "stdout",
          "text": "85\n70\n55\n78\n90\n",
          "output_type": "stream"
        }
      ]
    },
    {
      "cell_type": "markdown",
      "source": "In the code above, we have used a `for` loop to iterate through each element in the list, `marks_list`. \n\nThe code assigns values in the list to the variable `marks` and prints it iteratively every time the loop is repeated. \n\nThe loop terminates automatically once the list is completed. ",
      "metadata": {}
    },
    {
      "cell_type": "markdown",
      "source": "## Example (Iterating over a string):\n\nThe `for` loop can also be used to iteratively print each letter in a string as demonstrated in the following example.  ",
      "metadata": {}
    },
    {
      "cell_type": "code",
      "source": "# Print each letter in a string using for loop\nfor letters in \"AIeye\":\n    print(letters)",
      "metadata": {
        "trusted": true
      },
      "execution_count": 3,
      "outputs": [
        {
          "name": "stdout",
          "text": "A\nI\ne\ny\ne\n",
          "output_type": "stream"
        }
      ]
    },
    {
      "cell_type": "markdown",
      "source": "## Prcatice Exercise: Counting and Printing Characters\n\nWrite a program that asks the user to enter a word and then uses a for loop to count and print each character in the word.\n\n",
      "metadata": {
        "tags": []
      }
    },
    {
      "cell_type": "code",
      "source": "",
      "metadata": {},
      "execution_count": null,
      "outputs": []
    },
    {
      "cell_type": "markdown",
      "source": "Now, we will take a look at some examples where the 'while' loop is used to repeat the task until a condition is met. ",
      "metadata": {}
    },
    {
      "cell_type": "markdown",
      "source": "## Example (printing the first ten positive integers):\n\nThe following simple code prints the first 10 positive integers. The index 'i' is initiated as 1 and repeatedly increased by 1 and printed. This task is repeated as long as the condition i less than or equal to 10 is true. That means the loop stops after printing 10.  ",
      "metadata": {}
    },
    {
      "cell_type": "code",
      "source": "# Example: printing the first ten positive integers\ni=1\nwhile i <= 10:\n    print(i)\n    i=i+1",
      "metadata": {
        "trusted": true
      },
      "execution_count": 4,
      "outputs": [
        {
          "name": "stdout",
          "text": "1\n2\n3\n4\n5\n6\n7\n8\n9\n10\n",
          "output_type": "stream"
        }
      ]
    },
    {
      "cell_type": "markdown",
      "source": "## Example (sum of the terms of a series):\n\nImagine you have to sum up the terms of a long sequence of numbers as follows. Doing this manually can be a tedious task. \n\nConsider the following series that starts with 3 and increases by the step size of 2.  \n3+5+7+9+...+15\n\nThe following simple code prints the sum of the elements of the series that starts with 3 and ends with fifteen. The index 'i' is initiated as 3.  The loop iterates over the range 3 to 15 with a step size of 2 add the current value to the sum variable.\n\nThis task is repeated as long as the condition i less than or equal to 15 is true. Finally, the sum is printed. \n\n",
      "metadata": {}
    },
    {
      "cell_type": "code",
      "source": "# Example: sum of the terms af a series.\nSum=0\ni=3\nwhile i <= 15:\n    Sum= Sum+i \n    i=i+2\n    \nprint (\"The sum of the terms of a series is\", Sum)",
      "metadata": {
        "trusted": true
      },
      "execution_count": 10,
      "outputs": [
        {
          "name": "stdout",
          "text": "The sum of the terms of a sequence is 63\n",
          "output_type": "stream"
        }
      ]
    },
    {
      "cell_type": "markdown",
      "source": "## Practice Exercise: Countdown Printer\n\nWrite a program that asks the user to enter a starting number and then counts down to zero, printing each number in the countdown.",
      "metadata": {}
    },
    {
      "cell_type": "code",
      "source": "",
      "metadata": {},
      "execution_count": null,
      "outputs": []
    }
  ]
}