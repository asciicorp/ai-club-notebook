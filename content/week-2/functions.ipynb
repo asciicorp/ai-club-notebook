{
  "metadata": {
    "kernelspec": {
      "name": "python",
      "display_name": "Python (Pyodide)",
      "language": "python"
    },
    "language_info": {
      "codemirror_mode": {
        "name": "python",
        "version": 3
      },
      "file_extension": ".py",
      "mimetype": "text/x-python",
      "name": "python",
      "nbconvert_exporter": "python",
      "pygments_lexer": "ipython3",
      "version": "3.8"
    }
  },
  "nbformat_minor": 4,
  "nbformat": 4,
  "cells": [
    {
      "cell_type": "markdown",
      "source": "# Calculating the Average using a Function\n\nIn this notebook, we'll explore how to define and use a function to calculate the average of a list of numbers.",
      "metadata": {}
    },
    {
      "cell_type": "markdown",
      "source": "## Defining the Average Calculation Function\n\nLet's start by defining a function named `calculate_average` that takes a list of numbers as input and returns the average of those numbers.",
      "metadata": {}
    },
    {
      "cell_type": "code",
      "source": "# Defining the average calculation function\ndef calculate_average(numbers):\n    total = sum(numbers)  # Summing up all the numbers\n    count = len(numbers)  # Counting how many numbers there are\n    average = total / count  # Dividing the total by the count\n    return average",
      "metadata": {
        "trusted": true
      },
      "execution_count": 1,
      "outputs": []
    },
    {
      "cell_type": "markdown",
      "source": "Let's break down the code step by step:\n\n### `def calculate_average(numbers):`\n\ndef: This is a keyword in Python used to define a function.\n\ncalculate_average: This is the name of the function you're defining. It can be any name you choose.\n\n(numbers): This is the parameter list enclosed in parentheses. \n\nIt's like a placeholder for the data you'll provide when you use the function. \n\nIn this case, the function expects a list of numbers as input.",
      "metadata": {}
    },
    {
      "cell_type": "markdown",
      "source": "### `total = sum(numbers)`\n\nThis line calculates the sum of all the numbers in the provided list. \n\nThe sum() function takes a list of numbers as input and returns their sum. \n\nThe result is assigned to the variable total.",
      "metadata": {}
    },
    {
      "cell_type": "markdown",
      "source": "### `count = len(numbers)`\n\nHere, len(numbers) calculates the number of elements in the list.\n\nThe len() function returns the count of items in a sequence (like a list), and the result is assigned to the variable count.",
      "metadata": {}
    },
    {
      "cell_type": "markdown",
      "source": "### `average = total / count`\n\nThis line calculates the average by dividing the sum (total) of all numbers by the count (count) of numbers in the list. \n\nThe result is assigned to the variable average.",
      "metadata": {}
    },
    {
      "cell_type": "markdown",
      "source": "### `return average`\n\nThis line indicates that the function should give back a result when it's used. \n\nIn this case, it's returning the calculated average.",
      "metadata": {}
    },
    {
      "cell_type": "markdown",
      "source": "## Using the Average Calculation Function\n\nNow that we have the function defined, let's use it to calculate the average of a list of test scores.",
      "metadata": {}
    },
    {
      "cell_type": "code",
      "source": "# Using the average calculation function\ntest_scores = [85, 92, 78, 90, 88]\naverage_score = calculate_average(test_scores)",
      "metadata": {
        "trusted": true
      },
      "execution_count": 2,
      "outputs": []
    },
    {
      "cell_type": "markdown",
      "source": "In the code above, we provided a list of `test_scores` representing scores of students.\n\nWe then used the `calculate_average` function to calculate the average score and stored the result in the `average_score` variable.",
      "metadata": {}
    },
    {
      "cell_type": "markdown",
      "source": "## Displaying the Average\n\nLet's print out the calculated average test score.",
      "metadata": {}
    },
    {
      "cell_type": "code",
      "source": "# Displaying the average test score\nprint(f\"The average test score is: {average_score}\")",
      "metadata": {
        "trusted": true
      },
      "execution_count": 3,
      "outputs": [
        {
          "name": "stdout",
          "text": "The average test score is: 86.6\n",
          "output_type": "stream"
        }
      ]
    },
    {
      "cell_type": "code",
      "source": "",
      "metadata": {},
      "execution_count": null,
      "outputs": []
    }
  ]
}