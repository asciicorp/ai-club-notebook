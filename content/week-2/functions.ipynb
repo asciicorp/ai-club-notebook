{
 "cells": [
  {
   "cell_type": "markdown",
   "metadata": {},
   "source": [
    "# Calculating the Average using a Function\n",
    "\n",
    "In this notebook, we'll explore how to define and use a function to calculate the average of a list of numbers."
   ]
  },
  {
   "cell_type": "markdown",
   "metadata": {},
   "source": [
    "## Defining the Average Calculation Function\n",
    "\n",
    "Let's start by defining a function named `calculate_average` that takes a list of numbers as input and returns the average of those numbers."
   ]
  },
  {
   "cell_type": "code",
   "execution_count": null,
   "metadata": {},
   "outputs": [],
   "source": [
    "# Defining the average calculation function\n",
    "def calculate_average(numbers):\n",
    "    total = sum(numbers)  # Summing up all the numbers\n",
    "    count = len(numbers)  # Counting how many numbers there are\n",
    "    average = total / count  # Dividing the total by the count\n",
    "    return average"
   ]
  },
  {
   "cell_type": "markdown",
   "metadata": {},
   "source": [
    "Let's break down the code step by step:\n",
    "\n",
    "### `def calculate_average(numbers):`\n",
    "\n",
    "def: This is a keyword in Python used to define a function.\n",
    "\n",
    "calculate_average: This is the name of the function you're defining. It can be any name you choose.\n",
    "\n",
    "(numbers): This is the parameter list enclosed in parentheses. \n",
    "\n",
    "It's like a placeholder for the data you'll provide when you use the function. \n",
    "\n",
    "In this case, the function expects a list of numbers as input."
   ]
  },
  {
   "cell_type": "markdown",
   "metadata": {},
   "source": [
    "### `total = sum(numbers)`\n",
    "\n",
    "This line calculates the sum of all the numbers in the provided list. \n",
    "\n",
    "The sum() function takes a list of numbers as input and returns their sum. \n",
    "\n",
    "The result is assigned to the variable total."
   ]
  },
  {
   "cell_type": "markdown",
   "metadata": {},
   "source": [
    "### `count = len(numbers)`\n",
    "\n",
    "Here, len(numbers) calculates the number of elements in the list.\n",
    "\n",
    "The len() function returns the count of items in a sequence (like a list), and the result is assigned to the variable count."
   ]
  },
  {
   "cell_type": "markdown",
   "metadata": {},
   "source": [
    "### `average = total / count`\n",
    "\n",
    "This line calculates the average by dividing the sum (total) of all numbers by the count (count) of numbers in the list. \n",
    "\n",
    "The result is assigned to the variable average."
   ]
  },
  {
   "cell_type": "markdown",
   "metadata": {},
   "source": [
    "### `return average`\n",
    "\n",
    "This line indicates that the function should give back a result when it's used. \n",
    "\n",
    "In this case, it's returning the calculated average."
   ]
  },
  {
   "cell_type": "markdown",
   "metadata": {},
   "source": [
    "## Using the Average Calculation Function\n",
    "\n",
    "Now that we have the function defined, let's use it to calculate the average of a list of test scores."
   ]
  },
  {
   "cell_type": "code",
   "execution_count": null,
   "metadata": {},
   "outputs": [],
   "source": [
    "# Using the average calculation function\n",
    "test_scores = [85, 92, 78, 90, 88]\n",
    "average_score = calculate_average(test_scores)"
   ]
  },
  {
   "cell_type": "markdown",
   "metadata": {},
   "source": [
    "In the code above, we provided a list of `test_scores` representing scores of students.\n",
    "\n",
    "We then used the `calculate_average` function to calculate the average score and stored the result in the `average_score` variable."
   ]
  },
  {
   "cell_type": "markdown",
   "metadata": {},
   "source": [
    "## Displaying the Average\n",
    "\n",
    "Let's print out the calculated average test score."
   ]
  },
  {
   "cell_type": "code",
   "execution_count": null,
   "metadata": {},
   "outputs": [],
   "source": [
    "# Displaying the average test score\n",
    "print(f\"The average test score is: {average_score}\")"
   ]
  }
 ],
 "metadata": {
  "kernelspec": {
   "display_name": "Python 3",
   "language": "python",
   "name": "python3"
  },
  "language_info": {
   "codemirror_mode": {
    "name": "ipython",
    "version": 3
   },
   "file_extension": ".py",
   "mimetype": "text/x-python",
   "name": "python",
   "nbconvert_exporter": "python",
   "pygments_lexer": "ipython3",
   "version": "3.11.3"
  },
  "orig_nbformat": 4
 },
 "nbformat": 4,
 "nbformat_minor": 2
}
