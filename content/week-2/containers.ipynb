{
  "cells": [
    {
      "cell_type": "markdown",
      "id": "8d8d8cb7-6e72-4634-a673-2210d22e1691",
      "metadata": {},
      "source": [
        "# Python Containers: Lists, Tuples, and Dictionaries\n",
        "\n",
        "In this notebook, we'll explore the most commonly used functions for lists, tuples, and dictionaries in Python."
      ]
    },
    {
      "cell_type": "markdown",
      "id": "88e9fdb3-5dbe-40df-8e15-dad966788422",
      "metadata": {},
      "source": [
        "## Lists\n",
        "\n",
        "A list is an ordered collection of items. Let's explore some common list functions."
      ]
    },
    {
      "cell_type": "code",
      "execution_count": null,
      "id": "6302882a-2565-4a20-98de-de156cfbd14f",
      "metadata": {
        "trusted": true
      },
      "outputs": [],
      "source": [
        "# Define a list of names\n",
        "names = ['Michael', 'Donald', 'Charles']\n",
        "print(names)"
      ]
    },
    {
      "cell_type": "markdown",
      "id": "6eee6e33-9933-467f-8e87-44abc87f6d89",
      "metadata": {},
      "source": [
        "This code, stores the names of the members of a team in a list called \"names\". Here, we have used [] brackets to create the list. Individual name is entered within single quotes and seperated by ','. \n",
        "\n",
        "Now let's see, how to add a new element to a list."
      ]
    },
    {
      "cell_type": "code",
      "execution_count": null,
      "id": "c86d6f85-5960-4411-a524-c9c3b6bf17e8",
      "metadata": {
        "trusted": true
      },
      "outputs": [],
      "source": [
        "# Append an item to the list\n",
        "names.append('Jenifer')\n",
        "print(names)"
      ]
    },
    {
      "cell_type": "markdown",
      "id": "ca9b0575-505b-4763-b540-6f09f473ea5f",
      "metadata": {},
      "source": [
        "This code uses '.append()' function to add a new name 'Jenifer' to the existing list, 'names'."
      ]
    },
    {
      "cell_type": "markdown",
      "id": "4b738bab-92b2-44c7-bcc3-0a4c98103d07",
      "metadata": {},
      "source": [
        "Now let's see, how to remove an existing element from the list."
      ]
    },
    {
      "cell_type": "code",
      "execution_count": null,
      "id": "f678f296-4d81-4b6a-8f1d-2fc2a700d0cb",
      "metadata": {
        "trusted": true
      },
      "outputs": [],
      "source": [
        "# Append an item to the list\n",
        "names.remove('Charles')\n",
        "print(names)"
      ]
    },
    {
      "cell_type": "markdown",
      "id": "5dd178ee-2466-45db-add5-35fc1beeb258",
      "metadata": {},
      "source": [
        "In this code, the function, '.remove()'  removes the name 'Charles' from the existing list, 'names'."
      ]
    },
    {
      "cell_type": "markdown",
      "id": "f4819c2d-b741-4a38-ab65-1cbaca929591",
      "metadata": {},
      "source": [
        "Lest say, we want to display a particular name in the list. For example, the third name. "
      ]
    },
    {
      "cell_type": "code",
      "execution_count": null,
      "id": "9d556d76-c037-47ce-8a54-b4b2dd3dc47f",
      "metadata": {
        "trusted": true
      },
      "outputs": [],
      "source": [
        "# Access an item by index\n",
        "print(names[2])"
      ]
    },
    {
      "cell_type": "markdown",
      "id": "46e4f868-9f46-4e09-997a-488d9f4aa294",
      "metadata": {},
      "source": [
        "This code displays the third name in the list. Index [0], [1], [2], [3] correspond to the first, second, third and fourth items in the list. Hence,  'print(names[2])' code, prints the third name.  \n",
        "\n",
        "Some times, we need to check whether the name of a particular person exists in the list. Following code checks whether 'Donald' is present in the list. "
      ]
    },
    {
      "cell_type": "code",
      "execution_count": null,
      "id": "b91489ec-06cf-4cee-b604-779b1a9ccdee",
      "metadata": {
        "trusted": true
      },
      "outputs": [],
      "source": [
        "# Check if an item exists in the list\n",
        "print('Donald' in names)"
      ]
    },
    {
      "cell_type": "markdown",
      "id": "01fea9b1-8600-4c48-af6b-cc92e85b16ae",
      "metadata": {},
      "source": [
        "This code prints 'True' if the name is present in the list and 'False' otherwise. Hence, the code, 'print('Donald' in names)'prints 'True'. "
      ]
    },
    {
      "cell_type": "markdown",
      "id": "ada382dc-1cd9-4d9f-808c-fa83380a5d11",
      "metadata": {},
      "source": [
        "## Tuples\n",
        "\n",
        "As mentioned before tuple is similar to a list, but it's immutable. A good example is the the birthdays of the team members. \n",
        "\n",
        "The following code saves the dates of birth (DOB) of the team members in a tuple called \"DOB\". "
      ]
    },
    {
      "cell_type": "code",
      "execution_count": null,
      "id": "70bb2263-9e49-413c-a885-cdb120219f8a",
      "metadata": {
        "trusted": true
      },
      "outputs": [],
      "source": [
        "#Define a tuple for date of birth (DOB)\n",
        "DOB = (\"05/04/1998\", \"22/08/2005\", \"10/09/2004\")\n",
        "print(DOB)"
      ]
    },
    {
      "cell_type": "markdown",
      "id": "ef6fdfe5-a628-48a0-902a-dc9819b1751b",
      "metadata": {},
      "source": [
        "Here, the tuple is created inside the '()' brackets. Individual date of birth is entered within double quotes and seperated by ','. \n",
        "\n",
        "Unlike lists, which support methods like '.append()' and '.remove()', tuples do not have methods to modify their contents.\n",
        "\n",
        "Now lets see how to check the number of elements in the tuple."
      ]
    },
    {
      "cell_type": "code",
      "execution_count": null,
      "id": "bb7eca49",
      "metadata": {
        "trusted": true
      },
      "outputs": [],
      "source": [
        "# Get Length of a Tuple/List\n",
        "print(len(DOB))"
      ]
    },
    {
      "cell_type": "markdown",
      "id": "7127e323-e411-4281-b975-fa461bd2dc6f",
      "metadata": {},
      "source": [
        "This code prints the number of elements stored in the tuple. 'len(DOB)' function retrieve the length of the tuple."
      ]
    },
    {
      "cell_type": "markdown",
      "id": "b442a948-7fc2-4fdf-8435-c6c523f78d9f",
      "metadata": {},
      "source": [
        "## Dictionaries\n",
        "\n",
        "A dictionary is a collection of key-value pairs. Here are some common dictionary operations.\n",
        "\n",
        "Now let's store all the information of a person in a single place. "
      ]
    },
    {
      "cell_type": "code",
      "execution_count": null,
      "id": "dec541d2-191a-4cfe-b368-1a44896545c5",
      "metadata": {
        "trusted": true
      },
      "outputs": [],
      "source": [
        "# Define a dictionary for person information\n",
        "Michael_info = {\n",
        "    'Full_Name': 'Michael Foundawaski',\n",
        "    'Age': 25,\n",
        "    'DOB': \"05/04/1998\"\n",
        "}\n",
        "print(Michael_info)"
      ]
    },
    {
      "cell_type": "markdown",
      "id": "9c911c40-e0c2-41f4-8187-f9fdd0349383",
      "metadata": {},
      "source": [
        "This code stores the information about a person as key-value pairs, where keys like 'Name', 'Age', and 'DOB' label respective values such as 'Michael', 25, and '05/04/1998'. \n",
        "\n",
        "Now lets see how to access a particular piece of information in the dictonary. For example, the full name. "
      ]
    },
    {
      "cell_type": "code",
      "execution_count": null,
      "id": "df1266a8-35c0-4966-a78a-c363e128400d",
      "metadata": {
        "trusted": true
      },
      "outputs": [],
      "source": [
        "# Access a value using a key\n",
        "print(Michael_info['Full_Name'])"
      ]
    },
    {
      "cell_type": "markdown",
      "id": "454396d4-81a4-4900-8a38-7c7055cf579c",
      "metadata": {},
      "source": [
        "This code displays only the full name of the person. \n",
        "\n",
        "Let's see how to add a new piece of information to the dictonary. The folowing code explains how to add the 'Gender' of Michael into the 'Michael_info' dictonary. "
      ]
    },
    {
      "cell_type": "code",
      "execution_count": null,
      "id": "10fdf787-0585-41d1-884d-04ba4ecb194a",
      "metadata": {
        "trusted": true
      },
      "outputs": [],
      "source": [
        "# Add a new key-value pair\n",
        "Michael_info['Gender'] = 'Male'\n",
        "print(Michael_info)"
      ]
    },
    {
      "cell_type": "markdown",
      "id": "1e61410a-388c-464a-8537-1811c5384621",
      "metadata": {},
      "source": [
        "Sometimes, we need to check whether a particular piece of information is present in the dictonary. The following code demonstrates how to check the 'Age' key_valu pair is present in the dictonary"
      ]
    },
    {
      "cell_type": "code",
      "execution_count": null,
      "id": "1ae26fde-bb18-4ba3-a32f-4c028188c2d7",
      "metadata": {
        "trusted": true
      },
      "outputs": [],
      "source": [
        "# Check if a key exists in the dictionary\n",
        "print('Age' in Michael_info)"
      ]
    },
    {
      "cell_type": "markdown",
      "id": "9884a958-78fc-4b7c-b7ee-2163a8ebaeef",
      "metadata": {},
      "source": [
        "In this notebook, we covered some of the most commonly used functions for lists, tuples, and dictionaries in Python. These functions are essential for effectively manipulating and working with different types of data."
      ]
    }
  ],
  "metadata": {
    "kernelspec": {
      "display_name": "Python 3",
      "language": "python",
      "name": "python3"
    },
    "language_info": {
      "codemirror_mode": {
        "name": "ipython",
        "version": 3
      },
      "file_extension": ".py",
      "mimetype": "text/x-python",
      "name": "python",
      "nbconvert_exporter": "python",
      "pygments_lexer": "ipython3",
      "version": "3.11.5"
    }
  },
  "nbformat": 4,
  "nbformat_minor": 5
}
