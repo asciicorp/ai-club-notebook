{
  "cells": [
    {
      "cell_type": "markdown",
      "id": "8d8d8cb7-6e72-4634-a673-2210d22e1691",
      "metadata": {},
      "source": [
        "# Python Containers: Lists, Tuples, and Dictionaries\n",
        "\n",
        "In this notebook, we'll explore the most commonly used functions for lists, tuples, and dictionaries in Python."
      ]
    },
    {
      "cell_type": "markdown",
      "id": "88e9fdb3-5dbe-40df-8e15-dad966788422",
      "metadata": {},
      "source": [
        "## Lists\n",
        "\n",
        "A list is an ordered collection of items. Let's explore some common list functions."
      ]
    },
    {
      "cell_type": "code",
      "execution_count": null,
      "id": "6302882a-2565-4a20-98de-de156cfbd14f",
      "metadata": {
        "trusted": true
      },
      "outputs": [],
      "source": [
        "# Define a list of names\n",
        "names = ['Logee', 'Nazeem', 'Chandra']\n",
        "print(names)"
      ]
    },
    {
      "cell_type": "code",
      "execution_count": null,
      "id": "c86d6f85-5960-4411-a524-c9c3b6bf17e8",
      "metadata": {
        "trusted": true
      },
      "outputs": [],
      "source": [
        "# Append an item to the list\n",
        "names.append('Sasmitha')\n",
        "print(names)"
      ]
    },
    {
      "cell_type": "code",
      "execution_count": null,
      "id": "9d556d76-c037-47ce-8a54-b4b2dd3dc47f",
      "metadata": {
        "trusted": true
      },
      "outputs": [],
      "source": [
        "# Access an item by index\n",
        "second_name = names[3]\n",
        "print(second_name)"
      ]
    },
    {
      "cell_type": "code",
      "execution_count": null,
      "id": "b91489ec-06cf-4cee-b604-779b1a9ccdee",
      "metadata": {
        "trusted": true
      },
      "outputs": [],
      "source": [
        "# Check if an item exists in the list\n",
        "is_chandra_present = 'Chandra' in names\n",
        "print(is_chandra_present)"
      ]
    },
    {
      "cell_type": "markdown",
      "id": "fafc92ec-1d35-45d8-9ecd-8da8c31d6d60",
      "metadata": {},
      "source": [
        "## Tuples\n",
        "\n",
        "A tuple is similar to a list, but it's immutable. Let's see how to work with tuples."
      ]
    },
    {
      "cell_type": "code",
      "execution_count": null,
      "id": "70bb2263-9e49-413c-a885-cdb120219f8a",
      "metadata": {
        "trusted": true
      },
      "outputs": [],
      "source": [
        "#Define a tuple for date of birth (DOB)\n",
        "DOB = (\"05/04/1998\", \"22/08/2005\", \"10/09/2004\")\n",
        "print(DOB)"
      ]
    },
    {
      "cell_type": "code",
      "execution_count": null,
      "id": "bb7eca49",
      "metadata": {
        "trusted": true
      },
      "outputs": [],
      "source": [
        "# Get Length of a Tuple/List\n",
        "length=len(DOB)\n",
        "print(length)"
      ]
    },
    {
      "cell_type": "markdown",
      "id": "b442a948-7fc2-4fdf-8435-c6c523f78d9f",
      "metadata": {},
      "source": [
        "## Dictionaries\n",
        "\n",
        "A dictionary is a collection of key-value pairs. Here are some common dictionary operations."
      ]
    },
    {
      "cell_type": "code",
      "execution_count": null,
      "id": "dec541d2-191a-4cfe-b368-1a44896545c5",
      "metadata": {
        "trusted": true
      },
      "outputs": [],
      "source": [
        "# Define a dictionary for person information\n",
        "person_info = {\n",
        "    'Name': 'Logee',\n",
        "    'Age': 25,\n",
        "    'DOB': \"05/04/1998\"\n",
        "}\n",
        "print(person_info)"
      ]
    },
    {
      "cell_type": "code",
      "execution_count": null,
      "id": "df1266a8-35c0-4966-a78a-c363e128400d",
      "metadata": {
        "trusted": true
      },
      "outputs": [],
      "source": [
        "# Access a value using a key\n",
        "person_name = person_info['Name']\n",
        "print(person_name)"
      ]
    },
    {
      "cell_type": "code",
      "execution_count": null,
      "id": "10fdf787-0585-41d1-884d-04ba4ecb194a",
      "metadata": {
        "trusted": true
      },
      "outputs": [],
      "source": [
        "# Add a new key-value pair\n",
        "person_info['Gender'] = 'Male'\n",
        "print(person_info)"
      ]
    },
    {
      "cell_type": "code",
      "execution_count": null,
      "id": "1ae26fde-bb18-4ba3-a32f-4c028188c2d7",
      "metadata": {
        "trusted": true
      },
      "outputs": [],
      "source": [
        "# Check if a key exists in the dictionary\n",
        "is_age_present = 'Age' in person_info\n",
        "print(is_age_present)"
      ]
    },
    {
      "cell_type": "markdown",
      "id": "9884a958-78fc-4b7c-b7ee-2163a8ebaeef",
      "metadata": {},
      "source": [
        "In this notebook, we covered some of the most commonly used functions for lists, tuples, and dictionaries in Python. These functions are essential for effectively manipulating and working with different types of data."
      ]
    }
  ],
  "metadata": {
    "kernelspec": {
      "display_name": "Python 3",
      "language": "python",
      "name": "python3"
    },
    "language_info": {
      "codemirror_mode": {
        "name": "python",
        "version": 3
      },
      "file_extension": ".py",
      "mimetype": "text/x-python",
      "name": "python",
      "nbconvert_exporter": "python",
      "pygments_lexer": "ipython3",
      "version": "3.11.3"
    }
  },
  "nbformat": 4,
  "nbformat_minor": 5
}
