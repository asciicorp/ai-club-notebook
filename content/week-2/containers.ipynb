{
  "cells": [
    {
      "cell_type": "markdown",
      "metadata": {},
      "source": [
        "# Python Containers: Lists, Tuples, and Dictionaries\n",
        "\n",
        "In this notebook, we'll explore the most commonly used functions for lists, tuples, and dictionaries in Python."
      ]
    },
    {
      "cell_type": "markdown",
      "metadata": {},
      "source": [
        "## Lists\n",
        "\n",
        "A list is an ordered collection of items. Let's explore some common list functions."
      ]
    },
    {
      "cell_type": "code",
      "execution_count": null,
      "metadata": {},
      "outputs": [],
      "source": [
        "# Define a list of names\n",
        "names = ['Logee', 'Nazeem', 'Chandra']"
      ]
    },
    {
      "cell_type": "code",
      "execution_count": null,
      "metadata": {},
      "outputs": [],
      "source": [
        "# Append an item to the list\n",
        "names.append('Sasmitha')"
      ]
    },
    {
      "cell_type": "code",
      "execution_count": null,
      "metadata": {},
      "outputs": [],
      "source": [
        "# Access an item by index\n",
        "second_name = names[1]"
      ]
    },
    {
      "cell_type": "code",
      "execution_count": null,
      "metadata": {},
      "outputs": [],
      "source": [
        "# Check if an item exists in the list\n",
        "is_chandra_present = 'Chandra' in names"
      ]
    },
    {
      "cell_type": "markdown",
      "metadata": {},
      "source": [
        "## Tuples\n",
        "\n",
        "A tuple is similar to a list, but it's immutable. Let's see how to work with tuples."
      ]
    },
    {
      "cell_type": "code",
      "execution_count": null,
      "metadata": {},
      "outputs": [],
      "source": [
        "# Define a tuple for weights\n",
        "weights = (60.5, 75.4, 80.5)"
      ]
    },
    {
      "cell_type": "code",
      "execution_count": null,
      "id": "1ac5c22a",
      "metadata": {},
      "outputs": [],
      "source": [
        "# Get Sum of Weights\n",
        "sum(weights)"
      ]
    },
    {
      "cell_type": "code",
      "execution_count": null,
      "id": "bb7eca49",
      "metadata": {},
      "outputs": [],
      "source": [
        "# Get Length of a Tuple/List\n",
        "len(weights)"
      ]
    },
    {
      "cell_type": "markdown",
      "metadata": {},
      "source": [
        "## Dictionaries\n",
        "\n",
        "A dictionary is a collection of key-value pairs. Here are some common dictionary operations."
      ]
    },
    {
      "cell_type": "code",
      "execution_count": null,
      "metadata": {},
      "outputs": [],
      "source": [
        "# Define a dictionary for person information\n",
        "person_info = {\n",
        "    'Name': 'Logee',\n",
        "    'Age': 25,\n",
        "    'Weight': 50.5\n",
        "}"
      ]
    },
    {
      "cell_type": "code",
      "execution_count": null,
      "metadata": {},
      "outputs": [],
      "source": [
        "# Access a value using a key\n",
        "person_name = person_info['Name']"
      ]
    },
    {
      "cell_type": "code",
      "execution_count": null,
      "metadata": {},
      "outputs": [],
      "source": [
        "# Add a new key-value pair\n",
        "person_info['Gender'] = 'Female'"
      ]
    },
    {
      "cell_type": "code",
      "execution_count": null,
      "metadata": {},
      "outputs": [],
      "source": [
        "# Check if a key exists in the dictionary\n",
        "is_age_present = 'Age' in person_info"
      ]
    },
    {
      "cell_type": "markdown",
      "metadata": {},
      "source": [
        "In this notebook, we covered some of the most commonly used functions for lists, tuples, and dictionaries in Python. These functions are essential for effectively manipulating and working with different types of data."
      ]
    }
  ],
  "metadata": {
    "kernelspec": {
      "display_name": "Python 3",
      "language": "python",
      "name": "python3"
    },
    "language_info": {
      "codemirror_mode": {
        "name": "ipython",
        "version": 3
      },
      "file_extension": ".py",
      "mimetype": "text/x-python",
      "name": "python",
      "nbconvert_exporter": "python",
      "pygments_lexer": "ipython3",
      "version": "3.11.3"
    }
  },
  "nbformat": 4,
  "nbformat_minor": 5
}
