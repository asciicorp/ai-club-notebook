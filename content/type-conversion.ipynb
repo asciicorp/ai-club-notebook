{
 "cells": [
  {
   "cell_type": "markdown",
   "metadata": {},
   "source": [
    "### Type Conversion\n",
    "\n",
    "Type conversion, also known as type casting, refers to the process of converting one data type to another. Python provides several built-in functions for type conversion."
   ]
  },
  {
   "cell_type": "markdown",
   "metadata": {},
   "source": [
    "The `int()` function is used to convert a value to an integer data type. If the value cannot be converted to an integer, it will raise a `ValueError`."
   ]
  },
  {
   "cell_type": "code",
   "execution_count": null,
   "metadata": {},
   "outputs": [],
   "source": [
    "age_str = \"42\"\n",
    "age_int = int(age_str)\n",
    "\n",
    "print(\"Original value:\", age_str)\n",
    "print(\"Data Type:\", type(age_int))\n",
    "\n",
    "print(\"Converted to integer:\", age_int)\n",
    "print(\"Data Type:\", type(age_str))"
   ]
  },
  {
   "cell_type": "markdown",
   "metadata": {},
   "source": [
    "The `float()` function is used to convert a value to a floating-point data type. It can convert integers and strings that represent numbers to floating-point values.\n"
   ]
  },
  {
   "cell_type": "code",
   "execution_count": null,
   "metadata": {},
   "outputs": [],
   "source": [
    "number_str = \"3.14\"\n",
    "number_float = float(number_str)\n",
    "\n",
    "print(\"Original value:\", number_str)\n",
    "print(\"Data Type:\", type(number_str))\n",
    "\n",
    "print(\"Converted to float:\", number_float)\n",
    "print(\"Data Type:\", type(number_float))"
   ]
  },
  {
   "cell_type": "markdown",
   "metadata": {},
   "source": [
    "The `str()` function is used to convert a value to a string data type. It can convert integers, floating-point numbers, and other data types to their string representations."
   ]
  },
  {
   "cell_type": "code",
   "execution_count": null,
   "metadata": {},
   "outputs": [],
   "source": [
    "number_int = 42\n",
    "number_str = str(number_int)\n",
    "\n",
    "print(\"Original value:\", number_int)\n",
    "print(\"Data Type:\", type(number_int))\n",
    "\n",
    "print(\"Converted to string:\", number_str)\n",
    "print(\"Data Type:\", type(number_str))"
   ]
  },
  {
   "cell_type": "markdown",
   "metadata": {},
   "source": [
    "The `list()` function is used to convert an iterable (e.g., a tuple or string) to a list data type."
   ]
  },
  {
   "cell_type": "code",
   "execution_count": null,
   "metadata": {},
   "outputs": [],
   "source": [
    "tuple_data = (1, 2, 3)\n",
    "list_data = list(tuple_data)\n",
    "\n",
    "print(\"Original value:\", tuple_data)\n",
    "print(\"Data Type:\", type(tuple_data))\n",
    "\n",
    "print(\"Converted to list:\", list_data)\n",
    "print(\"Data Type:\", type(list_data))"
   ]
  },
  {
   "cell_type": "markdown",
   "metadata": {},
   "source": [
    "The `tuple()` function is used to convert an iterable (e.g., a list or string) to a tuple data type."
   ]
  },
  {
   "cell_type": "code",
   "execution_count": null,
   "metadata": {},
   "outputs": [],
   "source": [
    "list_data = [1, 2, 3]\n",
    "tuple_data = tuple(list_data)\n",
    "\n",
    "print(\"Original value:\", list_data)\n",
    "print(\"Data Type:\", type(list_data))\n",
    "\n",
    "print(\"Converted to tuple:\", tuple_data)\n",
    "print(\"Data Type:\", type(tuple_data))"
   ]
  }
 ],
 "metadata": {
  "kernelspec": {
   "display_name": "Python 3",
   "language": "python",
   "name": "python3"
  },
  "language_info": {
   "codemirror_mode": {
    "name": "ipython",
    "version": 3
   },
   "file_extension": ".py",
   "mimetype": "text/x-python",
   "name": "python",
   "nbconvert_exporter": "python",
   "pygments_lexer": "ipython3",
   "version": "3.11.3"
  },
  "orig_nbformat": 4
 },
 "nbformat": 4,
 "nbformat_minor": 2
}
