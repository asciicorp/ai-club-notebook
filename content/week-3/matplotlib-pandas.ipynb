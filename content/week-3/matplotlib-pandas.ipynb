{
  "cells": [
    {
      "cell_type": "markdown",
      "metadata": {},
      "source": [
        "### Importing Libraries"
      ]
    },
    {
      "cell_type": "code",
      "execution_count": null,
      "metadata": {
        "trusted": true
      },
      "outputs": [],
      "source": [
        "import matplotlib.pyplot as plt\n",
        "import pandas as pd"
      ]
    },
    {
      "cell_type": "markdown",
      "metadata": {},
      "source": [
        "### Loading the dataset using Pandas"
      ]
    },
    {
      "cell_type": "code",
      "execution_count": null,
      "metadata": {
        "trusted": true
      },
      "outputs": [],
      "source": [
        "data = pd.read_csv('test.csv')"
      ]
    },
    {
      "cell_type": "code",
      "execution_count": null,
      "metadata": {
        "trusted": true
      },
      "outputs": [],
      "source": [
        "print(data)"
      ]
    },
    {
      "cell_type": "markdown",
      "metadata": {},
      "source": [
        "### Creating a Scatter Plot\n"
      ]
    },
    {
      "cell_type": "code",
      "execution_count": null,
      "metadata": {},
      "outputs": [],
      "source": [
        "# Set up the size of the plot figure\n",
        "plt.figure(figsize=(8, 6))\n",
        "\n",
        "# Create a scatter plot with study hours on the x-axis and test scores on the y-axis\n",
        "plt.scatter(data['Time_(24 Hours)'], data['Temperature_degrees'])"
      ]
    },
    {
      "cell_type": "markdown",
      "metadata": {},
      "source": [
        "### Adding a title to the plot"
      ]
    },
    {
      "cell_type": "code",
      "execution_count": null,
      "metadata": {},
      "outputs": [],
      "source": [
        "# Add a title to the plot\n",
        "plt.title('Time vs. Temperature')"
      ]
    },
    {
      "cell_type": "markdown",
      "metadata": {},
      "source": [
        "### Labeling the x-axis and y-axis"
      ]
    },
    {
      "cell_type": "code",
      "execution_count": null,
      "metadata": {},
      "outputs": [],
      "source": [
        "# Label the x-axis with 'Study Hours'\n",
        "plt.xlabel('Time in 24 Hours')\n",
        "\n",
        "# Label the y-axis with 'Test Scores'\n",
        "plt.ylabel('Temperature in degrees Celcius')"
      ]
    },
    {
      "cell_type": "markdown",
      "metadata": {},
      "source": [
        "### Adding grid lines to the plot for better readability"
      ]
    },
    {
      "cell_type": "code",
      "execution_count": null,
      "metadata": {
        "trusted": true
      },
      "outputs": [],
      "source": [
        "# Add grid lines to the plot for better readability\n",
        "plt.grid(True)"
      ]
    },
    {
      "cell_type": "markdown",
      "metadata": {},
      "source": [
        "### Displaying the plot"
      ]
    },
    {
      "cell_type": "code",
      "execution_count": null,
      "metadata": {},
      "outputs": [],
      "source": [
        "# Display the plot\n",
        "plt.show()"
      ]
    },
    {
      "cell_type": "code",
      "execution_count": null,
      "metadata": {
        "trusted": true
      },
      "outputs": [],
      "source": [
        "plt.figure(figsize=(8, 6))\n",
        "plt.scatter(data['Time_(24 Hours)'], data['Temperature_degrees'])\n",
        "\n",
        "#Add a red line that connects the data points to show the trend (Regression Line)\n",
        "plt.plot(data['Time_(24 Hours)'], data['Temperature_degrees'], color='red', label='Regression Line')\n",
        "\n",
        "\n",
        "plt.title('Time vs. Temperature')\n",
        "plt.xlabel('Time in Hours')\n",
        "plt.ylabel('Temperature in degrees Celcius')\n",
        "\n",
        "# Add a legend to the plot, explaining what the red line represents\n",
        "plt.legend()\n",
        "\n",
        "\n",
        "plt.grid(True)\n",
        "plt.show()\n"
      ]
    },
    {
      "cell_type": "code",
      "execution_count": null,
      "metadata": {
        "trusted": true
      },
      "outputs": [],
      "source": [
        "# Create a line plot\n",
        "plt.figure(figsize=(8, 6))\n",
        "plt.bar(data['Time_(24 Hours)'], data['Temperature_degrees'], color='orange')\n",
        "\n",
        "\n",
        "plt.title('Hourly Temperature Trend')\n",
        "plt.xlabel('Time (24 Hours)')\n",
        "plt.ylabel('Temperature (degrees)')\n",
        "plt.xticks(rotation=45)\n",
        "plt.grid(True)\n",
        "\n",
        "plt.tight_layout()\n",
        "plt.show()"
      ]
    },
    {
      "cell_type": "code",
      "execution_count": null,
      "metadata": {
        "trusted": true
      },
      "outputs": [],
      "source": [
        "plt.figure(figsize=(8, 6))\n",
        "plt.hist(data['Temperature_degrees'], bins=10, color='purple', alpha=0.7)\n",
        "plt.title('Temperature Distribution Histogram')\n",
        "plt.xlabel('Temperature (degrees)')\n",
        "plt.ylabel('Frequency')\n",
        "plt.grid(axis='y')\n",
        "plt.tight_layout()\n",
        "plt.show()"
      ]
    },
    {
      "cell_type": "code",
      "execution_count": null,
      "metadata": {
        "trusted": true
      },
      "outputs": [],
      "source": [
        "plt.figure(figsize=(10, 6))\n",
        "plt.boxplot(data['Temperature_degrees'], vert=False)\n",
        "plt.title('Temperature Distribution: Box Plot')\n",
        "plt.xlabel('Temperature (degrees)')\n",
        "plt.grid(axis='x')\n",
        "plt.tight_layout()\n",
        "plt.show()"
      ]
    }
  ],
  "metadata": {
    "kernelspec": {
      "display_name": "Python (Pyodide)",
      "language": "python",
      "name": "python"
    },
    "language_info": {
      "codemirror_mode": {
        "name": "python",
        "version": 3
      },
      "file_extension": ".py",
      "mimetype": "text/x-python",
      "name": "python",
      "nbconvert_exporter": "python",
      "pygments_lexer": "ipython3",
      "version": "3.8"
    }
  },
  "nbformat": 4,
  "nbformat_minor": 4
}
