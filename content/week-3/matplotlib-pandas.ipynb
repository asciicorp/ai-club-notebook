{
  "cells": [
    {
      "cell_type": "markdown",
      "metadata": {},
      "source": [
        "## Importing Libraries to the Workspace\n",
        "\n",
        "To be able to use the libraries you have to first import them to your workspace. \n",
        "\n",
        "The first line in the follwoing code is the standard piece of code used to import the pyplot module from the matplotlib library in Python. \n",
        "\n",
        "    import: This keyword is used to include external libraries or modules into your Python code.\n",
        "    matplotlib: This is the name of the library you want to import. \n",
        "    pyplot: This is a specific module within the matplotlib library that provides a high-level interface for creating and customizing various types of plots and visualizations.\n",
        "    as plt: This part of the code gives the imported matplotlib.pyplot module an alias or nickname, which is 'plt' in this case.\n",
        "    \n",
        "Similarly the secondline in the code is used to improt the 'pandas' library in to the workspace with the nickname 'pd'. "
      ]
    },
    {
      "cell_type": "code",
      "execution_count": null,
      "metadata": {
        "trusted": true
      },
      "outputs": [],
      "source": [
        "import matplotlib.pyplot as plt\n",
        "import pandas as pd"
      ]
    },
    {
      "cell_type": "markdown",
      "metadata": {},
      "source": [
        "The following code will read the data from the 'text.csv', that is, the csv file we have created a shortwhile ago. "
      ]
    },
    {
      "cell_type": "code",
      "execution_count": null,
      "metadata": {
        "trusted": true
      },
      "outputs": [],
      "source": [
        "data = pd.read_csv('test.csv')"
      ]
    },
    {
      "cell_type": "markdown",
      "metadata": {},
      "source": [
        "Now,all you need is simple 'print(data)' code to print this data. \n",
        "\n",
        "As expected we have them in a very user friendly tabular form. "
      ]
    },
    {
      "cell_type": "code",
      "execution_count": null,
      "metadata": {
        "trusted": true
      },
      "outputs": [],
      "source": [
        "print(data)"
      ]
    },
    {
      "cell_type": "markdown",
      "metadata": {},
      "source": [
        "Now, would you like to visualize the same data in a different form? \n",
        "\n",
        "This time, in the form of a scatter plot of the data with 'Time' in the horizontal axis and 'Temperature' in the vertical axis. \n",
        "\n",
        "Take a look at the following code. First, the figure size has to be defined. \n",
        "\n",
        "Here, the 'figsize' specifies the size of the figure in inches (width, height), and in this case, it sets the width to 8 inches and the height to 6 inches. \n",
        "\n",
        "The second line produces the scatter plot. 'Time' in the horizontal axis and the 'Temperature' in the vertical axis. \n",
        "\n",
        "'plt.show()' is a Matplotlib function used to display the plot or figure that you have created."
      ]
    },
    {
      "cell_type": "code",
      "execution_count": null,
      "metadata": {
        "trusted": true
      },
      "outputs": [],
      "source": [
        "# Set up the size of the plot figure\n",
        "plt.figure(figsize=(8, 6))\n",
        "\n",
        "# Create a scatter plot with study hours on the x-axis and test scores on the y-axis\n",
        "plt.scatter(data['Time'], data['Temperature'])\n",
        "\n",
        "# Display the plot\n",
        "plt.show()"
      ]
    },
    {
      "cell_type": "markdown",
      "metadata": {},
      "source": [
        "However, this plot is incomplete. Can you guess why?\n",
        "\n",
        "The reason is this. Some one who does'nt know the code and only sees the plot will not know what is in the horizontal or x axis and what is in the vertical or y axis.That is why, we need to label the axes to complete a plot like this. Dont forget to mention the units, 'Time in hours' and 'Temperature in degrees Celsius'.\n",
        "\n",
        "Adding a title to the plot will further complete it. We also add grid lines to enhance the readability.\n",
        "\n",
        "\n"
      ]
    },
    {
      "cell_type": "code",
      "execution_count": null,
      "metadata": {
        "trusted": true
      },
      "outputs": [],
      "source": [
        "# Set up the size of the plot figure\n",
        "plt.figure(figsize=(8, 6))\n",
        "\n",
        "# Create a scatter plot with study hours on the x-axis and test scores on the y-axis\n",
        "plt.scatter(data['Time'], data['Temperature'])\n",
        "\n",
        "# Label the x-axis with 'Study Hours'\n",
        "plt.xlabel('Time in hours')\n",
        "\n",
        "# Label the y-axis with 'Test Scores'\n",
        "plt.ylabel('Temperature in degrees Celcius')\n",
        "\n",
        "# Add a title to the plot\n",
        "plt.title('Time vs. Temperature')\n",
        "\n",
        "# Add grid lines to the plot for better readability\n",
        "plt.grid(True)\n",
        "\n",
        "# Display the plot\n",
        "plt.show()"
      ]
    },
    {
      "cell_type": "markdown",
      "metadata": {},
      "source": [
        "Sometimes, we would like to connect the data points with straight line pieces to further enhance the visualization effect. They are called 'Regression Lines'. \n",
        "\n",
        "Note that we have added only a one new line to the code. 'plt.plot()'code adds regression lines on top of the scatter plot. \n",
        "\n",
        "If you remove the 'plt.scatter()' line in the code, you will only see the regression lines. "
      ]
    },
    {
      "cell_type": "code",
      "execution_count": null,
      "metadata": {
        "trusted": true
      },
      "outputs": [],
      "source": [
        "plt.figure(figsize=(8, 6))\n",
        "plt.scatter(data['Time'], data['Temperature'])\n",
        "\n",
        "#Add a red line that connects the data points to show the trend (Regression Line)\n",
        "plt.plot(data['Time'], data['Temperature'], color='red')\n",
        "\n",
        "plt.title('Time vs. Temperature')\n",
        "plt.xlabel('Time in Hours')\n",
        "plt.ylabel('Temperature in degrees Celcius')\n",
        "\n",
        "plt.grid(True)\n",
        "plt.show()\n"
      ]
    },
    {
      "cell_type": "markdown",
      "metadata": {},
      "source": [
        "By replasing the 'plt.scatter()' line with 'plt.bar()' we can visualize this data in the form of vertical barchart. \n",
        "\n",
        "You can now try 'plt.barh()'. This will produce a horizontal barchart. "
      ]
    },
    {
      "cell_type": "code",
      "execution_count": null,
      "metadata": {
        "trusted": true
      },
      "outputs": [],
      "source": [
        "# Create a line plot\n",
        "plt.figure(figsize=(8, 6))\n",
        "plt.bar(data['Time'], data['Temperature'], color='orange')\n",
        "\n",
        "plt.title('Time vs. Temperature')\n",
        "plt.xlabel('Time in hours)')\n",
        "plt.ylabel('Temperature in degrees Celcius')\n",
        "\n",
        "plt.grid(True)\n",
        "plt.show()"
      ]
    },
    {
      "cell_type": "markdown",
      "metadata": {},
      "source": [
        "By replasing the 'plt.bar()' line with 'plt.hist()' we can visualize the same data in the form of a histogram. \n",
        "\n",
        "Histogram shows the number of times each data value occurs. This also called the frequency plot."
      ]
    },
    {
      "cell_type": "code",
      "execution_count": null,
      "metadata": {
        "trusted": true
      },
      "outputs": [],
      "source": [
        "plt.figure(figsize=(8, 6))\n",
        "plt.hist(data['Temperature'], bins=40, color='purple', alpha=0.7)\n",
        "\n",
        "plt.title('Temperature Distribution Histogram')\n",
        "plt.xlabel('Temperature in degrees Celcius')\n",
        "plt.ylabel('Frequency')\n",
        "\n",
        "plt.grid(axis='y')\n",
        "\n",
        "plt.show()"
      ]
    },
    {
      "cell_type": "code",
      "execution_count": null,
      "metadata": {},
      "outputs": [],
      "source": []
    }
  ],
  "metadata": {
    "kernelspec": {
      "display_name": "Python (Pyodide)",
      "language": "python",
      "name": "python"
    },
    "language_info": {
      "codemirror_mode": {
        "name": "python",
        "version": 3
      },
      "file_extension": ".py",
      "mimetype": "text/x-python",
      "name": "python",
      "nbconvert_exporter": "python",
      "pygments_lexer": "ipython3",
      "version": "3.8"
    }
  },
  "nbformat": 4,
  "nbformat_minor": 4
}
