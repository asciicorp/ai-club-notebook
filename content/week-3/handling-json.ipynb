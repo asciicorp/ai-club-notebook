{
  "cells": [
    {
      "cell_type": "markdown",
      "metadata": {},
      "source": [
        "## Creating a JSON file\n",
        "\n",
        "First we need to imprt the 'jason' function in python. Please see the first line of the following code.\n",
        "\n",
        "The second line of the following code creates a json file named \"test.jason\"."
      ]
    },
    {
      "cell_type": "code",
      "execution_count": null,
      "metadata": {
        "trusted": true
      },
      "outputs": [],
      "source": [
        "import json\n",
        "file = open('test.json', \"w\")"
      ]
    },
    {
      "cell_type": "markdown",
      "metadata": {},
      "source": [
        "In the following you see creating a dataset and then writing to the jason file \"test.jason\". \n",
        "\n",
        "The dataset here is a list of three purchased items at an online mobile phone vendor by a customer named \"Michael\".\n",
        "\n",
        "The 'data' in the following code is a dictionary defined and contains a single key-value pair. \n",
        "\n",
        "The key is \"customers\", and the associated value is a list containing one element.\n",
        "\n",
        "Inside the list, there is a dictionary representing a customer's information.  This dictionary has two key-value pairs \"name\" and \"purchases\".\n",
        "\n",
        "The last two lines in the code write this data to the jason file.\n",
        "\n",
        "Now, we have to run the code to store the data. \n",
        "\n",
        "The file is in the colum on your left. You would like to open it to see the content. "
      ]
    },
    {
      "cell_type": "code",
      "execution_count": null,
      "metadata": {
        "trusted": true
      },
      "outputs": [],
      "source": [
        "data = {\n",
        "    \"customers\": [\n",
        "        {\n",
        "            \"name\": \"Michael\",\n",
        "            \"purchases\": [\"Iphone14\", \"Iphone14 back cover\", \"Iphone14 screen protector\"]\n",
        "        }        \n",
        "    ]\n",
        "}\n",
        "\n",
        "\n",
        "with open('test.json', 'w') as file:\n",
        "    json.dump(data, file)"
      ]
    },
    {
      "cell_type": "markdown",
      "metadata": {},
      "source": [
        "Now let's read the data and print them.\n",
        "\n",
        "The following block of code reads the data and print them.  "
      ]
    },
    {
      "cell_type": "code",
      "execution_count": null,
      "metadata": {
        "trusted": true
      },
      "outputs": [],
      "source": [
        "with open('test.json', 'r') as file:\n",
        "    data = json.load(file)\n",
        "\n",
        "print(data)"
      ]
    },
    {
      "cell_type": "markdown",
      "metadata": {},
      "source": [
        "Assume we want to add the purchased details of two new customers, namely, \" Jenifer\" and \"Johnson\" to the dataset.\n",
        "\n",
        "In the following code the new data has been assigned to a string variable called new_customers. Note that this sring is in the list form that we discussed last week.\n",
        "\n",
        "The code that follows, append the new_customers to the exisiting data \"customers\" list in the dictonary \"data\"\n"
      ]
    },
    {
      "cell_type": "code",
      "execution_count": null,
      "metadata": {
        "trusted": true
      },
      "outputs": [],
      "source": [
        "# New customers and their purchases\n",
        "new_customers = [\n",
        "    {\n",
        "    \"name\": \"Jenifer\",\n",
        "    \"purchases\": [\"Samsum Galxy S3\", \"Samsung Galaxy Back cover\"]\n",
        "    },\n",
        "    {\n",
        "    \"name\": \"Johnson\",\n",
        "    \"purchases\": [\"Moto G\", \"MOTO G Back Cover\", \"Moto G Charger\"]\n",
        "    }\n",
        "]\n",
        "# Append the new_customers to the list of customers\n",
        "data[\"customers\"].append(new_customers)\n",
        "\n",
        "# Write back the updated data\n",
        "with open('test.json', 'w') as file:\n",
        "    json.dump(data, file)"
      ]
    },
    {
      "cell_type": "markdown",
      "metadata": {},
      "source": [
        "Now let's read the data and print them.\n",
        "\n",
        "The follwong block of code reads the data and print them.\n",
        "\n",
        "Here, you can clearly see that the apended data also printed."
      ]
    },
    {
      "cell_type": "code",
      "execution_count": null,
      "metadata": {
        "trusted": true
      },
      "outputs": [],
      "source": [
        "with open('test.json', 'r') as file:\n",
        "    data = json.load(file)\n",
        "\n",
        "print(data)"
      ]
    },
    {
      "cell_type": "markdown",
      "metadata": {},
      "source": [
        "Let's say that Michael purchased a new item from the store. The purchased item should be added to the existing \"purchases\" list.\n",
        "\n",
        "The following code append the newly purchased item \"Airpods 3rd Gen\" to the \"purchases\" list.\n",
        "\n",
        "You can see a 'for loop' that u learned last week. Here, the 'for loop' is used. Can you remember that the \"for\" loop can be used to iterate over a list?\n",
        "\n",
        "In here, for loop iterates over a list of names in the list called \"customers\" to find \"Michael\". And then \"Airpods 3rd Gen\" is appended to his \"purchases\" list."
      ]
    },
    {
      "cell_type": "code",
      "execution_count": null,
      "metadata": {
        "trusted": true
      },
      "outputs": [],
      "source": [
        "for customer in data[\"customers\"]:\n",
        "    if customer[\"name\"] == \"Michael\":\n",
        "        customer[\"purchases\"].append(\"Airpods 3rd Gen\")\n",
        "        break\n",
        "\n",
        "# Write back the updated data\n",
        "with open('test.json', 'w') as file:\n",
        "    json.dump(data, file)"
      ]
    },
    {
      "cell_type": "markdown",
      "metadata": {},
      "source": [
        "Now let's read the data and print them.\n",
        "\n",
        "The following block of code reads the data and print them.\n",
        "\n",
        "Here, note that the apended newly purchased item is also printed in the Michael's list of \"Purchases\". "
      ]
    },
    {
      "cell_type": "code",
      "execution_count": null,
      "metadata": {
        "trusted": true
      },
      "outputs": [],
      "source": [
        "with open('test.json', 'r') as file:\n",
        "    data = json.load(file)\n",
        "\n",
        "print(data)"
      ]
    },
    {
      "cell_type": "markdown",
      "metadata": {},
      "source": [
        "\n"
      ]
    }
  ],
  "metadata": {
    "kernelspec": {
      "display_name": "Python (Pyodide)",
      "language": "python",
      "name": "python"
    },
    "language_info": {
      "codemirror_mode": {
        "name": "python",
        "version": 3
      },
      "file_extension": ".py",
      "mimetype": "text/x-python",
      "name": "python",
      "nbconvert_exporter": "python",
      "pygments_lexer": "ipython3",
      "version": "3.8"
    }
  },
  "nbformat": 4,
  "nbformat_minor": 4
}
