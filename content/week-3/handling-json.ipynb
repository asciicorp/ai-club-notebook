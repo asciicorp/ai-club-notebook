{
  "cells": [
    {
      "cell_type": "markdown",
      "metadata": {},
      "source": [
        "### Creating a JSON file"
      ]
    },
    {
      "cell_type": "code",
      "execution_count": null,
      "metadata": {
        "trusted": true
      },
      "outputs": [],
      "source": [
        "import json\n",
        "file = open('test.json', \"w\")"
      ]
    },
    {
      "cell_type": "markdown",
      "metadata": {},
      "source": [
        "### Writing data to a JSON file"
      ]
    },
    {
      "cell_type": "code",
      "execution_count": null,
      "metadata": {},
      "outputs": [],
      "source": [
        "\n",
        "data = {\n",
        "    \"customers\": [\n",
        "        {\n",
        "            \"name\": \"Logee\",\n",
        "            \"purchases\": [\"Iphone14\", \"Iphone14 back cover\", \"Iphone14 screen protector\"]\n",
        "        }        \n",
        "    ]\n",
        "}\n",
        "\n",
        "\n",
        "with open('test.json', 'w') as file:\n",
        "    json.dump(data, file)"
      ]
    },
    {
      "cell_type": "markdown",
      "metadata": {},
      "source": [
        "### Reading a JSON file"
      ]
    },
    {
      "cell_type": "code",
      "execution_count": null,
      "metadata": {
        "trusted": true
      },
      "outputs": [],
      "source": [
        "with open('test.json', 'r') as file:\n",
        "    data = json.load(file)\n",
        "\n",
        "print(data)"
      ]
    },
    {
      "cell_type": "markdown",
      "metadata": {},
      "source": [
        "### Appending new data set to a JSON file"
      ]
    },
    {
      "cell_type": "code",
      "execution_count": null,
      "metadata": {
        "trusted": true
      },
      "outputs": [],
      "source": [
        "# Load existing data\n",
        "with open('test.json', 'r') as file:\n",
        "    data = json.load(file)\n",
        "\n",
        "# New customer and their purchases\n",
        "new_customers = [\n",
        "    {\n",
        "    \"name\": \"Sisil\",\n",
        "    \"purchases\": [\"Samsum Galxy S3\", \"Samsung Galaxy Back cover\"]\n",
        "    },\n",
        "    {\n",
        "    \"name\": \"Chandra\",\n",
        "    \"purchases\": [\"Pet house\", \"Dog food\", \"Pet sleeping mat\"]\n",
        "    }\n",
        "]\n",
        "# Append the new customer to the list of customers\n",
        "data[\"customers\"].append(new_customers)\n",
        "\n",
        "# Write back the updated data\n",
        "with open('test.json', 'w') as file:\n",
        "    json.dump(data, file)"
      ]
    },
    {
      "cell_type": "code",
      "execution_count": null,
      "metadata": {
        "trusted": true
      },
      "outputs": [],
      "source": [
        "with open('test.json', 'r') as file:\n",
        "    data = json.load(file)\n",
        "\n",
        "print(data)"
      ]
    },
    {
      "cell_type": "markdown",
      "metadata": {},
      "source": [
        "### Appending existing data to a JSON file"
      ]
    },
    {
      "cell_type": "code",
      "execution_count": null,
      "metadata": {
        "trusted": true
      },
      "outputs": [],
      "source": [
        "# Load existing data\n",
        "with open('test.json', 'r') as file:\n",
        "    data = json.load(file)\n",
        "\n",
        "# Update a specific customer's purchases\n",
        "customer_name_to_update = \"Logee\"\n",
        "new_purchase_item = \"Airpods 3rd Gen\"\n",
        "\n",
        "for customer in data[\"customers\"]:\n",
        "    if customer[\"name\"] == customer_name_to_update:\n",
        "        customer[\"purchases\"].append(new_purchase_item)\n",
        "        break\n",
        "\n",
        "# Write back the updated data\n",
        "with open('test.json', 'w') as file:\n",
        "    json.dump(data, file)"
      ]
    },
    {
      "cell_type": "code",
      "execution_count": null,
      "metadata": {
        "trusted": true
      },
      "outputs": [],
      "source": [
        "with open('test.json', 'r') as file:\n",
        "    data = json.load(file)\n",
        "\n",
        "print(data)"
      ]
    }
  ],
  "metadata": {
    "kernelspec": {
      "display_name": "Python 3",
      "language": "python",
      "name": "python3"
    },
    "language_info": {
      "codemirror_mode": {
        "name": "ipython",
        "version": 3
      },
      "file_extension": ".py",
      "mimetype": "text/x-python",
      "name": "python",
      "nbconvert_exporter": "python",
      "pygments_lexer": "ipython3",
      "version": "3.11.3"
    }
  },
  "nbformat": 4,
  "nbformat_minor": 4
}
