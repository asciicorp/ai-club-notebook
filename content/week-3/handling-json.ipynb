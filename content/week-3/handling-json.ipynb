{
  "metadata": {
    "language_info": {
      "codemirror_mode": {
        "name": "python",
        "version": 3
      },
      "file_extension": ".py",
      "mimetype": "text/x-python",
      "name": "python",
      "nbconvert_exporter": "python",
      "pygments_lexer": "ipython3",
      "version": "3.8"
    },
    "kernelspec": {
      "name": "python",
      "display_name": "Python (Pyodide)",
      "language": "python"
    }
  },
  "nbformat_minor": 4,
  "nbformat": 4,
  "cells": [
    {
      "cell_type": "markdown",
      "source": "## Creating a JSON file\n\nFirst we need to imprt the 'jason' function in python. Please see the first line of the following code.\n\nThe second line of the following code creates a json file named \"test.jason\".",
      "metadata": {}
    },
    {
      "cell_type": "code",
      "source": "import json\nfile = open('test.json', \"w\")",
      "metadata": {
        "trusted": true
      },
      "execution_count": 1,
      "outputs": []
    },
    {
      "cell_type": "markdown",
      "source": "In the following you see creating a dataset and then writing to the jason file \"test.jason\". \n\nThe dataset here is a list of three purchased items at an online mobile phone vendor by a customer named \"Michael\".\n\nThe 'data' in the following code is a dictionary defined and contains a single key-value pair. \n\nThe key is \"customers\", and the associated value is a list containing one element.\n\nInside the list, there is a dictionary representing a customer's information.  This dictionary has two key-value pairs \"name\" and \"purchases\".\n\nThe last two lines in the code write this data to the jason file.\n\nNow, we have to run the code to store the data. \n\nThe file is in the colum on your left. You would like to open it to see the content. ",
      "metadata": {}
    },
    {
      "cell_type": "code",
      "source": "data = {\n    \"customers\": [\n        {\n            \"name\": \"Michael\",\n            \"purchases\": [\"Iphone14\", \"Iphone14 back cover\", \"Iphone14 screen protector\"]\n        }        \n    ]\n}\n\n\nwith open('test.json', 'w') as file:\n    json.dump(data, file)",
      "metadata": {
        "trusted": true
      },
      "execution_count": 2,
      "outputs": []
    },
    {
      "cell_type": "markdown",
      "source": "Now let's read the data and print them.\n\nThe following block of code reads the data and print them.  ",
      "metadata": {}
    },
    {
      "cell_type": "code",
      "source": "with open('test.json', 'r') as file:\n    data = json.load(file)\n\nprint(data)",
      "metadata": {
        "trusted": true
      },
      "execution_count": 3,
      "outputs": [
        {
          "name": "stdout",
          "text": "{'customers': [{'name': 'Michael', 'purchases': ['Iphone14', 'Iphone14 back cover', 'Iphone14 screen protector']}]}\n",
          "output_type": "stream"
        }
      ]
    },
    {
      "cell_type": "markdown",
      "source": "Assume we want to add the purchased details of two new customers, namely, \" Jenifer\" and \"Johnson\" to the dataset.\n\nIn the following code the new data has been assigned to a string variable called new_customers. Note that this sring is in the list form that we discussed last week.\n\nThe code that follows, append the new_customers to the exisiting data \"customers\" list in the dictonary \"data\"\n",
      "metadata": {}
    },
    {
      "cell_type": "code",
      "source": "# New customers and their purchases\nnew_customers = [\n    {\n    \"name\": \"Jenifer\",\n    \"purchases\": [\"Samsum Galxy S3\", \"Samsung Galaxy Back cover\"]\n    },\n    {\n    \"name\": \"Johnson\",\n    \"purchases\": [\"Moto G\", \"MOTO G Back Cover\", \"Moto G Charger\"]\n    }\n]\n# Append the new_customers to the list of customers\ndata[\"customers\"].append(new_customers)\n\n# Write back the updated data\nwith open('test.json', 'w') as file:\n    json.dump(data, file)",
      "metadata": {
        "trusted": true
      },
      "execution_count": 4,
      "outputs": []
    },
    {
      "cell_type": "markdown",
      "source": "Now let's read the data and print them.\n\nThe follwong block of code reads the data and print them.\n\nHere, you can clearly see that the apended data also printed.",
      "metadata": {}
    },
    {
      "cell_type": "code",
      "source": "with open('test.json', 'r') as file:\n    data = json.load(file)\n\nprint(data)",
      "metadata": {
        "trusted": true
      },
      "execution_count": 5,
      "outputs": [
        {
          "name": "stdout",
          "text": "{'customers': [{'name': 'Michael', 'purchases': ['Iphone14', 'Iphone14 back cover', 'Iphone14 screen protector']}, [{'name': 'Jenifer', 'purchases': ['Samsum Galxy S3', 'Samsung Galaxy Back cover']}, {'name': 'Johnson', 'purchases': ['Moto G', 'MOTO G Back Cover', 'Moto G Charger']}]]}\n",
          "output_type": "stream"
        }
      ]
    },
    {
      "cell_type": "markdown",
      "source": "Let's say that Michael purchased a new item from the store. The purchased item should be added to the existing \"purchases\" list.\n\nThe following code append the newly purchased item \"Airpods 3rd Gen\" to the \"purchases\" list.\n\nYou can see a 'for loop' that u learned last week. Here, the 'for loop' is used. Can you remember that the \"for\" loop can be used to iterate over a list?\n\nIn here, for loop iterates over a list of names in the list called \"customers\" to find \"Michael\". And then \"Airpods 3rd Gen\" is appended to his \"purchases\" list.",
      "metadata": {}
    },
    {
      "cell_type": "code",
      "source": "for customer in data[\"customers\"]:\n    if customer[\"name\"] == \"Michael\":\n        customer[\"purchases\"].append(\"Airpods 3rd Gen\")\n        break\n\n# Write back the updated data\nwith open('test.json', 'w') as file:\n    json.dump(data, file)",
      "metadata": {
        "trusted": true
      },
      "execution_count": 6,
      "outputs": []
    },
    {
      "cell_type": "markdown",
      "source": "Now let's read the data and print them.\n\nThe following block of code reads the data and print them.\n\nHere, note that the apended newly purchased item is also printed in the Michael's list of \"Purchases\". ",
      "metadata": {}
    },
    {
      "cell_type": "code",
      "source": "with open('test.json', 'r') as file:\n    data = json.load(file)\n\nprint(data)",
      "metadata": {
        "trusted": true
      },
      "execution_count": 7,
      "outputs": [
        {
          "name": "stdout",
          "text": "{'customers': [{'name': 'Michael', 'purchases': ['Iphone14', 'Iphone14 back cover', 'Iphone14 screen protector', 'Airpods 3rd Gen']}, [{'name': 'Jenifer', 'purchases': ['Samsum Galxy S3', 'Samsung Galaxy Back cover']}, {'name': 'Johnson', 'purchases': ['Moto G', 'MOTO G Back Cover', 'Moto G Charger']}]]}\n",
          "output_type": "stream"
        }
      ]
    },
    {
      "cell_type": "markdown",
      "source": "\n",
      "metadata": {}
    }
  ]
}