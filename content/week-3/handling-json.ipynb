{
  "metadata": {
    "language_info": {
      "codemirror_mode": {
        "name": "python",
        "version": 3
      },
      "file_extension": ".py",
      "mimetype": "text/x-python",
      "name": "python",
      "nbconvert_exporter": "python",
      "pygments_lexer": "ipython3",
      "version": "3.8"
    },
    "kernelspec": {
      "name": "python",
      "display_name": "Python (Pyodide)",
      "language": "python"
    }
  },
  "nbformat_minor": 4,
  "nbformat": 4,
  "cells": [
    {
      "cell_type": "code",
      "source": "import json\nfile = open('test.json', \"w\")",
      "metadata": {
        "trusted": true
      },
      "execution_count": 1,
      "outputs": []
    },
    {
      "cell_type": "code",
      "source": "with open('test.json', 'r') as file:\n    data = json.load(file)\n\nprint(data)",
      "metadata": {
        "trusted": true
      },
      "execution_count": 2,
      "outputs": [
        {
          "name": "stdout",
          "text": "",
          "output_type": "stream"
        },
        {
          "name": "stdout",
          "text": "\n",
          "output_type": "stream"
        }
      ]
    },
    {
      "cell_type": "code",
      "source": "\ndata = {\n    \"customers\": [\n        {\n            \"name\": \"Logee\",\n            \"purchases\": [\"Iphone14\", \"Iphone14 back cover\", \"Iphone14 screen protector\"]\n        }        \n    ]\n}\n\n\nwith open('test.json', 'w') as file:\n    json.dump(data, file)",
      "metadata": {
        "trusted": true
      },
      "execution_count": 3,
      "outputs": []
    },
    {
      "cell_type": "code",
      "source": "with open('test.json', 'r') as file:\n    data = json.load(file)\n\nprint(data)",
      "metadata": {
        "trusted": true
      },
      "execution_count": 4,
      "outputs": [
        {
          "name": "stdout",
          "text": "{'customers': [{'name': 'Logee', 'purchases': ['Iphone14', 'Iphone14 back cover', 'Iphone14 screen protector']}]}\n",
          "output_type": "stream"
        }
      ]
    },
    {
      "cell_type": "code",
      "source": "# Load existing data\nwith open('test.json', 'r') as file:\n    data = json.load(file)\n\n# New customer and their purchases\nnew_customers = [\n    {\n    \"name\": \"Sisil\",\n    \"purchases\": [\"Samsum Galxy S3\", \"Samsung Galaxy Back cover\"]\n    },\n    {\n    \"name\": \"Chandra\",\n    \"purchases\": [\"Pet house\", \"Dog food\", \"Pet sleeping mat\"]\n    }\n]\n# Append the new customer to the list of customers\ndata[\"customers\"].append(new_customers)\n\n# Write back the updated data\nwith open('test.json', 'w') as file:\n    json.dump(data, file)",
      "metadata": {
        "trusted": true
      },
      "execution_count": 6,
      "outputs": []
    },
    {
      "cell_type": "code",
      "source": "with open('test.json', 'r') as file:\n    data = json.load(file)\n\nprint(data)",
      "metadata": {
        "trusted": true
      },
      "execution_count": 7,
      "outputs": [
        {
          "name": "stdout",
          "text": "{'customers': [{'name': 'Logee', 'purchases': ['Iphone14', 'Iphone14 back cover', 'Iphone14 screen protector']}, [{'name': 'Sisil', 'purchases': ['Samsum Galxy S3', 'Samsung Galaxy Back cover']}, {'name': 'Chandra', 'purchases': ['Pet house', 'Dog food', 'Pet sleeping mat']}]]}\n",
          "output_type": "stream"
        }
      ]
    },
    {
      "cell_type": "code",
      "source": "# Load existing data\nwith open('test.json', 'r') as file:\n    data = json.load(file)\n\n# Update a specific customer's purchases\ncustomer_name_to_update = \"Logee\"\nnew_purchase_item = \"Airpods 3rd Gen\"\n\nfor customer in data[\"customers\"]:\n    if customer[\"name\"] == customer_name_to_update:\n        customer[\"purchases\"].append(new_purchase_item)\n        break\n\n# Write back the updated data\nwith open('test.json', 'w') as file:\n    json.dump(data, file)",
      "metadata": {
        "trusted": true
      },
      "execution_count": 8,
      "outputs": []
    },
    {
      "cell_type": "code",
      "source": "with open('test.json', 'r') as file:\n    data = json.load(file)\n\nprint(data)",
      "metadata": {
        "trusted": true
      },
      "execution_count": 9,
      "outputs": [
        {
          "name": "stdout",
          "text": "{'customers': [{'name': 'Logee', 'purchases': ['Iphone14', 'Iphone14 back cover', 'Iphone14 screen protector', 'Airpods 3rd Gen']}, [{'name': 'Sisil', 'purchases': ['Samsum Galxy S3', 'Samsung Galaxy Back cover']}, {'name': 'Chandra', 'purchases': ['Pet house', 'Dog food', 'Pet sleeping mat']}]]}\n",
          "output_type": "stream"
        }
      ]
    },
    {
      "cell_type": "code",
      "source": "",
      "metadata": {},
      "execution_count": null,
      "outputs": []
    }
  ]
}