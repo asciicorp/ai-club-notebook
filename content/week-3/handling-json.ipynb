{
 "cells": [
  {
   "cell_type": "markdown",
   "metadata": {},
   "source": [
    "# Handling JSON Files with Python\n",
    "\n",
    "JSON (JavaScript Object Notation) is a widely used format for data exchange due to its simplicity and readability. Python's built-in `json` module makes it easy to work with JSON files. In this Jupyter Notebook, we'll explore different aspects of handling JSON files in Python."
   ]
  },
  {
   "cell_type": "markdown",
   "metadata": {},
   "source": [
    "## Reading JSON from a File\n",
    "\n",
    "To read from a JSON file, you can use the `json.load()` function provided by Python's `json` module. Let's see an example:"
   ]
  },
  {
   "cell_type": "code",
   "execution_count": 1,
   "metadata": {},
   "outputs": [
    {
     "name": "stdout",
     "output_type": "stream",
     "text": [
      "{'name': 'ChatGPT', 'domain': 'AI', 'version': 3.5}\n"
     ]
    }
   ],
   "source": [
    "import json\n",
    "\n",
    "with open('data.json', 'r') as file:\n",
    "    data = json.load(file)\n",
    "\n",
    "print(data)"
   ]
  },
  {
   "cell_type": "markdown",
   "metadata": {},
   "source": [
    "### Let's go through each code line \n",
    "\n",
    "#### `import json`\n",
    "\n",
    "In this line, the `json` module is imported, which provides functions for encoding and decoding JSON data."
   ]
  },
  {
   "cell_type": "code",
   "execution_count": 2,
   "metadata": {},
   "outputs": [],
   "source": [
    "with open('data.json', 'r') as file:\n",
    "    data = json.load(file)"
   ]
  },
  {
   "cell_type": "markdown",
   "metadata": {},
   "source": [
    "#### `with open('data.json', 'r') as file:`\n",
    "\n",
    "In this line, a context is created using the `with` statement, and the `open()` function is used to open the JSON file named 'data.json' in read mode (`'r'`). The `file` object represents the opened file. This mode allows you to read the content of the file."
   ]
  },
  {
   "cell_type": "code",
   "execution_count": 3,
   "metadata": {},
   "outputs": [],
   "source": [
    "print(data)"
   ]
  },
  {
   "cell_type": "markdown",
   "metadata": {},
   "source": [
    "#### `data = json.load(file)`\n",
    "\n",
    "This line uses the `json.load()` function to parse the JSON content from the `file` object and store it in the `data` variable. The resulting `data` variable contains the decoded JSON content."
   ]
  },
  {
   "cell_type": "markdown",
   "metadata": {},
   "source": [
    "## Writing JSON to a File\n",
    "\n",
    "To write JSON data to a file, you can use the `json.dump()` function provided by Python's `json` module. Let's see an example:"
   ]
  },
  {
   "cell_type": "code",
   "execution_count": 4,
   "metadata": {},
   "outputs": [],
   "source": [
    "import json\n",
    "\n",
    "data = {\n",
    "    'name': 'ChatGPT',\n",
    "    'domain': 'AI',\n",
    "    'version': 3.5\n",
    "}\n",
    "\n",
    "with open('output.json', 'w') as file:\n",
    "    json.dump(data, file)"
   ]
  },
  {
   "cell_type": "markdown",
   "metadata": {},
   "source": [
    "### Let's go through each code line \n",
    "\n",
    "#### `data = {...}`\n",
    "\n",
    "In this block, a dictionary named `data` is defined, containing key-value pairs representing information related to an AI entity."
   ]
  },
  {
   "cell_type": "code",
   "execution_count": 5,
   "metadata": {},
   "outputs": [],
   "source": [
    "with open('output.json', 'w') as file:\n",
    "    json.dump(data, file)"
   ]
  },
  {
   "cell_type": "markdown",
   "metadata": {},
   "source": [
    "#### `with open('output.json', 'w') as file:`\n",
    "\n",
    "In this line, a context is created using the `with` statement, and the `open()` function is used to open the file named 'output.json' in write mode (`'w'`). If the file doesn't exist, it will be created. The `file` object represents the opened file. This mode allows you to write the content to the file."
   ]
  },
  {
   "cell_type": "code",
   "execution_count": 6,
   "metadata": {},
   "outputs": [],
   "source": [
    "json.dump(data, file)"
   ]
  },
  {
   "cell_type": "markdown",
   "metadata": {},
   "source": [
    "#### `json.dump(data, file)`\n",
    "\n",
    "This line uses the `json.dump()` function to write the dictionary `data` into the `file` object in JSON format. This function takes two arguments: the data to be written (`data`) and the file object (`file`) to which the data should be written."
   ]
  },
  {
   "cell_type": "markdown",
   "metadata": {},
   "source": [
    "## Working with Nested JSON\n",
    "\n",
    "JSON data can be nested, containing hierarchical structures. The following example demonstrates how to work with nested JSON data."
   ]
  },
  {
   "cell_type": "code",
   "execution_count": 7,
   "metadata": {},
   "outputs": [],
   "source": [
    "import json\n",
    "\n",
    "nested_data = {\n",
    "    'person': {\n",
    "        'name': 'Alice',\n",
    "        'age': 30,\n",
    "        'job': 'Data Scientist'\n",
    "    }\n",
    "}\n",
    "\n",
    "with open('nested.json', 'w') as file:\n",
    "    json.dump(nested_data, file, indent=4)"
   ]
  },
  {
   "cell_type": "markdown",
   "metadata": {},
   "source": [
    "### Let's go through each code line \n",
    "\n",
    "#### `nested_data = {...}`\n",
    "\n",
    "In this block, a nested dictionary named `nested_data` is defined. It contains a 'person' key that maps to an inner dictionary containing information about a person."
   ]
  },
  {
   "cell_type": "code",
   "execution_count": 8,
   "metadata": {},
   "outputs": [],
   "source": [
    "with open('nested.json', 'w') as file:\n",
    "    json.dump(nested_data, file, indent=4)"
   ]
  },
  {
   "cell_type": "markdown",
   "metadata": {},
   "source": [
    "#### `with open('nested.json', 'w') as file:`\n",
    "\n",
    "Similar to previous cases, a context is created using the `with` statement, and the `open()` function is used to open the file named 'nested.json' in write mode (`'w'`). This mode allows you to write the content to the file."
   ]
  },
  {
   "cell_type": "code",
   "execution_count": 9,
   "metadata": {},
   "outputs": [],
   "source": [
    "json.dump(nested_data, file, indent=4)"
   ]
  },
  {
   "cell_type": "markdown",
   "metadata": {},
   "source": [
    "#### `json.dump(nested_data, file, indent=4)`\n",
    "\n",
    "This line uses the `json.dump()` function again to write the nested dictionary `nested_data` into the `file` object in JSON format. The `indent` parameter is set to 4 to improve readability by formatting the JSON content with indentation."
   ]
  },
  {
   "cell_type": "markdown",
   "metadata": {},
   "source": [
    "## Manipulating JSON Data\n",
    "\n",
    "Once JSON data is read, it can be manipulated and updated. Here's how:"
   ]
  },
  {
   "cell_type": "code",
   "execution_count": 10,
   "metadata": {},
   "outputs": [],
   "source": [
    "import json\n",
    "\n",
    "with open('data.json', 'r') as file:\n",
    "    data = json.load(file)\n",
    "\n",
    "data['version'] = 4.0\n",
    "\n",
    "with open('data.json', 'w') as file:\n",
    "    json.dump(data, file, indent=4)"
   ]
  },
  {
   "cell_type": "markdown",
   "metadata": {},
   "source": [
    "### Let's go through each code line \n",
    "\n",
    "#### `with open('data.json', 'r') as file:`\n",
    "\n",
    "As before, a context is created using the `with` statement, and the `open()` function is used to open the JSON file named 'data.json' in read mode (`'r'`). The `file` object represents the opened file. This mode allows you to read the content of the file."
   ]
  },
  {
   "cell_type": "code",
   "execution_count": 11,
   "metadata": {},
   "outputs": [],
   "source": [
    "data['version'] = 4.0"
   ]
  },
  {
   "cell_type": "markdown",
   "metadata": {},
   "source": [
    "#### `data['version'] = 4.0`\n",
    "\n",
    "This line updates the value of the 'version' key in the `data` dictionary to 4.0. The JSON data is now modified in memory."
   ]
  },
  {
   "cell_type": "code",
   "execution_count": 12,
   "metadata": {},
   "outputs": [],
   "source": [
    "with open('data.json', 'w') as file:\n",
    "    json.dump(data, file, indent=4)"
   ]
  },
  {
   "cell_type": "markdown",
   "metadata": {},
   "source": [
    "#### `with open('data.json', 'w') as file:`\n",
    "\n",
    "Again, a context is created using the `with` statement, and the `open()` function is used to open the file named 'data.json' in write mode (`'w'`). This mode allows you to write the updated content back to the file."
   ]
  },
  {
   "cell_type": "code",
   "execution_count": 13,
   "metadata": {},
   "outputs": [],
   "source": [
    "json.dump(data, file, indent=4)"
   ]
  },
  {
   "cell_type": "markdown",
   "metadata": {},
   "source": [
    "#### `json.dump(data, file, indent=4)`\n",
    "\n",
    "This line uses the `json.dump()` function again to write the modified `data` dictionary back into the `file` object. The `indent` parameter is used to format the JSON content for improved readability."
   ]
  },
  {
   "cell_type": "markdown",
   "metadata": {},
   "source": [
    "## Exercise: Updating JSON Data\n",
    "\n",
    "In this exercise, you'll work with a JSON file containing information about a team of AI researchers. Your task is to read the JSON data, update the information for a specific researcher, and then save the modified data back to the file.\n",
    "\n",
    "1. Create a JSON file named researchers.json with the following content:"
   ]
  },
  {
   "cell_type": "code",
   "execution_count": null,
   "id": "7c74d38e",
   "metadata": {},
   "outputs": [],
   "source": [
    "{\n",
    "    \"team\": [\n",
    "        {\n",
    "            \"name\": \"Alice\",\n",
    "            \"role\": \"Data Scientist\",\n",
    "            \"experience\": 2\n",
    "        },\n",
    "        {\n",
    "            \"name\": \"Bob\",\n",
    "            \"role\": \"Machine Learning Engineer\",\n",
    "            \"experience\": 3\n",
    "        },\n",
    "        {\n",
    "            \"name\": \"Charlie\",\n",
    "            \"role\": \"Research Scientist\",\n",
    "            \"experience\": 5\n",
    "        }\n",
    "    ]\n",
    "}"
   ]
  },
  {
   "cell_type": "markdown",
   "id": "d09bf406",
   "metadata": {},
   "source": [
    "Write Python code to perform the following steps:\n",
    "\n",
    "a. Open the researchers.json file and load its content into a dictionary.\n",
    "\n",
    "b. Update the information for the researcher with the name \"Bob\". Change his role to \"AI Researcher\" and update his experience to 4.\n",
    "\n",
    "c. Save the modified dictionary back to the researchers.json file."
   ]
  }
 ],
 "metadata": {
  "kernelspec": {
   "display_name": "Python 3.x",
   "language": "python",
   "name": "python3"
  },
  "language_info": {
   "codemirror_mode": {
    "name": "ipython",
    "version": 3
   },
   "file_extension": ".py",
   "mimetype": "text/x-python",
   "name": "python",
   "nbconvert_exporter": "python",
   "pygments_lexer": "ipython3",
   "version": "3.9.5"
  }
 },
 "nbformat": 4,
 "nbformat_minor": 5
}
