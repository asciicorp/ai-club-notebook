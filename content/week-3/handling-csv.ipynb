{
  "metadata": {
    "language_info": {
      "codemirror_mode": {
        "name": "python",
        "version": 3
      },
      "file_extension": ".py",
      "mimetype": "text/x-python",
      "name": "python",
      "nbconvert_exporter": "python",
      "pygments_lexer": "ipython3",
      "version": "3.8"
    },
    "kernelspec": {
      "name": "python",
      "display_name": "Python (Pyodide)",
      "language": "python"
    }
  },
  "nbformat_minor": 4,
  "nbformat": 4,
  "cells": [
    {
      "cell_type": "markdown",
      "source": "## Creating a CSV file\n\nFirst we need to imprt the 'csv' function in python. Please see the first line of the following code.\n\nThe second line creates a 'csv' file named \"test.csv\".",
      "metadata": {}
    },
    {
      "cell_type": "code",
      "source": "import csv\nfile =open('test.csv', 'w')",
      "metadata": {
        "trusted": true
      },
      "execution_count": 1,
      "outputs": []
    },
    {
      "cell_type": "markdown",
      "source": "Let's say we want to enter the Date, Time and Hourly Temperature Dataset to the CSV file we have just created.\n\nWe would like to have it in a tabular form where the first column is the \"Data\", second column is the \"Time in Hours\" and the third column is the \"Temperature in Degrees Celsius\"\n\nNote that, the Column names of the table, that are, \"Date\", \"Time\" and \"Temperature\" have been entered as a list, \"column_names\".\n\nNote also that, the \"Date\", \"Time\" and \"Temperature\" data have been entered in the form of a dictonary, \"data\". \n\nThe last piece of code writes the data to the 'csv' file. \n\nThis file we have just created is visible in the file list on your left on the screen. You would like to open it and see the content in it.  ",
      "metadata": {}
    },
    {
      "cell_type": "code",
      "source": "# Define the field names\ncolumn_names = [\"Date\", \"Time\", \"Temperature\"]\n\ndata = [\n    {\"Date\": \"20.08.2023\", \"Time\": \"0\", \"Temperature\": \"22\"},\n    {\"Date\": \"20.08.2023\", \"Time\": \"1\", \"Temperature\": \"22\"},\n    {\"Date\": \"20.08.2023\", \"Time\": \"2\", \"Temperature\": \"23\"},\n    {\"Date\": \"20.08.2023\", \"Time\": \"3\", \"Temperature\": \"22\"},\n    {\"Date\": \"20.08.2023\", \"Time\": \"4\", \"Temperature\": \"24\"},\n    {\"Date\": \"20.08.2023\", \"Time\": \"5\", \"Temperature\": \"24\"},\n    {\"Date\": \"20.08.2023\", \"Time\": \"6\", \"Temperature\": \"26\"},\n    {\"Date\": \"20.08.2023\", \"Time\": \"7\", \"Temperature\": \"27\"},\n    {\"Date\": \"20.08.2023\", \"Time\": \"8\", \"Temperature\": \"29\"},\n    {\"Date\": \"20.08.2023\", \"Time\": \"9\", \"Temperature\": \"30\"},\n    {\"Date\": \"20.08.2023\", \"Time\": \"10\", \"Temperature\": \"34\"},\n    {\"Date\": \"20.08.2023\", \"Time\": \"11\", \"Temperature\": \"35\"},\n    {\"Date\": \"20.08.2023\", \"Time\": \"12\", \"Temperature\": \"38\"},\n    {\"Date\": \"20.08.2023\", \"Time\": \"13\", \"Temperature\": \"38\"},\n    {\"Date\": \"20.08.2023\", \"Time\": \"14\", \"Temperature\": \"37\"},\n    {\"Date\": \"20.08.2023\", \"Time\": \"15\", \"Temperature\": \"36\"},\n    {\"Date\": \"20.08.2023\", \"Time\": \"16\", \"Temperature\": \"34\"},\n    {\"Date\": \"20.08.2023\", \"Time\": \"17\", \"Temperature\": \"30\"},\n    {\"Date\": \"20.08.2023\", \"Time\": \"18\", \"Temperature\": \"30\"},\n    {\"Date\": \"20.08.2023\", \"Time\": \"19\", \"Temperature\": \"29\"},\n    {\"Date\": \"20.08.2023\", \"Time\": \"20\", \"Temperature\": \"25\"},\n    {\"Date\": \"20.08.2023\", \"Time\": \"21\", \"Temperature\": \"24\"},\n    {\"Date\": \"20.08.2023\", \"Time\": \"22\", \"Temperature\": \"23\"},\n    {\"Date\": \"20.08.2023\", \"Time\": \"23\", \"Temperature\": \"23\"},\n       \n  ]\n\n# Write the data to the CSV file\nwith open('test.csv', 'w', newline='') as file:\n    writer = csv.DictWriter(file, fieldnames=column_names)\n    for row in data:\n        writer.writerow(row)\n",
      "metadata": {
        "trusted": true
      },
      "execution_count": 2,
      "outputs": []
    },
    {
      "cell_type": "code",
      "source": "# Update a specific temperature value\nupdate_date = \"20.08.2023\"\nupdate_time = \"8 am\"\nnew_temperature = \"32\"\n\nfor row in data:\n    if row[\"Date\"] == update_date and row[\"Time\"] == update_time:\n        row[\"Temperature\"] = new_temperature\n        break\n\n# Write the updated data back to the CSV file\nwith open('test.csv', 'w', newline='') as file:\n    writer = csv.DictWriter(file, fieldnames=column_names)\n    writer.writeheader()\n    writer.writerows(data)\n",
      "metadata": {
        "trusted": true
      },
      "execution_count": 5,
      "outputs": []
    },
    {
      "cell_type": "code",
      "source": "",
      "metadata": {},
      "execution_count": null,
      "outputs": []
    }
  ]
}