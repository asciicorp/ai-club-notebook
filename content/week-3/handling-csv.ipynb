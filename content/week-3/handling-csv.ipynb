{
  "metadata": {
    "language_info": {
      "codemirror_mode": {
        "name": "python",
        "version": 3
      },
      "file_extension": ".py",
      "mimetype": "text/x-python",
      "name": "python",
      "nbconvert_exporter": "python",
      "pygments_lexer": "ipython3",
      "version": "3.8"
    },
    "kernelspec": {
      "name": "python",
      "display_name": "Python (Pyodide)",
      "language": "python"
    }
  },
  "nbformat_minor": 4,
  "nbformat": 4,
  "cells": [
    {
      "cell_type": "code",
      "source": "import csv\nfile =open('test.csv', 'w')",
      "metadata": {
        "trusted": true
      },
      "execution_count": 1,
      "outputs": []
    },
    {
      "cell_type": "code",
      "source": "with open('test.csv', 'r') as file:\n    reader = csv.DictReader(file)\n    data = [row for row in reader]\nprint(data)",
      "metadata": {
        "trusted": true
      },
      "execution_count": 2,
      "outputs": [
        {
          "name": "stdout",
          "text": "[]\n",
          "output_type": "stream"
        }
      ]
    },
    {
      "cell_type": "code",
      "source": "import csv\n# Define the field names\nfield_names = [\"Date\", \"Time_hours\", \"Temperature_degrees\"]\n\nnew_data = [\n    {\"Date\": \"Date\", \"Time_hours\": \"Time_(24 Hours)\", \"Temperature_degrees\": \"Temperature_degrees\"},\n    {\"Date\": \"20.08.2023\", \"Time_hours\": \"0\", \"Temperature_degrees\": \"22\"},\n    {\"Date\": \"20.08.2023\", \"Time_hours\": \"1\", \"Temperature_degrees\": \"22\"},\n    {\"Date\": \"20.08.2023\", \"Time_hours\": \"2\", \"Temperature_degrees\": \"23\"},\n    {\"Date\": \"20.08.2023\", \"Time_hours\": \"3\", \"Temperature_degrees\": \"22\"},\n    {\"Date\": \"20.08.2023\", \"Time_hours\": \"4\", \"Temperature_degrees\": \"24\"},\n    {\"Date\": \"20.08.2023\", \"Time_hours\": \"5\", \"Temperature_degrees\": \"24\"},\n    {\"Date\": \"20.08.2023\", \"Time_hours\": \"6\", \"Temperature_degrees\": \"26\"},\n    {\"Date\": \"20.08.2023\", \"Time_hours\": \"7\", \"Temperature_degrees\": \"27\"},\n    {\"Date\": \"20.08.2023\", \"Time_hours\": \"8\", \"Temperature_degrees\": \"29\"},\n    {\"Date\": \"20.08.2023\", \"Time_hours\": \"9\", \"Temperature_degrees\": \"30\"},\n    {\"Date\": \"20.08.2023\", \"Time_hours\": \"10\", \"Temperature_degrees\": \"34\"},\n    {\"Date\": \"20.08.2023\", \"Time_hours\": \"11\", \"Temperature_degrees\": \"35\"},\n    {\"Date\": \"20.08.2023\", \"Time_hours\": \"12\", \"Temperature_degrees\": \"38\"},\n    {\"Date\": \"20.08.2023\", \"Time_hours\": \"13\", \"Temperature_degrees\": \"38\"},\n    {\"Date\": \"20.08.2023\", \"Time_hours\": \"14\", \"Temperature_degrees\": \"37\"},\n    {\"Date\": \"20.08.2023\", \"Time_hours\": \"15\", \"Temperature_degrees\": \"36\"},\n    {\"Date\": \"20.08.2023\", \"Time_hours\": \"16\", \"Temperature_degrees\": \"34\"},\n    {\"Date\": \"20.08.2023\", \"Time_hours\": \"17\", \"Temperature_degrees\": \"30\"},\n    {\"Date\": \"20.08.2023\", \"Time_hours\": \"18\", \"Temperature_degrees\": \"30\"},\n    {\"Date\": \"20.08.2023\", \"Time_hours\": \"19\", \"Temperature_degrees\": \"29\"},S\n    {\"Date\": \"20.08.2023\", \"Time_hours\": \"20\", \"Temperature_degrees\": \"25\"},\n    {\"Date\": \"20.08.2023\", \"Time_hours\": \"21\", \"Temperature_degrees\": \"24\"},\n    {\"Date\": \"20.08.2023\", \"Time_hours\": \"22\", \"Temperature_degrees\": \"23\"},\n    {\"Date\": \"20.08.2023\", \"Time_hours\": \"23\", \"Temperature_degrees\": \"23\"},\n       \n  ]\n\n# Write the new data to the CSV file\nwith open('test.csv', 'a', newline='') as file:\n    writer = csv.DictWriter(file, fieldnames=field_names)\n    for row in new_data:\n        writer.writerow(row)\n",
      "metadata": {
        "trusted": true
      },
      "execution_count": 3,
      "outputs": []
    },
    {
      "cell_type": "code",
      "source": "with open('test.csv', 'r') as file:\n    reader = csv.DictReader(file)\n    data = [row for row in reader]\nprint(data)",
      "metadata": {
        "trusted": true
      },
      "execution_count": 4,
      "outputs": [
        {
          "name": "stdout",
          "text": "[{'Date': '20.08.2023', 'Time_(24 Hours)': '0', 'Temperature_degrees': '22'}, {'Date': '20.08.2023', 'Time_(24 Hours)': '1', 'Temperature_degrees': '22'}, {'Date': '20.08.2023', 'Time_(24 Hours)': '2', 'Temperature_degrees': '23'}, {'Date': '20.08.2023', 'Time_(24 Hours)': '3', 'Temperature_degrees': '22'}, {'Date': '20.08.2023', 'Time_(24 Hours)': '4', 'Temperature_degrees': '24'}, {'Date': '20.08.2023', 'Time_(24 Hours)': '5', 'Temperature_degrees': '24'}, {'Date': '20.08.2023', 'Time_(24 Hours)': '6', 'Temperature_degrees': '26'}, {'Date': '20.08.2023', 'Time_(24 Hours)': '7', 'Temperature_degrees': '27'}, {'Date': '20.08.2023', 'Time_(24 Hours)': '8', 'Temperature_degrees': '29'}, {'Date': '20.08.2023', 'Time_(24 Hours)': '9', 'Temperature_degrees': '30'}, {'Date': '20.08.2023', 'Time_(24 Hours)': '10', 'Temperature_degrees': '34'}, {'Date': '20.08.2023', 'Time_(24 Hours)': '11', 'Temperature_degrees': '35'}, {'Date': '20.08.2023', 'Time_(24 Hours)': '12', 'Temperature_degrees': '38'}, {'Date': '20.08.2023', 'Time_(24 Hours)': '13', 'Temperature_degrees': '38'}, {'Date': '20.08.2023', 'Time_(24 Hours)': '14', 'Temperature_degrees': '37'}, {'Date': '20.08.2023', 'Time_(24 Hours)': '15', 'Temperature_degrees': '36'}, {'Date': '20.08.2023', 'Time_(24 Hours)': '16', 'Temperature_degrees': '34'}, {'Date': '20.08.2023', 'Time_(24 Hours)': '17', 'Temperature_degrees': '30'}, {'Date': '20.08.2023', 'Time_(24 Hours)': '18', 'Temperature_degrees': '30'}, {'Date': '20.08.2023', 'Time_(24 Hours)': '19', 'Temperature_degrees': '29'}, {'Date': '20.08.2023', 'Time_(24 Hours)': '20', 'Temperature_degrees': '25'}, {'Date': '20.08.2023', 'Time_(24 Hours)': '21', 'Temperature_degrees': '24'}, {'Date': '20.08.2023', 'Time_(24 Hours)': '22', 'Temperature_degrees': '23'}, {'Date': '20.08.2023', 'Time_(24 Hours)': '23', 'Temperature_degrees': '23'}]\n",
          "output_type": "stream"
        }
      ]
    },
    {
      "cell_type": "code",
      "source": "import csv\nfield_names = [\"Date\", \"Time\", \"Temperature_Degrees\"]\n\n# Update a specific temperature value\nupdate_date = \"20.08.2023\"\nupdate_time = \"8 am\"\nnew_temperature = \"32\"\n\nfor row in data:\n    if row[\"Date\"] == update_date and row[\"Time\"] == update_time:\n        row[\"Temperature_Degrees\"] = new_temperature\n        break\n\n# Write the updated data back to the CSV file\nwith open('test.csv', 'w', newline='') as file:\n    writer = csv.DictWriter(file, fieldnames=field_names)\n    writer.writeheader()\n    writer.writerows(data)\n",
      "metadata": {
        "trusted": true
      },
      "execution_count": 32,
      "outputs": [
        {
          "ename": "<class 'KeyError'>",
          "evalue": "'Date'",
          "traceback": [
            "\u001b[0;31m---------------------------------------------------------------------------\u001b[0m",
            "\u001b[0;31mKeyError\u001b[0m                                  Traceback (most recent call last)",
            "Cell \u001b[0;32mIn[32], line 10\u001b[0m\n\u001b[1;32m      7\u001b[0m new_temperature \u001b[38;5;241m=\u001b[39m \u001b[38;5;124m\"\u001b[39m\u001b[38;5;124m32\u001b[39m\u001b[38;5;124m\"\u001b[39m\n\u001b[1;32m      9\u001b[0m \u001b[38;5;28;01mfor\u001b[39;00m row \u001b[38;5;129;01min\u001b[39;00m data:\n\u001b[0;32m---> 10\u001b[0m     \u001b[38;5;28;01mif\u001b[39;00m \u001b[43mrow\u001b[49m\u001b[43m[\u001b[49m\u001b[38;5;124;43m\"\u001b[39;49m\u001b[38;5;124;43mDate\u001b[39;49m\u001b[38;5;124;43m\"\u001b[39;49m\u001b[43m]\u001b[49m \u001b[38;5;241m==\u001b[39m update_date \u001b[38;5;129;01mand\u001b[39;00m row[\u001b[38;5;124m\"\u001b[39m\u001b[38;5;124mTime\u001b[39m\u001b[38;5;124m\"\u001b[39m] \u001b[38;5;241m==\u001b[39m update_time:\n\u001b[1;32m     11\u001b[0m         row[\u001b[38;5;124m\"\u001b[39m\u001b[38;5;124mTemperature_Degrees\u001b[39m\u001b[38;5;124m\"\u001b[39m] \u001b[38;5;241m=\u001b[39m new_temperature\n\u001b[1;32m     12\u001b[0m         \u001b[38;5;28;01mbreak\u001b[39;00m\n",
            "\u001b[0;31mKeyError\u001b[0m: 'Date'"
          ],
          "output_type": "error"
        }
      ]
    },
    {
      "cell_type": "code",
      "source": "",
      "metadata": {},
      "execution_count": null,
      "outputs": []
    }
  ]
}