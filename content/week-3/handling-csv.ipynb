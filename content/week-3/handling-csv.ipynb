{
 "cells": [
  {
   "cell_type": "markdown",
   "metadata": {},
   "source": [
    "# Handling CSV Files in Python for AI\n",
    "\n",
    "CSV (Comma-Separated Values) files are commonly used for storing tabular data, which is essential for various AI applications. This Jupyter Notebook will guide you through the process of handling CSV files using Python's built-in `csv` module."
   ]
  },
  {
   "cell_type": "markdown",
   "metadata": {},
   "source": [
    "## Writing Data to a CSV File\n",
    "\n",
    "To write data to a CSV file, you can use the `csv.writer` class provided by the `csv` module. Let's see an example:"
   ]
  },
  {
   "cell_type": "code",
   "execution_count": 1,
   "metadata": {},
   "outputs": [],
   "source": [
    "import csv\n",
    "\n",
    "data = [\n",
    "    ['Image', 'Label'],\n",
    "    ['image1.jpg', 'cat'],\n",
    "    ['image2.jpg', 'dog']\n",
    "]\n",
    "\n",
    "with open('data.csv', 'w', newline='') as file:\n",
    "    writer = csv.writer(file)\n",
    "    writer.writerows(data)"
   ]
  },
  {
   "cell_type": "markdown",
   "metadata": {},
   "source": [
    "### Let's go through each code line\n",
    "\n",
    "#### `data = [...]\n",
    "\n",
    "In this block, a list of lists named `data` is defined. Each inner list represents a row of data with two values: 'Image' and 'Label'. The first row contains column headers."
   ]
  },
  {
   "cell_type": "code",
   "execution_count": 2,
   "metadata": {},
   "outputs": [],
   "source": [
    "with open('data.csv', 'w', newline='') as file:\n",
    "    writer = csv.writer(file)\n",
    "    writer.writerows(data)"
   ]
  },
  {
   "cell_type": "markdown",
   "metadata": {},
   "source": [
    "#### `with open('data.csv', 'w', newline='') as file:`\n",
    "\n",
    "In this line, a context is created using the `with` statement, and the `open()` function is used to open the CSV file named 'data.csv' in write mode (`'w'`). The `newline=''` argument is provided to handle newline characters properly. This mode allows you to write data to the file."
   ]
  },
  {
   "cell_type": "code",
   "execution_count": 3,
   "metadata": {},
   "outputs": [],
   "source": [
    "    writer = csv.writer(file)\n",
    "    writer.writerows(data)"
   ]
  },
  {
   "cell_type": "markdown",
   "metadata": {},
   "source": [
    "#### `writer = csv.writer(file)\n",
    "    writer.writerows(data)`\n",
    "\n",
    "These lines create a `csv.writer` object named `writer` and use its `writerows()` method to write the `data` list of lists to the CSV file. Each inner list is written as a row in the CSV file."
   ]
  },
  {
   "cell_type": "markdown",
   "metadata": {},
   "source": [
    "## Reading Data from a CSV File\n",
    "\n",
    "To read data from a CSV file, you can use the `csv.reader` class provided by the `csv` module. Let's continue with the example:"
   ]
  },
  {
   "cell_type": "code",
   "execution_count": 4,
   "metadata": {},
   "outputs": [],
   "source": [
    "with open('data.csv', 'r') as file:\n",
    "    reader = csv.reader(file)\n",
    "    for row in reader:\n",
    "        print(row)"
   ]
  },
  {
   "cell_type": "markdown",
   "metadata": {},
   "source": [
    "### Let's go through each code line\n",
    "\n",
    "#### `with open('data.csv', 'r') as file:`\n",
    "\n",
    "A context is created using the `with` statement, and the `open()` function is used to open the CSV file named 'data.csv' in read mode (`'r'`). This mode allows you to read data from the file."
   ]
  },
  {
   "cell_type": "code",
   "execution_count": 5,
   "metadata": {},
   "outputs": [],
   "source": [
    "    reader = csv.reader(file)\n",
    "    for row in reader:\n",
    "        print(row)"
   ]
  },
  {
   "cell_type": "markdown",
   "metadata": {},
   "source": [
    "#### `reader = csv.reader(file)\n",
    "    for row in reader:\n",
    "        print(row)`\n",
    "\n",
    "These lines create a `csv.reader` object named `reader` and use a `for` loop to iterate through each row in the CSV file. The `print(row)` statement displays each row of data."
   ]
  },
  {
   "cell_type": "markdown",
   "metadata": {},
   "source": [
    "## Conclusion\n",
    "\n",
    "CSV files are a popular format for storing tabular data, which is crucial for AI projects. Python's `csv` module simplifies the process of reading and writing data to CSV files. Whether you're dealing with training data or results, the `csv` module offers an efficient way to handle your data."
   ]
  },
  {
   "cell_type": "markdown",
   "id": "f6bc4fb4",
   "metadata": {},
   "source": [
    "## Exercise: Analyzing CSV Data\n",
    "\n",
    "In this exercise, you'll work with a CSV file containing sales data for different products. Your task is to read the CSV file, calculate the total sales for each product, and then generate a report displaying the total sales for each product.\n",
    "\n",
    "1. Create a CSV file named sales.csv with the following content:"
   ]
  },
  {
   "cell_type": "code",
   "execution_count": null,
   "id": "0393fed9",
   "metadata": {},
   "outputs": [],
   "source": [
    "Product,Category,Sales\n",
    "Product A,Electronics,1500\n",
    "Product B,Clothing,800\n",
    "Product C,Electronics,1200\n",
    "Product A,Clothing,600\n",
    "Product B,Electronics,1000\n",
    "Product C,Clothing,900"
   ]
  },
  {
   "cell_type": "markdown",
   "id": "6645265a",
   "metadata": {},
   "source": [
    "2. Write Python code to perform the following steps:\n",
    "\n",
    "a. Open the sales.csv file and read its content using the csv.reader class.\n",
    "\n",
    "b. Create a dictionary to store the total sales for each product category.\n",
    "\n",
    "c. Iterate through each row in the CSV file, extract the product category and sales, and update the total sales in the dictionary.\n",
    "\n",
    "d. Print a report displaying the total sales for each product category.\n",
    "\n",
    "3. After executing the code, you should see a report that looks like this:"
   ]
  },
  {
   "cell_type": "code",
   "execution_count": null,
   "id": "f50133e5",
   "metadata": {},
   "outputs": [],
   "source": [
    "Product Category   Total Sales\n",
    "Electronics        2500\n",
    "Clothing           2300\n"
   ]
  }
 ],
 "metadata": {
  "kernelspec": {
   "display_name": "Python 3.x",
   "language": "python",
   "name": "python3"
  },
  "language_info": {
   "codemirror_mode": {
    "name": "ipython",
    "version": 3
   },
   "file_extension": ".py",
   "mimetype": "text/x-python",
   "name": "python",
   "nbconvert_exporter": "python",
   "pygments_lexer": "ipython3",
   "version": "3.9.5"
  }
 },
 "nbformat": 4,
 "nbformat_minor": 5
}
