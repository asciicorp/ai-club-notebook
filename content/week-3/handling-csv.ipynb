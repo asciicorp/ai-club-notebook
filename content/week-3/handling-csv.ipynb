{
  "cells": [
    {
      "cell_type": "markdown",
      "metadata": {},
      "source": [
        "### Creating a CSV File"
      ]
    },
    {
      "cell_type": "code",
      "execution_count": 1,
      "metadata": {
        "trusted": true
      },
      "outputs": [],
      "source": [
        "import csv\n",
        "file =open('test.csv', 'w')"
      ]
    },
    {
      "cell_type": "markdown",
      "metadata": {},
      "source": [
        "### Writing Data to a CSV File"
      ]
    },
    {
      "cell_type": "code",
      "execution_count": 2,
      "metadata": {
        "trusted": true
      },
      "outputs": [],
      "source": [
        "import csv\n",
        "# Define the field names\n",
        "field_names = [\"Date\", \"Time_hours\", \"Temperature_degrees\"]\n",
        "\n",
        "new_data = [\n",
        "    {\"Date\": \"Date\", \"Time_hours\": \"Time_hours\", \"Temperature_degrees\": \"Temperature_degrees\"},\n",
        "    {\"Date\": \"20.08.2023\", \"Time_hours\": \"0\", \"Temperature_degrees\": \"22\"},\n",
        "    {\"Date\": \"20.08.2023\", \"Time_hours\": \"1\", \"Temperature_degrees\": \"22\"},\n",
        "    {\"Date\": \"20.08.2023\", \"Time_hours\": \"2\", \"Temperature_degrees\": \"23\"},\n",
        "    {\"Date\": \"20.08.2023\", \"Time_hours\": \"3\", \"Temperature_degrees\": \"22\"},\n",
        "    {\"Date\": \"20.08.2023\", \"Time_hours\": \"4\", \"Temperature_degrees\": \"24\"},\n",
        "    {\"Date\": \"20.08.2023\", \"Time_hours\": \"5\", \"Temperature_degrees\": \"24\"},\n",
        "    {\"Date\": \"20.08.2023\", \"Time_hours\": \"6\", \"Temperature_degrees\": \"26\"},\n",
        "    {\"Date\": \"20.08.2023\", \"Time_hours\": \"7\", \"Temperature_degrees\": \"27\"},\n",
        "    {\"Date\": \"20.08.2023\", \"Time_hours\": \"8\", \"Temperature_degrees\": \"29\"},\n",
        "    {\"Date\": \"20.08.2023\", \"Time_hours\": \"9\", \"Temperature_degrees\": \"30\"},\n",
        "    {\"Date\": \"20.08.2023\", \"Time_hours\": \"10\", \"Temperature_degrees\": \"34\"},\n",
        "    {\"Date\": \"20.08.2023\", \"Time_hours\": \"11\", \"Temperature_degrees\": \"35\"},\n",
        "    {\"Date\": \"20.08.2023\", \"Time_hours\": \"12\", \"Temperature_degrees\": \"38\"},\n",
        "    {\"Date\": \"20.08.2023\", \"Time_hours\": \"13\", \"Temperature_degrees\": \"38\"},\n",
        "    {\"Date\": \"20.08.2023\", \"Time_hours\": \"14\", \"Temperature_degrees\": \"37\"},\n",
        "    {\"Date\": \"20.08.2023\", \"Time_hours\": \"15\", \"Temperature_degrees\": \"36\"},\n",
        "    {\"Date\": \"20.08.2023\", \"Time_hours\": \"16\", \"Temperature_degrees\": \"34\"},\n",
        "    {\"Date\": \"20.08.2023\", \"Time_hours\": \"17\", \"Temperature_degrees\": \"30\"},\n",
        "    {\"Date\": \"20.08.2023\", \"Time_hours\": \"18\", \"Temperature_degrees\": \"30\"},\n",
        "    {\"Date\": \"20.08.2023\", \"Time_hours\": \"19\", \"Temperature_degrees\": \"29\"},\n",
        "    {\"Date\": \"20.08.2023\", \"Time_hours\": \"20\", \"Temperature_degrees\": \"25\"},\n",
        "    {\"Date\": \"20.08.2023\", \"Time_hours\": \"21\", \"Temperature_degrees\": \"24\"},\n",
        "    {\"Date\": \"20.08.2023\", \"Time_hours\": \"22\", \"Temperature_degrees\": \"23\"},\n",
        "    {\"Date\": \"20.08.2023\", \"Time_hours\": \"23\", \"Temperature_degrees\": \"23\"},\n",
        "       \n",
        "  ]\n",
        "\n",
        "# Write the new data to the CSV file\n",
        "with open('test.csv', 'a', newline='') as file:\n",
        "    writer = csv.DictWriter(file, fieldnames=field_names)\n",
        "    for row in new_data:\n",
        "        writer.writerow(row)\n"
      ]
    },
    {
      "cell_type": "markdown",
      "metadata": {},
      "source": [
        "### Reading from a CSV File"
      ]
    },
    {
      "cell_type": "code",
      "execution_count": 3,
      "metadata": {
        "trusted": true
      },
      "outputs": [
        {
          "name": "stdout",
          "output_type": "stream",
          "text": [
            "[{'Date': '20.08.2023', 'Time_hours': '0', 'Temperature_degrees': '22'}, {'Date': '20.08.2023', 'Time_hours': '1', 'Temperature_degrees': '22'}, {'Date': '20.08.2023', 'Time_hours': '2', 'Temperature_degrees': '23'}, {'Date': '20.08.2023', 'Time_hours': '3', 'Temperature_degrees': '22'}, {'Date': '20.08.2023', 'Time_hours': '4', 'Temperature_degrees': '24'}, {'Date': '20.08.2023', 'Time_hours': '5', 'Temperature_degrees': '24'}, {'Date': '20.08.2023', 'Time_hours': '6', 'Temperature_degrees': '26'}, {'Date': '20.08.2023', 'Time_hours': '7', 'Temperature_degrees': '27'}, {'Date': '20.08.2023', 'Time_hours': '8', 'Temperature_degrees': '29'}, {'Date': '20.08.2023', 'Time_hours': '9', 'Temperature_degrees': '30'}, {'Date': '20.08.2023', 'Time_hours': '10', 'Temperature_degrees': '34'}, {'Date': '20.08.2023', 'Time_hours': '11', 'Temperature_degrees': '35'}, {'Date': '20.08.2023', 'Time_hours': '12', 'Temperature_degrees': '38'}, {'Date': '20.08.2023', 'Time_hours': '13', 'Temperature_degrees': '38'}, {'Date': '20.08.2023', 'Time_hours': '14', 'Temperature_degrees': '37'}, {'Date': '20.08.2023', 'Time_hours': '15', 'Temperature_degrees': '36'}, {'Date': '20.08.2023', 'Time_hours': '16', 'Temperature_degrees': '34'}, {'Date': '20.08.2023', 'Time_hours': '17', 'Temperature_degrees': '30'}, {'Date': '20.08.2023', 'Time_hours': '18', 'Temperature_degrees': '30'}, {'Date': '20.08.2023', 'Time_hours': '19', 'Temperature_degrees': '29'}, {'Date': '20.08.2023', 'Time_hours': '20', 'Temperature_degrees': '25'}, {'Date': '20.08.2023', 'Time_hours': '21', 'Temperature_degrees': '24'}, {'Date': '20.08.2023', 'Time_hours': '22', 'Temperature_degrees': '23'}, {'Date': '20.08.2023', 'Time_hours': '23', 'Temperature_degrees': '23'}]\n"
          ]
        }
      ],
      "source": [
        "with open('test.csv', 'r') as file:\n",
        "    reader = csv.DictReader(file)\n",
        "    data = [row for row in reader]\n",
        "print(data)"
      ]
    },
    {
      "cell_type": "markdown",
      "metadata": {},
      "source": [
        "### Updating Data in CSV"
      ]
    },
    {
      "cell_type": "code",
      "execution_count": 5,
      "metadata": {
        "trusted": true
      },
      "outputs": [],
      "source": [
        "import csv\n",
        "field_names = [\"Date\", \"Time_hours\", \"Temperature_degrees\"]\n",
        "\n",
        "with open('test.csv', 'r') as file:\n",
        "    reader = csv.DictReader(file)\n",
        "    data = [row for row in reader]\n",
        "\n",
        "# Update a specific temperature value\n",
        "update_date = \"20.08.2023\"\n",
        "update_time = \"8 am\"\n",
        "new_temperature = \"32\"\n",
        "\n",
        "for row in data:\n",
        "    if row[\"Date\"] == update_date and row[\"Time_hours\"] == update_time:\n",
        "        row[\"Temperature_degrees\"] = new_temperature\n",
        "        break\n",
        "\n",
        "# Write the updated data back to the CSV file\n",
        "with open('test.csv', 'w', newline='') as file:\n",
        "    writer = csv.DictWriter(file, fieldnames=field_names)\n",
        "    writer.writeheader()\n",
        "    writer.writerows(data)\n"
      ]
    },
    {
      "cell_type": "code",
      "execution_count": null,
      "metadata": {},
      "outputs": [],
      "source": []
    }
  ],
  "metadata": {
    "kernelspec": {
      "display_name": "Python 3",
      "language": "python",
      "name": "python3"
    },
    "language_info": {
      "codemirror_mode": {
        "name": "ipython",
        "version": 3
      },
      "file_extension": ".py",
      "mimetype": "text/x-python",
      "name": "python",
      "nbconvert_exporter": "python",
      "pygments_lexer": "ipython3",
      "version": "3.11.3"
    }
  },
  "nbformat": 4,
  "nbformat_minor": 4
}
