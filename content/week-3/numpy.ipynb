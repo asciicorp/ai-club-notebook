{
  "metadata": {
    "language_info": {
      "codemirror_mode": {
        "name": "python",
        "version": 3
      },
      "file_extension": ".py",
      "mimetype": "text/x-python",
      "name": "python",
      "nbconvert_exporter": "python",
      "pygments_lexer": "ipython3",
      "version": "3.8"
    },
    "kernelspec": {
      "name": "python",
      "display_name": "Python (Pyodide)",
      "language": "python"
    }
  },
  "nbformat_minor": 4,
  "nbformat": 4,
  "cells": [
    {
      "cell_type": "code",
      "source": "import numpy as np\n",
      "metadata": {
        "trusted": true
      },
      "execution_count": 3,
      "outputs": []
    },
    {
      "cell_type": "code",
      "source": "# Create a 3x3 matrix\nmatrix = np.array([[1, 2, 3], [4, 5, 6], [7, 8, 9]])\nprint(matrix)\n",
      "metadata": {
        "trusted": true
      },
      "execution_count": 4,
      "outputs": [
        {
          "name": "stdout",
          "text": "[[1 2 3]\n [4 5 6]\n [7 8 9]]\n",
          "output_type": "stream"
        }
      ]
    },
    {
      "cell_type": "code",
      "source": "# Matrix Addition\nmatrix1 = np.array([[1, 2, 3], [4, 5, 6], [7, 8, 9]])\nmatrix2 = np.array([[9, 8, 7], [6, 5, 4],[3, 2, 1]])\nresult1 = matrix1 + matrix2\nprint(\"Matrix Addition Results\")\nprint(result1)\n\n# Matrix Multiplication\nresult2 = np.dot(matrix1, matrix2)\nprint(\"\\nMatrix Multiplication Results\")\nprint(result2)\n\n# Perform element-wise matrix division\nresult3 = np.divide(matrix1, matrix2)\nprint(\"\\nElement-wise Matrix Division ReSults\")\nprint(result3)\n",
      "metadata": {
        "trusted": true
      },
      "execution_count": 14,
      "outputs": [
        {
          "name": "stdout",
          "text": "Matrix Addition Results\n[[10 10 10]\n [10 10 10]\n [10 10 10]]\n\nMatrix Multiplication Results\n[[ 30  24  18]\n [ 84  69  54]\n [138 114  90]]\n\nElement-wise Matrix Division ReSults\n[[0.11111111 0.25       0.42857143]\n [0.66666667 1.         1.5       ]\n [2.33333333 4.         9.        ]]\n",
          "output_type": "stream"
        }
      ]
    },
    {
      "cell_type": "code",
      "source": "# Indexing\nmatrix = np.array([[1, 2, 3], [4, 5, 6], [7, 8, 9]])\nprint(matrix[0, 1])  # Access element at row 0, column 1\n",
      "metadata": {
        "trusted": true
      },
      "execution_count": 10,
      "outputs": [
        {
          "name": "stdout",
          "text": "2\n",
          "output_type": "stream"
        }
      ]
    },
    {
      "cell_type": "code",
      "source": "matrix = np.array([[1, 2, 3], [4, 5, 6], [7, 8, 9]])\n\n# Slicing\nsub_matrix = matrix[:, 1:3]  # Slice all rows, columns 1 to 2\nprint(sub_matrix)",
      "metadata": {
        "trusted": true
      },
      "execution_count": 11,
      "outputs": [
        {
          "name": "stdout",
          "text": "[[2 3]\n [5 6]\n [8 9]]\n",
          "output_type": "stream"
        }
      ]
    },
    {
      "cell_type": "code",
      "source": "# Applying functions to all elements\nmatrix = np.array([[1, 2, 3], [4, 5, 6], [7, 8, 9]])\nsquare_matrix = np.square(matrix)\nprint(square_matrix)\n",
      "metadata": {
        "trusted": true
      },
      "execution_count": 12,
      "outputs": [
        {
          "name": "stdout",
          "text": "[[ 1  4  9]\n [16 25 36]\n [49 64 81]]\n",
          "output_type": "stream"
        }
      ]
    },
    {
      "cell_type": "code",
      "source": "matrix = np.array([[1, 2, 3], [4, 5, 6], [7, 8, 9]])\n\n# Flattening the matrix\nflattened_array = matrix.flatten()\n\nprint(\"Original Matrix:\")\nprint(matrix)\n\nprint(\"\\nFlattened Array:\")\nprint(flattened_array)",
      "metadata": {
        "trusted": true
      },
      "execution_count": 15,
      "outputs": [
        {
          "name": "stdout",
          "text": "Original Matrix:\n[[1 2 3]\n [4 5 6]\n [7 8 9]]\n\nFlattened Array:\n[1 2 3 4 5 6 7 8 9]\n",
          "output_type": "stream"
        }
      ]
    },
    {
      "cell_type": "code",
      "source": "",
      "metadata": {},
      "execution_count": null,
      "outputs": []
    },
    {
      "cell_type": "code",
      "source": "",
      "metadata": {},
      "execution_count": null,
      "outputs": []
    }
  ]
}