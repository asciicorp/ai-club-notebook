{
  "cells": [
    {
      "cell_type": "markdown",
      "metadata": {},
      "source": [
        "## Importing Libraries to the Workspace\n",
        "\n",
        "We are already familiar with 'matplotlib.pyplot'. A varient of 'matplotlib' is 'matplotlib.image'.\n",
        "\n",
        "Here, \"image\" refers to a category of files or data that contain visual information, typically in the form of pictures or graphics. \n",
        "\n",
        "In the following code 'mpimg' is used as a nickname. Now we can perform tasks such as loading a stored image. \n"
      ]
    },
    {
      "cell_type": "code",
      "execution_count": null,
      "metadata": {
        "trusted": true
      },
      "outputs": [],
      "source": [
        "import matplotlib.pyplot as plt\n",
        "import matplotlib.image as mpimg"
      ]
    },
    {
      "cell_type": "markdown",
      "metadata": {},
      "source": [
        "We have stored an image of a car in a file named 'Image1.jpg'. We can display this.\n",
        "\n",
        "However, prior to that we need to load the image to the workspace. This requires us to use the 'mpimg.imread()' function as follows. "
      ]
    },
    {
      "cell_type": "code",
      "execution_count": null,
      "metadata": {
        "trusted": true
      },
      "outputs": [],
      "source": [
        "# Load an image\n",
        "img = mpimg.imread('Image1.jpg')  "
      ]
    },
    {
      "cell_type": "markdown",
      "metadata": {},
      "source": [
        "Now you would like to use the following code to display the image together with a title 'Image of a Car'."
      ]
    },
    {
      "cell_type": "code",
      "execution_count": null,
      "metadata": {
        "trusted": true
      },
      "outputs": [],
      "source": [
        "# Display the image\n",
        "plt.imshow(img)\n",
        "plt.title('Image of a Car')\n"
      ]
    },
    {
      "cell_type": "markdown",
      "metadata": {},
      "source": [
        "### Plotting Multiple images as an array\n",
        "\n",
        "If you would like to plot multiple images and visualize them at the same time, the following code displays 4 images in 2x2 array format. \n",
        "\n",
        "Displaying 4 images in 2x2 format requires \"plt.subplots()' code. This code creates a 2x2 image space. \n",
        "\n",
        "'[0,0], [0,1], [1,0] and [1,1]' specify the exact locations of the images. "
      ]
    },
    {
      "cell_type": "code",
      "execution_count": null,
      "metadata": {
        "trusted": true
      },
      "outputs": [],
      "source": [
        "# Create a subplot grid\n",
        "fig, axes = plt.subplots(2, 2)\n",
        "\n",
        "# Display images in subplots\n",
        "img1 = mpimg.imread('Image1.jpg')\n",
        "axes[0,0].imshow(img1)\n",
        "axes[0,0].set_title('Image of a Car')\n",
        "\n",
        "\n",
        "img2 = mpimg.imread('Image2.jpg')\n",
        "axes[0,1].imshow(img2)\n",
        "axes[0,1].set_title('Image of a Van')\n",
        "\n",
        "\n",
        "img3 = mpimg.imread('Image3.jpg')\n",
        "axes[1,0].imshow(img3)\n",
        "axes[1,0].set_title('Image of Padestrians')\n",
        "\n",
        "\n",
        "img4 = mpimg.imread('Image4.jpg')\n",
        "axes[1,1].imshow(img4)\n",
        "axes[1,1].set_title('Image of Traffic Signal')\n",
        "\n",
        "\n",
        "plt.show()\n"
      ]
    },
    {
      "cell_type": "code",
      "execution_count": null,
      "metadata": {},
      "outputs": [],
      "source": []
    }
  ],
  "metadata": {
    "kernelspec": {
      "display_name": "Python (Pyodide)",
      "language": "python",
      "name": "python"
    },
    "language_info": {
      "codemirror_mode": {
        "name": "python",
        "version": 3
      },
      "file_extension": ".py",
      "mimetype": "text/x-python",
      "name": "python",
      "nbconvert_exporter": "python",
      "pygments_lexer": "ipython3",
      "version": "3.8"
    }
  },
  "nbformat": 4,
  "nbformat_minor": 4
}
