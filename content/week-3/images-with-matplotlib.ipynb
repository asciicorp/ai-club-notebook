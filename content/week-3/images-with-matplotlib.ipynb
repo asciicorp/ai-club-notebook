{
  "cells": [
    {
      "cell_type": "markdown",
      "metadata": {},
      "source": [
        "### Loading images"
      ]
    },
    {
      "cell_type": "code",
      "execution_count": null,
      "metadata": {
        "trusted": true
      },
      "outputs": [],
      "source": [
        "import matplotlib.pyplot as plt\n",
        "import matplotlib.image as mpimg\n",
        "\n",
        "# Load an image\n",
        "img = mpimg.imread('Image1.jpg')  # Replace 'image.jpg' with your image file's path\n"
      ]
    },
    {
      "cell_type": "markdown",
      "metadata": {},
      "source": [
        "### Displaying images"
      ]
    },
    {
      "cell_type": "code",
      "execution_count": null,
      "metadata": {
        "trusted": true
      },
      "outputs": [],
      "source": [
        "# Load an image\n",
        "img = mpimg.imread('Image1.jpg')\n",
        "\n",
        "# Display the image\n",
        "plt.imshow(img)\n",
        "plt.title('Displayed Image')\n",
        "plt.axis('off')\n",
        "plt.show()"
      ]
    },
    {
      "cell_type": "markdown",
      "metadata": {},
      "source": [
        "### Plotting Multiple images as an array"
      ]
    },
    {
      "cell_type": "code",
      "execution_count": null,
      "metadata": {},
      "outputs": [],
      "source": [
        "# Load multiple images\n",
        "img1 = mpimg.imread('Image1.jpg')\n",
        "img2 = mpimg.imread('Image2.jpg')\n",
        "img3 = mpimg.imread('Image3.jpg')\n",
        "img4 = mpimg.imread('Image4.jpg')\n",
        "\n",
        "\n",
        "# Create a subplot grid\n",
        "fig, axes = plt.subplots(2, 2)\n",
        "\n",
        "# Display images in subplots\n",
        "axes[0,0].imshow(img1)\n",
        "axes[0,0].set_title('Image 1')\n",
        "axes[0,0].axis('off')\n",
        "\n",
        "axes[0,1].imshow(img2)\n",
        "axes[0,1].set_title('Image 2')\n",
        "axes[0,1].axis('off')\n",
        "\n",
        "axes[1,0].imshow(img3)\n",
        "axes[1,0].set_title('Image 3')\n",
        "axes[1,0].axis('off')\n",
        "\n",
        "axes[1,1].imshow(img4)\n",
        "axes[1,1].set_title('Image 4')\n",
        "axes[1,1].axis('off')\n",
        "\n",
        "plt.show()\n"
      ]
    },
    {
      "cell_type": "code",
      "execution_count": null,
      "metadata": {
        "tags": [],
        "trusted": true
      },
      "outputs": [],
      "source": [
        "import matplotlib.image as mpimg\n",
        "\n",
        "# Load a grayscale image\n",
        "gray_img = mpimg.imread('Image1.jpg')\n",
        "\n",
        "# Display pixel values\n",
        "print(\"Pixel Values:\")\n",
        "for row in gray_img:\n",
        "    for pixel_value in row:\n",
        "        print(f\"{pixel_value:3}\", end=\" \")  # Adjust the formatting as needed\n",
        "    print()  # Move to the next row"
      ]
    }
  ],
  "metadata": {
    "kernelspec": {
      "display_name": "Python 3",
      "language": "python",
      "name": "python3"
    },
    "language_info": {
      "codemirror_mode": {
        "name": "ipython",
        "version": 3
      },
      "file_extension": ".py",
      "mimetype": "text/x-python",
      "name": "python",
      "nbconvert_exporter": "python",
      "pygments_lexer": "ipython3",
      "version": "3.11.3"
    }
  },
  "nbformat": 4,
  "nbformat_minor": 4
}
