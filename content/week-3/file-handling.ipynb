{
  "cells": [
    {
      "cell_type": "markdown",
      "metadata": {},
      "source": [
        "## Creating a Text File\n",
        "\n",
        "We will first look at creating a text file. A text file is a type of file that is used to store textual data.\n",
        "\n",
        "Converting speech to text and storing it in text files is a common practice in many AI applications, including transcription services, voice assistants, voice commands, and more. \n",
        "\n",
        "It bridges the gap between audio data and text-based AI processing and enables a wide range of applications that leverage spoken language.\n",
        "\n",
        "To create a text file, we use the 'open(\"myfile.txt\", \"w\")' function with the file name as shown here. "
      ]
    },
    {
      "cell_type": "code",
      "execution_count": null,
      "metadata": {
        "trusted": true
      },
      "outputs": [],
      "source": [
        "file1= open(\"myfile.txt\", 'w') "
      ]
    },
    {
      "cell_type": "markdown",
      "metadata": {},
      "source": [
        "Now, you can run the code. The 'myfile.text' will appear on the colum on your left. "
      ]
    },
    {
      "cell_type": "markdown",
      "metadata": {},
      "source": [
        "Now lets write something to the file that we have just created. \n",
        "\n",
        "The following code writes \" Whoever leads the AI race will lead the future\" in one line and \"Welcome to the week three of the AIeye Club program\" in another line. To write to a new line in Python, you can use the \\n character. This is called the newline character.\n",
        "\n",
        "The 'close()' command closes the file.  Why is it important to close the file?\n",
        "\n",
        "To avoid potential issues and ensure your code behaves predictably, it's a best practice to always close files explicitly when you're done with them."
      ]
    },
    {
      "cell_type": "code",
      "execution_count": null,
      "metadata": {
        "trusted": true
      },
      "outputs": [],
      "source": [
        "file1.write('Whoever leads the AI race will lead the future.\\n') # To write to a new line in Python, you can use the \\n character. This is called the newline character.\n",
        "file1.write('Welcome to the week three of the AIeye Club program.\\n')\n",
        "file1.close()"
      ]
    },
    {
      "cell_type": "markdown",
      "metadata": {},
      "source": [
        "Now, let's open the file to read the content in the file. \n",
        "\n",
        "Following code with \"r\" character is used to open the file in the read only mode. \n",
        "\n",
        "Now, you can run the code to see the content. You will see the two sentences in two lines. "
      ]
    },
    {
      "cell_type": "code",
      "execution_count": null,
      "metadata": {
        "tags": [],
        "trusted": true
      },
      "outputs": [],
      "source": [
        "file1 = open(\"myfile.txt\", \"r\")\n",
        "read_content = file1.read()\n",
        "print(read_content)\n",
        "file1.close()"
      ]
    },
    {
      "cell_type": "markdown",
      "metadata": {},
      "source": [
        "The \"with Open()\" function is used to automatically close the file when you exit the block of code. \n",
        "\n",
        "The folowing code opens the same file \"myfile.txt\", this time using the \"with open()\" function. As you can see, there is no need of a \"close()\" function at the end of the code. "
      ]
    },
    {
      "cell_type": "code",
      "execution_count": null,
      "metadata": {
        "trusted": true
      },
      "outputs": [],
      "source": [
        "with open(\"myfile.txt\", \"r\") as file1:\n",
        "    read_content = file1.read()\n",
        "    print(read_content)"
      ]
    },
    {
      "cell_type": "markdown",
      "metadata": {},
      "source": [
        "Let's say that you would like to write or append a new line to the existing content in the file 'myfile.txt'.  The new line goes as \"Today we are going to learn about file handling in python.\"\n",
        "\n",
        "The folowing block of code code useses 'a' to append the new line. "
      ]
    },
    {
      "cell_type": "code",
      "execution_count": null,
      "metadata": {
        "trusted": true
      },
      "outputs": [],
      "source": [
        "with open('myfile.txt', 'a') as file:\n",
        "    file.write('Today we are going to learn about the file handling in python.')"
      ]
    },
    {
      "cell_type": "markdown",
      "metadata": {},
      "source": [
        "Now let's print and see the text in the 'myfile.txt'. As you can see the new line \"Today we are going to learn about the file handling in python.\" has been appended. "
      ]
    },
    {
      "cell_type": "code",
      "execution_count": null,
      "metadata": {
        "trusted": true
      },
      "outputs": [],
      "source": [
        "with open(\"myfile.txt\", \"r\") as file1:\n",
        "    read_content = file1.read()\n",
        "    print(read_content)"
      ]
    },
    {
      "cell_type": "markdown",
      "metadata": {},
      "source": [
        "## Practice Excercise: Creating a Speech-to-Text Transcription Service\n",
        "\n",
        "Build a Python program that saves the following AI speech-to-text converted text in to the text file titled \"myspeech.txt\".\n",
        "\n",
        "Make sure each sentance is saved in new line. Also, make sure that the text file is closed automatically.\n",
        "\n",
        "Text: \"Hello I am your AI teaching assistant robot\", \" Today we will learn file handling in Python\".\n"
      ]
    }
  ],
  "metadata": {
    "kernelspec": {
      "display_name": "Python (Pyodide)",
      "language": "python",
      "name": "python"
    },
    "language_info": {
      "codemirror_mode": {
        "name": "python",
        "version": 3
      },
      "file_extension": ".py",
      "mimetype": "text/x-python",
      "name": "python",
      "nbconvert_exporter": "python",
      "pygments_lexer": "ipython3",
      "version": "3.8"
    }
  },
  "nbformat": 4,
  "nbformat_minor": 4
}
