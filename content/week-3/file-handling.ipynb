{
  "metadata": {
    "language_info": {
      "codemirror_mode": {
        "name": "python",
        "version": 3
      },
      "file_extension": ".py",
      "mimetype": "text/x-python",
      "name": "python",
      "nbconvert_exporter": "python",
      "pygments_lexer": "ipython3",
      "version": "3.8"
    },
    "kernelspec": {
      "name": "python",
      "display_name": "Python (Pyodide)",
      "language": "python"
    }
  },
  "nbformat_minor": 4,
  "nbformat": 4,
  "cells": [
    {
      "cell_type": "markdown",
      "source": "## Creating a Text File\n\nWe will first look at creating a text file. A text file is a type of file that is used to store textual data.\n\nConverting speech to text and storing it in text files is a common practice in many AI applications, including transcription services, voice assistants, voice commands, and more. \n\nIt bridges the gap between audio data and text-based AI processing and enables a wide range of applications that leverage spoken language.\n\nTo create a text file, we use the 'open(\"myfile.txt\", \"w\")' function with the file name as shown here. ",
      "metadata": {}
    },
    {
      "cell_type": "code",
      "source": "file1= open(\"myfile.txt\", 'w') ",
      "metadata": {
        "trusted": true
      },
      "execution_count": 2,
      "outputs": []
    },
    {
      "cell_type": "markdown",
      "source": "Now, you can run the code. The 'myfile.text' will appear on the colum on your left. ",
      "metadata": {}
    },
    {
      "cell_type": "markdown",
      "source": "Now lets write something to the file that we have just created. \n\nThe following code writes \" Whoever leads the AI race will lead the future\" in one line and \"Welcome to the week three of the AIeye Club program\" in another line. To write to a new line in Python, you can use the \\n character. This is called the newline character.\n\nThe 'close()' command closes the file.  Why is it important to close the file?\n\nTo avoid potential issues and ensure your code behaves predictably, it's a best practice to always close files explicitly when you're done with them.",
      "metadata": {}
    },
    {
      "cell_type": "code",
      "source": "file1.write('Whoever leads the AI race will lead the future.\\n') # To write to a new line in Python, you can use the \\n character. This is called the newline character.\nfile1.write('Welcome to the week three of the AIeye Club program.\\n')\nfile1.close()",
      "metadata": {
        "trusted": true
      },
      "execution_count": 3,
      "outputs": []
    },
    {
      "cell_type": "markdown",
      "source": "Now, let's open the file to read the content in the file. \n\nFollowing code with \"r\" character is used to open the file in the read only mode. \n\nNow, you can run the code to see the content. You will see the two sentences in two lines. ",
      "metadata": {}
    },
    {
      "cell_type": "code",
      "source": "file1 = open(\"myfile.txt\", \"r\")\nread_content = file1.read()\nprint(read_content)\nfile1.close()",
      "metadata": {
        "tags": [],
        "trusted": true
      },
      "execution_count": 4,
      "outputs": [
        {
          "name": "stdout",
          "text": "Whoever leads the AI race will lead the future.\nWelcome to the week three of the AIeye Club program,\n\n",
          "output_type": "stream"
        }
      ]
    },
    {
      "cell_type": "markdown",
      "source": "The \"with Open()\" function is used to automatically close the file when you exit the block of code. \n\nThe folowing code opens the same file \"myfile.txt\", this time using the \"with open()\" function. As you can see, there is no need of a \"close()\" function at the end of the code. ",
      "metadata": {}
    },
    {
      "cell_type": "code",
      "source": "with open(\"myfile.txt\", \"r\") as file1:\n    read_content = file1.read()\n    print(read_content)",
      "metadata": {
        "trusted": true
      },
      "execution_count": 5,
      "outputs": [
        {
          "name": "stdout",
          "text": "Whoever leads the AI race will lead the future.\nWelcome to the week three of the AIeye Club program,\n\n",
          "output_type": "stream"
        }
      ]
    },
    {
      "cell_type": "markdown",
      "source": "Let's say that you would like to write or append a new line to the existing content in the file 'myfile.txt'.  The new line goes as \"Today we are going to learn about file handling in python.\"\n\nThe folowing block of code code useses 'a' to append the new line. ",
      "metadata": {}
    },
    {
      "cell_type": "code",
      "source": "with open('myfile.txt', 'a') as file:\n    file.write('Today we are going to learn about the file handling in python.')",
      "metadata": {
        "trusted": true
      },
      "execution_count": 8,
      "outputs": []
    },
    {
      "cell_type": "markdown",
      "source": "Now let's print and see the text in the 'myfile.txt'. As you can see the new line \"Today we are going to learn about the file handling in python.\" has been appended. ",
      "metadata": {}
    },
    {
      "cell_type": "code",
      "source": "with open(\"myfile.txt\", \"r\") as file1:\n    read_content = file1.read()\n    print(read_content)",
      "metadata": {
        "trusted": true
      },
      "execution_count": 7,
      "outputs": [
        {
          "name": "stdout",
          "text": "Whoever leads the AI race will lead the future.\nWelcome to the week three of the AIeye Club program,\nToday we are going to learn about the file handling in python.\n",
          "output_type": "stream"
        }
      ]
    },
    {
      "cell_type": "markdown",
      "source": "## Practice Excercise: Creating a Speech-to-Text Transcription Service\n\nBuild a Python program that saves the following AI speech-to-text converted text in to the text file titled \"myspeech.txt\".\n\nMake sure each sentance is saved in new line. Also, make sure that the text file is closed automatically.\n\nText: \"Hello I am your AI teaching assistant robot\", \" Today we will learn file handling in Python\".\n",
      "metadata": {}
    }
  ]
}