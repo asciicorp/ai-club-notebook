{
 "cells": [
  {
   "cell_type": "markdown",
   "metadata": {},
   "source": [
    "# File Handling in Python\n",
    "\n",
    "In this Jupyter Notebook, we'll explore different aspects of file handling in Python. We'll cover reading from a file, writing to a file, and appending to a file."
   ]
  },
  {
   "cell_type": "markdown",
   "metadata": {},
   "source": [
    "## Reading from a File\n",
    "\n",
    "To read from a file, you can use the `open()` function with the `'r'` mode. Let's see an example:"
   ]
  },
  {
   "cell_type": "code",
   "execution_count": 2,
   "id": "7cf65760",
   "metadata": {},
   "outputs": [
    {
     "name": "stdout",
     "output_type": "stream",
     "text": [
      "Hello! This text is coming from data.txt\n"
     ]
    }
   ],
   "source": [
    "file_path = 'data.txt'\n",
    "with open(file_path, 'r') as file:\n",
    "    content = file.read()\n",
    "print(content)"
   ]
  },
  {
   "cell_type": "markdown",
   "id": "afe89aea",
   "metadata": {},
   "source": [
    "### Let's go through each code line \n",
    "\n",
    "#### `file_path = 'data.txt'`\n",
    "\n",
    "In this line, a variable named `file_path` is being assigned the value `'data.txt'`. This variable will store the path or location of the file that you want to read.\n",
    "\n",
    "#### `with open(file_path, 'r') as file:`\n",
    "\n",
    "In this line, a context is created using the with statement, and the `open()` function is used to open the file specified by the `file_path` variable. The `'r'` mode is used, which stands for \"read\". This mode allows you to read the content of the `file`. The file object is assigned to the variable named file, which allows you to interact with the file's contents.\n",
    "\n",
    "#### `content = file.read()`\n",
    "\n",
    "Inside the `with` block, this line reads the entire content of the file using the read() method of the `file` object. The content is read as a single string and stored in the variable named `content`."
   ]
  },
  {
   "cell_type": "markdown",
   "metadata": {},
   "source": [
    "## Writing to a File\n",
    "\n",
    "To write to a file, use the `'w'` mode. Here's an example:"
   ]
  },
  {
   "cell_type": "code",
   "execution_count": 3,
   "metadata": {},
   "outputs": [
    {
     "name": "stdout",
     "output_type": "stream",
     "text": [
      "Content written to the file successfully.\n"
     ]
    }
   ],
   "source": [
    "output_path = 'output.txt'\n",
    "content_to_write = 'Hello, Welcome to AIEye!'\n",
    "with open(output_path, 'w') as file:\n",
    "    file.write(content_to_write)\n",
    "print('Content written to the file successfully.')"
   ]
  },
  {
   "cell_type": "markdown",
   "id": "ab9ffe4d",
   "metadata": {},
   "source": [
    "Also you can try to print the new content of the file using 'r' method.\n",
    "\n",
    "The file mode `'w+'` in Python allows both writing to and reading from a file, enabling the creation of new content or the overwriting of existing content while also supporting subsequent reading operations."
   ]
  },
  {
   "cell_type": "code",
   "execution_count": null,
   "id": "73cb87e2",
   "metadata": {},
   "outputs": [],
   "source": []
  },
  {
   "cell_type": "markdown",
   "metadata": {},
   "source": [
    "## Appending to a File\n",
    "\n",
    "You can append content to a file using the `'a'` mode. Here's an example:"
   ]
  },
  {
   "cell_type": "code",
   "execution_count": 5,
   "id": "4de06d95",
   "metadata": {},
   "outputs": [
    {
     "name": "stdout",
     "output_type": "stream",
     "text": [
      "Content appended to the file successfully.\n"
     ]
    }
   ],
   "source": [
    "log_path = 'logs/log.txt'\n",
    "content_to_append = 'AI process completed successfully.'\n",
    "with open(log_path, 'a') as file:\n",
    "    file.write(content_to_append)\n",
    "print('Content appended to the file successfully.')"
   ]
  },
  {
   "cell_type": "markdown",
   "id": "27885c66",
   "metadata": {},
   "source": [
    "Checkout out the line 1 where we are saving the log.txt inside a folder named log_path."
   ]
  },
  {
   "cell_type": "markdown",
   "id": "7c5bb5d5",
   "metadata": {},
   "source": [
    "## Conclusion\n",
    "\n",
    "In this notebook, we've covered the basics of file handling in Python. We learned how to read from a file, write to a file, and append to a file using different modes provided by the `open()` function."
   ]
  }
 ],
 "metadata": {
  "kernelspec": {
   "display_name": "Python 3.x",
   "language": "python",
   "name": "python3"
  },
  "language_info": {
   "codemirror_mode": {
    "name": "ipython",
    "version": 3
   },
   "file_extension": ".py",
   "mimetype": "text/x-python",
   "name": "python",
   "nbconvert_exporter": "python",
   "pygments_lexer": "ipython3",
   "version": "3.11.3"
  }
 },
 "nbformat": 4,
 "nbformat_minor": 5
}
