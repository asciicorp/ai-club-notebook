{
  "metadata": {
    "language_info": {
      "codemirror_mode": {
        "name": "python",
        "version": 3
      },
      "file_extension": ".py",
      "mimetype": "text/x-python",
      "name": "python",
      "nbconvert_exporter": "python",
      "pygments_lexer": "ipython3",
      "version": "3.8"
    },
    "kernelspec": {
      "name": "python",
      "display_name": "Python (Pyodide)",
      "language": "python"
    }
  },
  "nbformat_minor": 4,
  "nbformat": 4,
  "cells": [
    {
      "cell_type": "markdown",
      "source": "To read from a file, you can use the open() function with the 'r' mode:.",
      "metadata": {}
    },
    {
      "cell_type": "code",
      "source": "file1= open(\"myfile.txt\", \"w\") ",
      "metadata": {
        "trusted": true
      },
      "execution_count": 1,
      "outputs": []
    },
    {
      "cell_type": "code",
      "source": "file1 = open(\"myfile.txt\", \"r\")\nread_content = file1.read()\nprint(read_content)\nfile1.close()",
      "metadata": {
        "tags": [],
        "trusted": true
      },
      "execution_count": 2,
      "outputs": [
        {
          "name": "stdout",
          "text": "",
          "output_type": "stream"
        },
        {
          "name": "stdout",
          "text": "\n",
          "output_type": "stream"
        }
      ]
    },
    {
      "cell_type": "markdown",
      "source": "To write to a file, use the 'w' mode:",
      "metadata": {}
    },
    {
      "cell_type": "code",
      "source": "file1 = open(\"myfile.txt\",'w')\nfile1.write('Whoever leads the AI race will lead the future.')\nfile1.write(' Welcome to the AIeye Club third week program'+ '.\\n') #To write to a new line in Python, you can use the \\n character. This is called the newline character.\nfile1.close()",
      "metadata": {
        "trusted": true
      },
      "execution_count": 3,
      "outputs": []
    },
    {
      "cell_type": "code",
      "source": "with open(\"myfile.txt\", \"r\") as file1:\n    read_content = file1.read()\n    print(read_content)",
      "metadata": {
        "trusted": true
      },
      "execution_count": 4,
      "outputs": [
        {
          "name": "stdout",
          "text": "Whoever leads the AI race will lead the future. Welcome to the AIeye Club third week program.\n\n",
          "output_type": "stream"
        }
      ]
    },
    {
      "cell_type": "code",
      "source": "with open(\"myfile.txt\",'w') as file1:\n    file1.write('Today we are going to learn about file handling in python.')\n",
      "metadata": {
        "trusted": true
      },
      "execution_count": 5,
      "outputs": []
    },
    {
      "cell_type": "code",
      "source": "with open(\"myfile.txt\", \"r\") as file1:\n    read_content = file1.read()\n    print(read_content)",
      "metadata": {
        "trusted": true
      },
      "execution_count": 6,
      "outputs": [
        {
          "name": "stdout",
          "text": "Today we are going to learn about file handling in python. the AIeye Club third week program.\n\n",
          "output_type": "stream"
        }
      ]
    },
    {
      "cell_type": "code",
      "source": "with open(\"myfile.txt\",'w') as file1:\n    file1.write('Whoever leads the AI race will lead the future.')\n    file1.write(' Welcome to the AIeye Club third week program'+ '.\\n')",
      "metadata": {
        "trusted": true
      },
      "execution_count": 7,
      "outputs": []
    },
    {
      "cell_type": "code",
      "source": "with open('myfile.txt', 'a') as file:\n    file.write('Today we are going to learn about the file handling in python.')",
      "metadata": {
        "trusted": true
      },
      "execution_count": 8,
      "outputs": []
    },
    {
      "cell_type": "code",
      "source": "with open(\"myfile.txt\", \"r\") as file1:\n    read_content = file1.read()\n    print(read_content)",
      "metadata": {
        "trusted": true
      },
      "execution_count": 9,
      "outputs": [
        {
          "name": "stdout",
          "text": "Whoever leads the AI race will lead the future. Welcome to the AIeye Club third week program.\nToday we are going to learn about the file handling in python.\n",
          "output_type": "stream"
        }
      ]
    },
    {
      "cell_type": "code",
      "source": "",
      "metadata": {},
      "execution_count": null,
      "outputs": []
    }
  ]
}