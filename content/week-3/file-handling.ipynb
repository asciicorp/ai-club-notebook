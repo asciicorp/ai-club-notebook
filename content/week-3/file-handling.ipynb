{
  "cells": [
    {
      "cell_type": "markdown",
      "metadata": {},
      "source": [
        "To read from a file, you can use the open() function with the 'r' mode:."
      ]
    },
    {
      "cell_type": "markdown",
      "metadata": {},
      "source": [
        "### Creating a File\n",
        "\n",
        "To create a file, you can use the open() function with the file name:"
      ]
    },
    {
      "cell_type": "code",
      "execution_count": null,
      "metadata": {
        "trusted": true
      },
      "outputs": [],
      "source": [
        "file1= open(\"myfile.txt\", \"w\") "
      ]
    },
    {
      "cell_type": "markdown",
      "metadata": {},
      "source": [
        "### Opening a File\n",
        "\n",
        "To read from a file, you can use the open() function with the 'r' mode:"
      ]
    },
    {
      "cell_type": "code",
      "execution_count": null,
      "metadata": {
        "tags": [],
        "trusted": true
      },
      "outputs": [],
      "source": [
        "file1 = open(\"myfile.txt\", \"r\")\n",
        "read_content = file1.read()\n",
        "print(read_content)\n",
        "file1.close()"
      ]
    },
    {
      "cell_type": "markdown",
      "metadata": {},
      "source": [
        "### Writing to a File\n",
        "\n",
        "To write to a file, use the 'w' mode:"
      ]
    },
    {
      "cell_type": "code",
      "execution_count": null,
      "metadata": {
        "trusted": true
      },
      "outputs": [],
      "source": [
        "file1 = open(\"myfile.txt\",'w')\n",
        "file1.write('Whoever leads the AI race will lead the future.')\n",
        "file1.write(' Welcome to the AIeye Club third week program'+ '.\\n') #To write to a new line in Python, you can use the \\n character. This is called the newline character.\n",
        "file1.close()"
      ]
    },
    {
      "cell_type": "markdown",
      "metadata": {},
      "source": [
        "### Closing a File\n",
        "\n",
        "`file1.close()`"
      ]
    },
    {
      "cell_type": "code",
      "execution_count": null,
      "metadata": {},
      "outputs": [],
      "source": [
        "# In Python, we can use the with...open syntax to automatically close the file.\n",
        "with open(\"myfile.txt\", \"r\") as file1:\n",
        "    read_content = file1.read()\n",
        "    print(read_content)"
      ]
    },
    {
      "cell_type": "code",
      "execution_count": null,
      "metadata": {
        "trusted": true
      },
      "outputs": [],
      "source": [
        "with open(\"myfile.txt\", \"r\") as file1:\n",
        "    read_content = file1.read()\n",
        "    print(read_content)"
      ]
    },
    {
      "cell_type": "code",
      "execution_count": null,
      "metadata": {
        "trusted": true
      },
      "outputs": [],
      "source": [
        "with open(\"myfile.txt\",'w') as file1:\n",
        "    file1.write('Today we are going to learn about file handling in python.')\n"
      ]
    },
    {
      "cell_type": "code",
      "execution_count": null,
      "metadata": {
        "trusted": true
      },
      "outputs": [],
      "source": [
        "with open(\"myfile.txt\", \"r\") as file1:\n",
        "    read_content = file1.read()\n",
        "    print(read_content)"
      ]
    },
    {
      "cell_type": "code",
      "execution_count": null,
      "metadata": {
        "trusted": true
      },
      "outputs": [],
      "source": [
        "with open(\"myfile.txt\",'w') as file1:\n",
        "    file1.write('Whoever leads the AI race will lead the future.')\n",
        "    file1.write(' Welcome to the AIeye Club third week program'+ '.\\n')"
      ]
    },
    {
      "cell_type": "markdown",
      "metadata": {},
      "source": [
        "### Appending to a File\n",
        "\n",
        "Appending to a file means adding new data to the end of the file without overwriting the existing data.\n",
        "\n",
        "You can append content to a file using the 'a' mode:"
      ]
    },
    {
      "cell_type": "code",
      "execution_count": null,
      "metadata": {
        "trusted": true
      },
      "outputs": [],
      "source": [
        "with open('myfile.txt', 'a') as file:\n",
        "    file.write('Today we are going to learn about the file handling in python.')"
      ]
    },
    {
      "cell_type": "code",
      "execution_count": null,
      "metadata": {
        "trusted": true
      },
      "outputs": [],
      "source": [
        "with open(\"myfile.txt\", \"r\") as file1:\n",
        "    read_content = file1.read()\n",
        "    print(read_content)"
      ]
    },
    {
      "cell_type": "code",
      "execution_count": null,
      "metadata": {},
      "outputs": [],
      "source": []
    }
  ],
  "metadata": {
    "kernelspec": {
      "display_name": "Python 3",
      "language": "python",
      "name": "python3"
    },
    "language_info": {
      "codemirror_mode": {
        "name": "ipython",
        "version": 3
      },
      "file_extension": ".py",
      "mimetype": "text/x-python",
      "name": "python",
      "nbconvert_exporter": "python",
      "pygments_lexer": "ipython3",
      "version": "3.11.3"
    }
  },
  "nbformat": 4,
  "nbformat_minor": 4
}
