{
 "cells": [
  {
   "cell_type": "markdown",
   "metadata": {},
   "source": [
    "## Understanding Example\n",
    "\n",
    "Let's go through each line in our example"
   ]
  },
  {
   "cell_type": "code",
   "execution_count": null,
   "metadata": {},
   "outputs": [],
   "source": [
    "# Example of declaring variables"
   ]
  },
  {
   "cell_type": "markdown",
   "metadata": {},
   "source": [
    "A single-line comment, as mentioned earlier, is a brief explanatory note denoted by the hash symbol (#). Throughout your programming journey, you'll encounter and frequently utilize these comments to enhance code understanding and maintainability."
   ]
  },
  {
   "cell_type": "code",
   "execution_count": null,
   "metadata": {},
   "outputs": [],
   "source": [
    "age = 25"
   ]
  },
  {
   "cell_type": "markdown",
   "metadata": {},
   "source": [
    "The line age = 25 is an assignment statement that assigns the value 25 to the variable age. Variables are used to store data in computer programs. Here's a breakdown of what's happening in this line:\n",
    "\n",
    "1. age: This is the variable name. It is a user-defined identifier used to store data. In this case, it represents a person's age.\n",
    "\n",
    "2. =: This is the assignment operator in Python. It is used to assign the value on the right-hand side to the variable on the left-hand side.\n",
    "\n",
    "3. 25: This is the value that is assigned to the variable age. It is an integer literal representing a person's age of 25 years."
   ]
  },
  {
   "cell_type": "code",
   "execution_count": null,
   "metadata": {},
   "outputs": [],
   "source": [
    "name = \"Neura\""
   ]
  },
  {
   "cell_type": "markdown",
   "metadata": {},
   "source": [
    "The line name = \"Neura\" is an assignment statement that assigns the string \"Neura\" to the variable name. Here's an explanation of each component:\n",
    "\n",
    "1. name: This is the variable name. It is a user-defined identifier used to store data. In this case, it represents a person's name.\n",
    "\n",
    "2. =: This is the assignment operator in Python. It is used to assign the value on the right-hand side to the variable on the left-hand side.\n",
    "\n",
    "3. \"Neura\": This is a string literal. In Python, strings are sequences of characters enclosed within single ('') or double (\"\") quotes. In this case, \"Neura\" is a string that represents the name \"Neura\"."
   ]
  },
  {
   "cell_type": "markdown",
   "metadata": {},
   "source": [
    "Additonally you can print these variables using **print** function we learnt in previous lesson"
   ]
  },
  {
   "cell_type": "code",
   "execution_count": null,
   "metadata": {},
   "outputs": [],
   "source": [
    "print(\"The person's age is:\", age)"
   ]
  },
  {
   "cell_type": "code",
   "execution_count": null,
   "metadata": {},
   "outputs": [],
   "source": [
    "print(\"Hello, my name is\", name)"
   ]
  }
 ],
 "metadata": {
  "language_info": {
   "name": "python"
  },
  "orig_nbformat": 4
 },
 "nbformat": 4,
 "nbformat_minor": 2
}
