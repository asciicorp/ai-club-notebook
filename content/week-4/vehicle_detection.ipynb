{
  "cells": [
    {
      "cell_type": "markdown",
      "metadata": {},
      "source": [
        "## Object Detection for Self Driving Cars\n"
      ]
    },
    {
      "cell_type": "markdown",
      "metadata": {},
      "source": [
        "Let's begin by importing the necessary libraries. You are already be familiar with Pandas, NumPy, and Matplotlib.pyplot.\n",
        "\n",
        "For this object detection task, we will use three different functions from the \"scikit-learn\" library named \"train_test_split\", \"MLPClassifier\" and \"accuracy_score\"\n",
        "\n",
        "These components are pivotal in AI workflows, aiding in data partitioning, model creation, and performance evaluation.\n",
        "\n",
        "Additionally, we will also import the PIL library. This library provides a wide range of functionality for image processing, including opening, saving, resizing, cropping, and enhancing images, making it an essential tool for object detection task."
      ]
    },
    {
      "cell_type": "code",
      "execution_count": null,
      "metadata": {
        "trusted": true
      },
      "outputs": [],
      "source": [
        "import os\n",
        "import numpy as np\n",
        "from sklearn.model_selection import train_test_split\n",
        "from sklearn.neural_network import MLPClassifier\n",
        "from sklearn.metrics import accuracy_score\n",
        "import matplotlib.pyplot as plt\n",
        "from PIL import Image"
      ]
    },
    {
      "cell_type": "markdown",
      "metadata": {},
      "source": [
        "These lines of code prepare a dataset for object detection task.\n",
        "\n",
        "You'll notice the \"Vehicles\" dataset folder in the left column.\n",
        "\n",
        "Feel free to open it and take a look. Inside, you'll find a variety of vehicle types subfolders, titled \"Big Truck,\" \"City Car,\" \"Sedan,\" \"Truck,\" and more. Each of these subfolders contains 100 images.\n",
        "\n",
        "In the first line of code, \"classes\" variable is assigned the names of subfolders contained within the \"Vehicles\" folder.\n",
        "\n",
        "Last two ines of code initialize two empty lists: \"images\" and \"labels.\" These lists are typically used to store image data and their corresponding class labels, respectively, as the code proceeds. \n",
        "\n",
        "In the context of a object detection task, \"images\" would hold the actual image data, while \"labels\" would store the category labels associated with each image. \n",
        "\n",
        "This organization is crucial for training and testing machine learning models, where images and their labels are used to teach the model to recognize and categorize objects within the images."
      ]
    },
    {
      "cell_type": "code",
      "execution_count": null,
      "metadata": {
        "trusted": true
      },
      "outputs": [],
      "source": [
        "classes = os.listdir(\"Vehicles\")\n",
        "print(classes)\n",
        "\n",
        "images = []\n",
        "labels = []"
      ]
    },
    {
      "cell_type": "markdown",
      "metadata": {},
      "source": [
        "Now let's open an image from a subfolder and display it.\n",
        "\n",
        "The first line of code creates a variable called class_folder. It uses the os.path.join function to combine two strings: \"Vehicles\" and 'City Car' to create a file path. \n",
        "\n",
        "So, class_folder will contain the file path \"Vehicles/City Car\". \n",
        "\n",
        "Another variable called 'image_path' is created in the second line. It uses os.path.join again, but this time it combines the class_folder (which is \"Vehicles/City Car\") with 'City Car (1).jpg' to create a full file path to an image file.\n",
        "\n",
        "The third line, opens the image file located at the image_path using the Image.open function. It loads the image into a variable called image.\n",
        "\n",
        "Finally, the 'plt.imshow()' function is used to display the image."
      ]
    },
    {
      "cell_type": "code",
      "execution_count": null,
      "metadata": {
        "trusted": true
      },
      "outputs": [],
      "source": [
        "class_folder = os.path.join(\"Vehicles\", 'City Car')\n",
        "image_path = os.path.join(class_folder, 'City Car (1).jpg')  \n",
        "image = Image.open(image_path)  \n",
        "plt.imshow(image)"
      ]
    },
    {
      "cell_type": "markdown",
      "metadata": {},
      "source": [
        "This code snippet, resize the image previously loaded as 'image' to a smaller 100x100 pixel size and storing it in a new variable called 'image1', and display it.\n",
        "\n",
        "Resizing is crucial for consistency in image dimensions, enabling Neural Network models to process data uniformly and learn effectively.\n",
        "\n",
        "\n",
        "When comparing the previously displayed original image and the resized image, it's evident that the image size has been reduced from its initial dimensions of 110 x 100 pixels to a smaller 100x100 pixel size."
      ]
    },
    {
      "cell_type": "code",
      "execution_count": null,
      "metadata": {
        "trusted": true
      },
      "outputs": [],
      "source": [
        "image1 = image.resize((100, 100))\n",
        "plt.imshow(image1)"
      ]
    },
    {
      "cell_type": "markdown",
      "metadata": {},
      "source": [
        "The following code transform the resized image 'image1' into a grid of numbers that represents the colors and shades of each pixel in the image, and stored in a variable named image_array.\n",
        "\n",
        "Let's print and see the pixels."
      ]
    },
    {
      "cell_type": "code",
      "execution_count": null,
      "metadata": {
        "trusted": true
      },
      "outputs": [],
      "source": [
        "image_array = np.array(image1)\n",
        "print(image_array)"
      ]
    },
    {
      "cell_type": "markdown",
      "metadata": {},
      "source": [
        "Now let's resize all the images in the \"Vehicle\" folder, transfrom them into a pixel matrix and store them.\n",
        "\n",
        "To iterate through the subfloders and images two 'for' loops are used in the following code.\n",
        "\n",
        "The first \"for\" loop iterates through a list of class names such as \"City Car, Sedan, Truck,...\", each representing a different category or class. \n",
        "\n",
        "For each class, it constructs a folder path where images for that class are stored using the second line. \n",
        "\n",
        "Inside each class folder, it goes through individual image files, opens them, resizes them to a uniform size of 100x100 pixels, and converts them into numerical arrays using the NumPy library. These arrays are then added to a list called images. \n",
        "\n",
        "Simultaneously, the code keeps track of the class associated with each image and adds this class information to another list called labels. \n",
        "\n",
        "Ultimately, this code helps prepare image data by standardizing its size and associating it with corresponding class labels, making it suitable for training Neural Network models that require structured input data with class labels."
      ]
    },
    {
      "cell_type": "code",
      "execution_count": null,
      "metadata": {
        "trusted": true
      },
      "outputs": [],
      "source": [
        "for class_name in classes:\n",
        "    class_folder = os.path.join(\"Vehicles\", class_name)\n",
        "    for image_name in os.listdir(class_folder):\n",
        "        image_path = os.path.join(class_folder, image_name)  \n",
        "        image = Image.open(image_path)      # Opens the image file\n",
        "        image1 = image.resize((100, 100))  # Resize the image to a consistent size\n",
        "        image_array = np.array(image1)     # Converts the resized image file into numerical array\n",
        "        images.append(image_array)        # Generated image arrays are added to a list called images \n",
        "        labels.append(class_name)         # Generated class arrays are added to a list called labels "
      ]
    },
    {
      "cell_type": "markdown",
      "metadata": {},
      "source": [
        "In these two lines of code, the images and labels lists are converted into NumPy arrays.\n",
        "\n",
        "The np.array(images) operation transforms the \"images\" list, which originally held individual image data as separate NumPy arrays, into a single, unified NumPy array. \n",
        "\n",
        "Similarly, np.array(labels) transforms the \"labels\" list, which stores class labels associated with each image, into a NumPy array. \n",
        "\n",
        "This structured data format is important, allowing for the seamless training and testing of neural network models for tasks like image classification or object detection."
      ]
    },
    {
      "cell_type": "code",
      "execution_count": null,
      "metadata": {
        "trusted": true
      },
      "outputs": [],
      "source": [
        "images = np.array(images)\n",
        "labels = np.array(labels)"
      ]
    },
    {
      "cell_type": "markdown",
      "metadata": {},
      "source": [
        "This code snippet employs the train_test_split function to partition a dataset into two distinct subsets. \n",
        "\n",
        "The data contained in images and labels are divided into training and testing sets, represented respectively by 'X_train' and 'y_train' (used for model training) and 'X_test' and 'y_test' (used for evaluating model performance).\n",
        "\n",
        "The 'test_size' parameter specifies that 20% of the data should be allocated to the testing set, leaving 80% for training. \n",
        "\n",
        "Additionally, the random_state parameter is set to 42, ensuring that the data split remains consistent across multiple runs for reproducibility. \n",
        "\n",
        "This separation enables the assessment of how well a neural network model generalizes to new, unseen data by training on one portion and testing on another."
      ]
    },
    {
      "cell_type": "code",
      "execution_count": null,
      "metadata": {
        "trusted": true
      },
      "outputs": [],
      "source": [
        "X_train, X_test, y_train, y_test = train_test_split(images, labels, test_size=0.2, random_state=42)\n",
        "print(\"Training data size (X_train):\", len(X_train))\n",
        "print(\"Testing data size (X_test):\", len(X_test))"
      ]
    },
    {
      "cell_type": "markdown",
      "metadata": {},
      "source": [
        "In scikit-learn, it's important that your input data is structured in a way where each row corresponds to an individual example or data point, and each column corresponds to a specific feature or attribute of those examples.\n",
        "\n",
        "Therefore, we need to convert each image from a two-dimensional structure (e.g., a 100x100 pixel image) into a one-dimensional array.\n",
        "\n",
        "For example, if you have a 100x100 pixel image, flattening it means converting it into a 1D array with 10,000 elements, where each element represents the value of a single pixel.\n",
        "\n",
        "The following code, flattern the training and testing images.\n",
        "\n",
        "'X_train.reshape(X_train.shape[0], -1)' is used to reshape the X_train array. \n",
        "\n",
        "    The first argument, X_train.shape[0], specifies the number of rows in the new reshaped array. In this case, it's kept the same, so you have the same number of images.\n",
        "\n",
        "    The second argument, '-1', is a placeholder that tells NumPy to automatically calculate the number of columns needed to keep the total number of elements the same. \n",
        "\n",
        "Similaly the test images also flatterned."
      ]
    },
    {
      "cell_type": "code",
      "execution_count": null,
      "metadata": {
        "trusted": true
      },
      "outputs": [],
      "source": [
        "# Flatten the images\n",
        "X_train_flattened = X_train.reshape(X_train.shape[0], -1)\n",
        "X_test_flattened = X_test.reshape(X_test.shape[0], -1)"
      ]
    },
    {
      "cell_type": "markdown",
      "metadata": {},
      "source": [
        "The following code snippet initializes a multi-layer perceptron (MLP) classifier using scikit-learn's MLPClassifier. \n",
        "\n",
        "It configures the neural network architecture with a single hidden layer containing 64 neurons, sets a maximum of 50 training iterations (epochs).\n",
        "\n",
        "The simple neural network is purposefully created with the specific aim of reducing the training time while still retaining some capacity for learning patterns in the data. \n",
        "\n",
        "To introduce additional hidden layers to the neural network, we simply extend the hidden_layer_sizes parameter by specifying the desired number of neurons in each layer. \n",
        "\n",
        "For instance, if we intend to incorporate three hidden layers, each containing 64 neurons, we can do so by altering the hidden_layer_sizes as follows 'hidden_layer_sizes=(64, 64, 64)'"
      ]
    },
    {
      "cell_type": "code",
      "execution_count": null,
      "metadata": {
        "trusted": true
      },
      "outputs": [],
      "source": [
        "model = MLPClassifier(hidden_layer_sizes=(64,), max_iter=50)"
      ]
    },
    {
      "cell_type": "markdown",
      "metadata": {},
      "source": [
        "This code is used to train the constructed neural network.\n",
        "\n",
        "The training process involves adjusting the model's internal parameters based on the flattened training data 'X_train_flattened', and the corresponding target labels 'y_train'. \n",
        "\n",
        "Please be advised that this process may require a certain amount of time to complete effectively."
      ]
    },
    {
      "cell_type": "code",
      "execution_count": null,
      "metadata": {
        "trusted": true
      },
      "outputs": [],
      "source": [
        "model.fit(X_train_flattened, y_train)"
      ]
    },
    {
      "cell_type": "markdown",
      "metadata": {},
      "source": [
        "In this code, the trained neural network model is employed to make predictions on a separate dataset known as the test data (X_test_flattened). \n",
        "\n",
        "The resulting predictions are stored in the variable 'y_pred', providing insights into how well the model generalizes to new, unseen data, and allowing for the evaluation of its performance on the test dataset."
      ]
    },
    {
      "cell_type": "code",
      "execution_count": null,
      "metadata": {
        "trusted": true
      },
      "outputs": [],
      "source": [
        "# Predict on the test set\n",
        "y_pred = model.predict(X_test_flattened)"
      ]
    },
    {
      "cell_type": "markdown",
      "metadata": {},
      "source": [
        "The following code calculates and displays the accuracy of the trained neural network model. \n",
        "\n",
        "The accuracy_score function measures how well your model's predictions (stored in y_pred) align with the actual labels (in y_test) for your test dataset.\n",
        "\n",
        "The resulting accuracy value represents the proportion of correctly classified test examples, providing a straightforward and easily interpretable metric for assessing the model's performance. \n",
        "\n",
        "A higher accuracy (close to 1) signifies better predictive capability, indicating how well the model generalizes to new data and how effective it is at classifying the test examples in your machine learning task."
      ]
    },
    {
      "cell_type": "code",
      "execution_count": null,
      "metadata": {
        "trusted": true
      },
      "outputs": [],
      "source": [
        "# Calculate accuracy\n",
        "accuracy = accuracy_score(y_test, y_pred)\n",
        "print(\"Accuracy:\", accuracy)"
      ]
    },
    {
      "cell_type": "markdown",
      "metadata": {},
      "source": [
        "It's evident that the accuracy achieved with this specific neural network is relatively low.\n",
        "\n",
        "The lower accuracy we're seeing is because we purposely kept the neural network simple, with fewer layers, and used a smaller training dataset to make training faster.\n",
        "\n",
        "To enhance the model's performance, consider refining the neural network by introducing additional layers and extending the number of training iterations. \n",
        "\n",
        "This approach could lead to a more powerful and accurate model, better suited to capture intricate patterns in the data."
      ]
    },
    {
      "cell_type": "markdown",
      "metadata": {},
      "source": [
        "This code segment creates a visual representation of the first 9 test images along with their corresponding predictions made by the neural network model.\n",
        "\n",
        "It uses matplotlib to organize these images into a 3x3 grid of subplots within a figure, displaying each image along with its predicted and actual labels as titles. \n",
        "\n",
        "You can easily spot the differences between what the model predicted and what's actually correct because the model isn't doing very well right now.\n",
        "\n",
        "But if we make the model better, these differences should become smaller, and the model's predictions will be more accurate."
      ]
    },
    {
      "cell_type": "code",
      "execution_count": null,
      "metadata": {
        "trusted": true
      },
      "outputs": [],
      "source": [
        "plt.figure(figsize=(10, 5))\n",
        "for i in range(9):  # Display first 10 test images with predictions\n",
        "    plt.subplot(3, 3, i + 1)\n",
        "    plt.imshow(X_test[i])\n",
        "    plt.title(\"Predicted: {}\\nActual: {}\".format(y_pred[i], y_test[i]))\n",
        "    plt.axis('off')\n",
        "plt.tight_layout()\n",
        "plt.show()"
      ]
    },
    {
      "cell_type": "markdown",
      "metadata": {},
      "source": [
        "Now, let's upload some images and see how well the model can predict what's in those images.\n",
        "\n",
        "This following code segment loads an image named \"Test1.jpg,\" resizes it to a consistent dimension of 100x100 pixels.\n",
        "\n",
        "Then converts it into a numerical array for further processing. \n",
        "\n",
        "The array is then flattened into a 1D format to match the input format expected by the trained neural network model. \n",
        "\n",
        "For the testing pitpose you can use the saved 5 test images. If you want to test on other images please upload and test it.\n",
        "\n",
        "For testing purposes, we can use the five pre-saved test images. If you wish to test the model on different images, please upload those images and proceed with the testing."
      ]
    },
    {
      "cell_type": "code",
      "execution_count": null,
      "metadata": {
        "trusted": true
      },
      "outputs": [],
      "source": [
        "# Load the image and preprocess it\n",
        "uploaded_image_path = \"Test3.jpg\"  # Replace this with the actual path to your image\n",
        "uploaded_image = Image.open(uploaded_image_path)\n",
        "uploaded_image = uploaded_image.resize((100, 100))\n",
        "uploaded_image_array = np.array(uploaded_image)\n",
        "uploaded_image_flattened = uploaded_image_array.reshape(1, -1)  # Reshape to match the model's input format\n",
        "plt.imshow(uploaded_image)\n"
      ]
    },
    {
      "cell_type": "markdown",
      "metadata": {},
      "source": [
        "This code snippet makes predictions using the previously trained neural network model on the preprocessed uploaded_image data  and stores the predicted class label in the variable predicted_class. \n",
        "\n",
        "It then prints the predicted class label to the console, allowing you to see what the model predicts the content of the uploaded image to be."
      ]
    },
    {
      "cell_type": "code",
      "execution_count": null,
      "metadata": {
        "trusted": true
      },
      "outputs": [],
      "source": [
        "# Predict using the trained model\n",
        "predicted_class = model.predict(uploaded_image_flattened)[0]\n",
        "print(predicted_class)"
      ]
    },
    {
      "cell_type": "code",
      "execution_count": null,
      "metadata": {},
      "outputs": [],
      "source": []
    }
  ],
  "metadata": {
    "kernelspec": {
      "display_name": "Python (Pyodide)",
      "language": "python",
      "name": "python"
    },
    "language_info": {
      "codemirror_mode": {
        "name": "python",
        "version": 3
      },
      "file_extension": ".py",
      "mimetype": "text/x-python",
      "name": "python",
      "nbconvert_exporter": "python",
      "pygments_lexer": "ipython3",
      "version": "3.8"
    }
  },
  "nbformat": 4,
  "nbformat_minor": 4
}
