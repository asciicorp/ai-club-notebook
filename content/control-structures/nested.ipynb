{
 "cells": [
  {
   "cell_type": "code",
   "execution_count": 1,
   "metadata": {},
   "outputs": [
    {
     "name": "stdout",
     "output_type": "stream",
     "text": [
      "    *\n",
      "   ***\n",
      "  *****\n",
      " *******\n",
      "*********\n"
     ]
    }
   ],
   "source": [
    "# Nested Control Structures Example: Star Pattern\n",
    "\n",
    "# Define the number of rows for the pattern\n",
    "num_rows = 5\n",
    "\n",
    "# Use a nested loop to print the star pattern\n",
    "for i in range(num_rows):\n",
    "    # Print spaces before the stars for a triangular pattern\n",
    "    for j in range(num_rows - i - 1):\n",
    "        print(\" \", end=\"\")\n",
    "    \n",
    "    # Print stars for the pattern\n",
    "    for j in range(2 * i + 1):\n",
    "        print(\"*\", end=\"\")\n",
    "    \n",
    "    # Move to the next line after printing each row\n",
    "    print()\n"
   ]
  },
  {
   "cell_type": "markdown",
   "metadata": {},
   "source": [
    "In this example, we have a variable num_rows that determines the number of rows in the pattern. We use two nested for loops to construct the pattern. The outer loop (for i in range(num_rows)) controls the number of rows to print, and the inner loops (for j in range(...)) handle printing spaces and stars for each row based on a specific pattern.\n",
    "\n",
    "The pattern gradually forms an inverted triangle of stars, with each row having one more star than the previous row.\n",
    "\n",
    "Nested control structures are powerful tools that allow us to create complex patterns, iterate through multi-dimensional data structures, and execute conditional logic at different levels. They are essential for building more intricate and dynamic programs."
   ]
  }
 ],
 "metadata": {
  "kernelspec": {
   "display_name": "Python 3",
   "language": "python",
   "name": "python3"
  },
  "language_info": {
   "codemirror_mode": {
    "name": "ipython",
    "version": 3
   },
   "file_extension": ".py",
   "mimetype": "text/x-python",
   "name": "python",
   "nbconvert_exporter": "python",
   "pygments_lexer": "ipython3",
   "version": "3.11.3"
  },
  "orig_nbformat": 4
 },
 "nbformat": 4,
 "nbformat_minor": 2
}
