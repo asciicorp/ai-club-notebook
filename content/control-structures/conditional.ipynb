{
  "cells": [
    {
      "cell_type": "markdown",
      "metadata": {},
      "source": [
        "## Understanding Example\n",
        "\n",
        "Let's go through each line in our example"
      ]
    },
    {
      "cell_type": "code",
      "execution_count": null,
      "metadata": {},
      "outputs": [],
      "source": [
        "# Example of if, else, and elif\n",
        "num = 10\n",
        "if num > 0:\n",
        "    print(\"Positive\")\n",
        "elif num == 0:\n",
        "    print(\"Zero\")\n",
        "else:\n",
        "    print(\"Negative\")"
      ]
    },
    {
      "cell_type": "markdown",
      "metadata": {},
      "source": [
        "In this example, we use the if, else, and elif statements to check the value of the variable `num` and print a message based on its value."
      ]
    },
    {
      "cell_type": "markdown",
      "metadata": {},
      "source": [
        "### Line 2\n",
        "```python\n",
        "num = 10\n",
        "```\n",
        "The line `num = 10` assigns the value `10` to the variable `num`. We are using `10` as an example value to demonstrate the if, else, and elif statements later in the code."
      ]
    },
    {
      "cell_type": "markdown",
      "metadata": {},
      "source": [
        "### Lines 3-5\n",
        "```python\n",
        "if num > 0:\n",
        "    print(\"Positive\")\n",
        "```\n",
        "The `if` statement is used to check if the condition `num > 0` is true. In this case, the condition `num > 0` evaluates to `True` because `num` is `10`, which is greater than `0`. As a result, the indented block of code under the `if` statement is executed, and it prints \"Positive\" on the screen."
      ]
    },
    {
      "cell_type": "markdown",
      "metadata": {},
      "source": [
        "### Lines 6-8\n",
        "```python\n",
        "elif num == 0:\n",
        "    print(\"Zero\")\n",
        "```\n",
        "The `elif` statement is short for \"else if\" and allows us to check another condition if the previous condition(s) are false. In this case, we check if `num` is equal to `0`, which is not true because `num` is `10`. Therefore, this block of code is not executed."
      ]
    },
    {
      "cell_type": "markdown",
      "metadata": {},
      "source": [
        "### Lines 9-11\n",
        "```python\n",
        "else:\n",
        "    print(\"Negative\")\n",
        "```\n",
        "The `else` statement is used as a catch-all when all the previous conditions are false. If neither the `if` condition (`num > 0`) nor the `elif` condition (`num == 0`) is true, this block of code will be executed. In this case, since `num` is `10` (not `0` and greater than `0`), the `else` block is executed, and it prints \"Negative\" on the screen."
      ]
    },
    {
      "cell_type": "markdown",
      "metadata": {},
      "source": [
        "## Exercise: Grade Calculator\n",
        "\n",
        "Write a program that takes the scores of four subjects as input and calculates the average grade for a student. Each subject is scored on a scale of 0 to 100, and the grades are classified as follows:\n",
        "\n",
        "- 90 to 100: A\n",
        "- 80 to 89: B\n",
        "- 70 to 79: C\n",
        "- 60 to 69: D\n",
        "- Below 60: F\n",
        "\n",
        "Instructions:\n",
        "\n",
        "1. Ask the user to enter the scores for each of the four subjects (Math, Science, English, and History).\n",
        "2. Calculate the average score by summing the four scores and dividing by 4.\n",
        "3. Based on the average score, determine the corresponding grade using if-else statements.\n",
        "4. Display the average score and the corresponding grade.\n",
        "\n",
        "Example Output:\n",
        "\n",
        "Enter the score for Math: 85\n",
        "\n",
        "Enter the score for Science: 92\n",
        "\n",
        "Enter the score for English: 78\n",
        "\n",
        "Enter the score for History: 88\n",
        "\n",
        "Average Score: 85.75\n",
        "\n",
        "Grade: B"
      ]
    },
    {
      "cell_type": "markdown",
      "metadata": {},
      "source": []
    },
    {
      "cell_type": "markdown",
      "metadata": {},
      "source": []
    }
  ],
  "metadata": {
    "kernelspec": {
      "display_name": "Python 3",
      "language": "python",
      "name": "python3"
    },
    "language_info": {
      "codemirror_mode": {
        "name": "ipython",
        "version": 3
      },
      "file_extension": ".py",
      "mimetype": "text/x-python",
      "name": "python",
      "nbconvert_exporter": "python",
      "pygments_lexer": "ipython3",
      "version": "3.11.3"
    },
    "orig_nbformat": 4
  },
  "nbformat": 4,
  "nbformat_minor": 2
}
