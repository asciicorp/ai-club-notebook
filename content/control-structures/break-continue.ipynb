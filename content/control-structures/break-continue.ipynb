{
  "cells": [
    {
      "cell_type": "markdown",
      "metadata": {},
      "source": [
        "## Understanding Example\n",
        "\n",
        "Let's go through each line in our example"
      ]
    },
    {
      "cell_type": "code",
      "execution_count": null,
      "metadata": {},
      "outputs": [],
      "source": [
        "# Example of break and continue\n",
        "# Break statement\n",
        "numbers = [1, 2, 3, 4, 5]\n",
        "for num in numbers:\n",
        "    if num == 3:\n",
        "        break\n",
        "    print(num)"
      ]
    },
    {
      "cell_type": "markdown",
      "metadata": {},
      "source": [
        "In this example, we demonstrate the usage of the `break` and `continue` statements in Python."
      ]
    },
    {
      "cell_type": "markdown",
      "metadata": {},
      "source": [
        "### Line 3\n",
        "```python\n",
        "numbers = [1, 2, 3, 4, 5]\n",
        "```\n",
        "The line `numbers = [1, 2, 3, 4, 5]` creates a list of numbers containing `[1, 2, 3, 4, 5]`. We will use this list in the `for` loops."
      ]
    },
    {
      "cell_type": "markdown",
      "metadata": {},
      "source": [
        "### Lines 4-7\n",
        "```python\n",
        "for num in numbers:\n",
        "    if num == 3:\n",
        "        break\n",
        "    print(num)\n",
        "```\n",
        "The `for` loop is used to iterate over elements in a sequence, such as a list. In this case, it iterates over the elements of the `numbers` list. For each iteration, the loop assigns the current element to the variable `num`, and then the indented block of code under the `for` loop is executed.\n",
        "\n",
        "Inside the loop, there is an `if` statement that checks if the current value of `num` is equal to `3`. If it is, the `break` statement is executed, which immediately terminates the loop. This means the loop will stop iterating as soon as it encounters the number `3`. As a result, only the numbers `1` and `2` will be printed."
      ]
    },
    {
      "cell_type": "code",
      "execution_count": null,
      "metadata": {},
      "outputs": [],
      "source": [
        "# Continue statement\n",
        "for num in numbers:\n",
        "    if num == 3:\n",
        "        continue\n",
        "    print(num)"
      ]
    },
    {
      "cell_type": "markdown",
      "metadata": {},
      "source": [
        "### Lines 9-12\n",
        "```python\n",
        "for num in numbers:\n",
        "    if num == 3:\n",
        "        continue\n",
        "    print(num)\n",
        "```\n",
        "The `for` loop is used again to iterate over the elements of the `numbers` list. For each iteration, the loop assigns the current element to the variable `num`, and then the indented block of code under the `for` loop is executed.\n",
        "\n",
        "Inside the loop, there is an `if` statement that checks if the current value of `num` is equal to `3`. If it is, the `continue` statement is executed, which skips the rest of the current iteration and moves on to the next iteration. This means when the loop encounters the number `3`, it will skip printing it and move on to the next number. As a result, all the numbers in the list except `3` will be printed."
      ]
    },
    {
      "cell_type": "markdown",
      "metadata": {},
      "source": [
        "## Exercise: Number Guessing Game with Break\n",
        "\n",
        "Write a number guessing game where the program randomly selects a target number between a given range, and the user has to guess the number. The program should provide feedback to the user if their guess is too high or too low and continue until the correct number is guessed.\n",
        "\n",
        "Instructions:\n",
        "\n",
        "1. Ask the user to enter the range for the target number (e.g., 1 to 100).\n",
        "2. Generate a random target number within the specified range.\n",
        "3. Start a loop to repeatedly ask the user to guess the number.\n",
        "4. Within the loop, take the user's guess as input.\n",
        "5. Compare the guess to the target number:\n",
        "- If the guess is correct, break out of the loop and display a congratulatory message.\n",
        "- If the guess is too high, provide feedback and continue the loop.\n",
        "- If the guess is too low, provide feedback and continue the loop.\n",
        "6. Keep track of the number of attempts made by the user.\n",
        "7. After the correct guess, display the number of attempts it took to guess the number.\n",
        "\n",
        "Example Output:\n",
        "\n",
        "Welcome to the Number Guessing Game!\n",
        "\n",
        "Enter the range for the target number (start and end separated by space): 1 100\n",
        "\n",
        "Guess the target number: 50\n",
        "\n",
        "Too high! Try again.\n",
        "\n",
        "Guess the target number: 25\n",
        "\n",
        "Too low! Try again.\n",
        "\n",
        "Guess the target number: 38\n",
        "\n",
        "Too high! Try again.\n",
        "\n",
        "Guess the target number: 31\n",
        "\n",
        "Congratulations! You guessed the target number 31 correctly in 4 attempts."
      ]
    }
  ],
  "metadata": {
    "kernelspec": {
      "display_name": "Python 3",
      "language": "python",
      "name": "python3"
    },
    "language_info": {
      "codemirror_mode": {
        "name": "ipython",
        "version": 3
      },
      "file_extension": ".py",
      "mimetype": "text/x-python",
      "name": "python",
      "nbconvert_exporter": "python",
      "pygments_lexer": "ipython3",
      "version": "3.11.3"
    },
    "orig_nbformat": 4
  },
  "nbformat": 4,
  "nbformat_minor": 2
}
