{
  "cells": [
    {
      "cell_type": "markdown",
      "metadata": {},
      "source": [
        "## Understanding Example\n",
        "\n",
        "Let's go through each line in our example"
      ]
    },
    {
      "cell_type": "code",
      "execution_count": null,
      "metadata": {},
      "outputs": [],
      "source": [
        "# Example of for and while loops\n",
        "# For loop\n",
        "fruits = [\"apple\", \"banana\", \"cherry\"]\n",
        "for fruit in fruits:\n",
        "    print(fruit)"
      ]
    },
    {
      "cell_type": "markdown",
      "metadata": {},
      "source": [
        "In this example, we demonstrate the usage of the `for` loop and the `while` loop in Python."
      ]
    },
    {
      "cell_type": "markdown",
      "metadata": {},
      "source": [
        "### Line 3\n",
        "```python\n",
        "fruits = [\"apple\", \"banana\", \"cherry\"]\n",
        "```\n",
        "The line `fruits = [\"apple\", \"banana\", \"cherry\"]` creates a list containing three fruits: \"apple\", \"banana\", and \"cherry\". We will use this list in the `for` loop."
      ]
    },
    {
      "cell_type": "markdown",
      "metadata": {},
      "source": [
        "### Lines 4-6\n",
        "```python\n",
        "for fruit in fruits:\n",
        "    print(fruit)\n",
        "```\n",
        "The `for` loop is used to iterate over elements in a sequence, such as a list. In this case, it iterates over the elements of the `fruits` list. For each iteration, the loop assigns the current element to the variable `fruit`, and then the indented block of code under the `for` loop is executed. In this example, the loop will print each fruit in the list, one by one."
      ]
    },
    {
      "cell_type": "code",
      "execution_count": null,
      "metadata": {},
      "outputs": [],
      "source": [
        "# While loop\n",
        "count = 1\n",
        "while count <= 5:\n",
        "    print(\"Count:\", count)\n",
        "    count += 1"
      ]
    },
    {
      "cell_type": "markdown",
      "metadata": {},
      "source": [
        "### Line 8\n",
        "```python\n",
        "count = 1\n",
        "```\n",
        "The line `count = 1` initializes the variable `count` to the value `1`. We will use this variable in the `while` loop to keep track of the count."
      ]
    },
    {
      "cell_type": "markdown",
      "metadata": {},
      "source": [
        "### Lines 9-11\n",
        "```python\n",
        "while count <= 5:\n",
        "    print(\"Count:\", count)\n",
        "    count += 1\n",
        "```\n",
        "The `while` loop is used to repeatedly execute a block of code as long as a specified condition is true. In this case, the condition is `count <= 5`, which means the loop will continue as long as the value of `count` is less than or equal to `5`. For each iteration, it will print the current value of `count` and then increment `count` by `1`. The loop will continue until `count` becomes `6`, at which point the condition becomes false, and the loop will terminate."
      ]
    },
    {
      "cell_type": "markdown",
      "metadata": {},
      "source": [
        "## Exercise: Counting Vowels\n",
        "\n",
        "Write a program that takes a string as input and counts the number of vowels (a, e, i, o, u) in that string using a loop. The program should then display the total count of vowels.\n",
        "\n",
        "Instructions:\n",
        "1- Ask the user to enter a string.\n",
        "2- Initialize a variable to keep track of the vowel count.\n",
        "3- Use a loop to iterate through each character in the input string.\n",
        "4- Check if the character is a vowel (either uppercase or lowercase).\n",
        "5 - If the character is a vowel, increment the vowel count.\n",
        "6 - After processing all the characters, display the total count of vowels.\n",
        "\n",
        "Example Output:\n",
        "\n",
        "Enter a string: Hello, World!\n",
        "\n",
        "Total number of vowels: 3"
      ]
    }
  ],
  "metadata": {
    "kernelspec": {
      "display_name": "Python 3",
      "language": "python",
      "name": "python3"
    },
    "language_info": {
      "codemirror_mode": {
        "name": "ipython",
        "version": 3
      },
      "file_extension": ".py",
      "mimetype": "text/x-python",
      "name": "python",
      "nbconvert_exporter": "python",
      "pygments_lexer": "ipython3",
      "version": "3.11.3"
    },
    "orig_nbformat": 4
  },
  "nbformat": 4,
  "nbformat_minor": 2
}
