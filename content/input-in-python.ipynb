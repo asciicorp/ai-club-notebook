{
 "cells": [
  {
   "cell_type": "markdown",
   "metadata": {},
   "source": [
    "## Understanding Example\n",
    "\n",
    "Let's go through each line in our example"
   ]
  },
  {
   "cell_type": "code",
   "execution_count": null,
   "metadata": {},
   "outputs": [],
   "source": [
    "# Taking input from the user"
   ]
  },
  {
   "cell_type": "markdown",
   "metadata": {},
   "source": [
    "Comments in Python are lines that begin with the hash symbol (#). They are used to add explanatory notes within the code and are ignored by the Python interpreter during program execution. Comments help improve code readability and serve as documentation for the code. Apart from single-line comments, Python also supports multi-line comments using triple quotes (''' ''') for strings or triple double quotes (\"\"\" \"\"\") for multi-line strings, although these are not true comment symbols. Using comments effectively is a good practice to make code more understandable and maintainable."
   ]
  },
  {
   "cell_type": "code",
   "execution_count": null,
   "metadata": {},
   "outputs": [],
   "source": [
    "name = input(\"Enter your name: \")"
   ]
  },
  {
   "cell_type": "markdown",
   "metadata": {},
   "source": [
    "1. input(\"Enter your name: \"): The input() function is used to receive user input from the keyboard. In this case, it displays the message \"Enter your name: \" to prompt the user for input.\n",
    "\n",
    "2. name = : The user's input is stored in the variable name. Whatever the user types after seeing the prompt will be assigned to the variable name. (_Don't worry if you don't know about variables, you will learn about it in later part of the course_)\n",
    "\n",
    "So, when this line of code is executed, the program will wait for the user to input their name. Once the user enters their name and presses the \"Enter\" key, the input value will be stored in the name variable, allowing you to use it in the rest of your Python program."
   ]
  },
  {
   "cell_type": "markdown",
   "metadata": {},
   "source": [
    "## Your Turn\n",
    "\n",
    "Ask a person to *enter his city* and store it in a variable named *city*"
   ]
  },
  {
   "cell_type": "markdown",
   "metadata": {},
   "source": []
  },
  {
   "cell_type": "code",
   "execution_count": null,
   "metadata": {},
   "outputs": [],
   "source": []
  }
 ],
 "metadata": {
  "language_info": {
   "name": "python"
  },
  "orig_nbformat": 4
 },
 "nbformat": 4,
 "nbformat_minor": 2
}
