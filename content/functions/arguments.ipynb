{
  "cells": [
    {
      "cell_type": "markdown",
      "metadata": {},
      "source": [
        "## Understanding Example\n",
        "\n",
        "Let's go through each line in our example"
      ]
    },
    {
      "cell_type": "code",
      "execution_count": null,
      "metadata": {},
      "outputs": [],
      "source": [
        "# Function with parameters\n",
        "def greet_user(name):\n",
        "    print(f\"Hello, {name}!\")"
      ]
    },
    {
      "cell_type": "markdown",
      "metadata": {},
      "source": [
        "The line `def greet_user(name):` is a function definition. It defines a function named greet_user() with one parameter called name. Function definitions are used to create reusable blocks of code that can be executed when the function is called.\n",
        "\n",
        "Let's break down the components of the function definition:\n",
        "\n",
        "- `def`: This is the keyword used to indicate the start of a function definition.\n",
        "- `greet_user`: This is the name of the function. In this case, the function is named greet_user.\n",
        "- `(name)`: These parentheses are used to define the function parameters. In this case, there is one parameter specified, name. The function will accept one argument, which will be assigned to the variable name inside the function. If there were more parameters, they would be listed inside the parentheses, separated by commas."
      ]
    },
    {
      "cell_type": "markdown",
      "metadata": {},
      "source": [
        "We know about line `print(f\"Hello, {name}!\")` which is a Python statement that uses the print() function to display the specified message on the screen. The message is \"Hello, \" followed by the value of the name variable, which will be provided when the function is called."
      ]
    },
    {
      "cell_type": "code",
      "execution_count": null,
      "metadata": {},
      "outputs": [],
      "source": [
        "# Calling the function with an argument\n",
        "greet_user(\"Nazeem\")"
      ]
    },
    {
      "cell_type": "markdown",
      "metadata": {},
      "source": [
        "The line `greet_user(\"Nazeem\")` is calling the `greet_user()` function with the argument \"Nazeem\". When you call a function, you pass values (known as arguments) that will be used as the function's parameters. In this case, the name parameter inside the function will be set to \"Nazeem\"."
      ]
    },
    {
      "cell_type": "code",
      "execution_count": null,
      "metadata": {},
      "outputs": [],
      "source": [
        "# Calling the function with a different argument\n",
        "greet_user(\"Neura\")"
      ]
    },
    {
      "cell_type": "markdown",
      "metadata": {},
      "source": [
        "Similarly, the line `greet_user(\"Neura\")` is calling the `greet_user()` function with the argument \"Neura\". This time, the name parameter inside the function will be set to \"Neura\".\n",
        "\n",
        "When you run this code, it will output the following:\n",
        "\n",
        "```\n",
        "Hello, Nazeem!\n",
        "Hello, Neura!\n",
        "```\n",
        "\n",
        "Each call to the `greet_user()` function results in printing a greeting with the specified name."
      ]
    }
  ],
  "metadata": {
    "kernelspec": {
      "display_name": "Python 3",
      "language": "python",
      "name": "python3"
    },
    "language_info": {
      "codemirror_mode": {
        "name": "ipython",
        "version": 3
      },
      "file_extension": ".py",
      "mimetype": "text/x-python",
      "name": "python",
      "nbconvert_exporter": "python",
      "pygments_lexer": "ipython3",
      "version": "3.11.3"
    },
    "orig_nbformat": 4
  },
  "nbformat": 4,
  "nbformat_minor": 2
}
