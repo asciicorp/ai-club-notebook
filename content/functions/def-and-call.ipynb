{
 "cells": [
  {
   "cell_type": "markdown",
   "metadata": {},
   "source": [
    "## Understanding Example\n",
    "\n",
    "Let's go through each line in our example"
   ]
  },
  {
   "cell_type": "code",
   "execution_count": null,
   "metadata": {},
   "outputs": [],
   "source": [
    "# Defining a simple function"
   ]
  },
  {
   "cell_type": "markdown",
   "metadata": {},
   "source": [
    "A single-line comment, as mentioned earlier, is a brief explanatory note denoted by the hash symbol (#). We will omit explaining the single line command from now-on"
   ]
  },
  {
   "cell_type": "code",
   "execution_count": 2,
   "metadata": {},
   "outputs": [],
   "source": [
    "def greet():\n",
    "    print(\"Hello, welcome to the Python Functions tutorial!\")"
   ]
  },
  {
   "cell_type": "markdown",
   "metadata": {},
   "source": [
    "The line `def greet():` is a function definition. It defines a function named greet() without any parameters. Function definitions are used to create reusable blocks of code that can be executed when the function is called.\n",
    "\n",
    "Let's break down the components of the function definition:\n",
    "\n",
    "- `def`: This is the keyword used to indicate the start of a function definition.\n",
    "- `greet`: This is the name of the function. You can choose any valid identifier as the function name. In this case, the function is named greet.\n",
    "- `()`: These parentheses are used to define the function parameters. In this case, there are no parameters specified, so the function takes no arguments. If there were parameters, they would be listed inside the parentheses, separated by commas.\n",
    "- `:` The colon indicates the start of the function block. Everything indented after this line is part of the function's body."
   ]
  },
  {
   "cell_type": "markdown",
   "metadata": {},
   "source": [
    "We know about line `print(\"Hello, welcome to the Python Functions tutorial!\")` which is a Python statement that uses the print() function to display the specified message on the screen."
   ]
  },
  {
   "cell_type": "code",
   "execution_count": null,
   "metadata": {},
   "outputs": [],
   "source": [
    "# Calling the function\n",
    "greet() "
   ]
  },
  {
   "cell_type": "markdown",
   "metadata": {},
   "source": [
    "`greet()` is calling the greet() function in Python. When you define a function in Python (as shown in the example), you can later call that function to execute the code inside it. To call a function, you simply write the function name followed by parentheses ()."
   ]
  }
 ],
 "metadata": {
  "kernelspec": {
   "display_name": "Python 3",
   "language": "python",
   "name": "python3"
  },
  "language_info": {
   "codemirror_mode": {
    "name": "ipython",
    "version": 3
   },
   "file_extension": ".py",
   "mimetype": "text/x-python",
   "name": "python",
   "nbconvert_exporter": "python",
   "pygments_lexer": "ipython3",
   "version": "3.11.3"
  },
  "orig_nbformat": 4
 },
 "nbformat": 4,
 "nbformat_minor": 2
}
