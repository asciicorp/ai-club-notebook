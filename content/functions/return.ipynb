{
   "cells": [
      {
         "cell_type": "markdown",
         "metadata": {},
         "source": [
            "## Understanding Example\n",
            "\n",
            "Let's go through each line in our example"
         ]
      },
      {
         "cell_type": "code",
         "execution_count": null,
         "metadata": {},
         "outputs": [],
         "source": [
            "# Function with return statement\n",
            "def add_numbers(a, b):\n",
            "    return a + b"
         ]
      },
      {
         "cell_type": "markdown",
         "metadata": {},
         "source": [
            "The line `def add_numbers(a, b):` is a function definition. It defines a function named `add_numbers()` with two parameters `a` and `b`. Function definitions are used to create reusable blocks of code that can be executed when the function is called.\n",
            "\n",
            "Let's break down the components of the function definition:\n",
            "\n",
            "- `def`: This is the keyword used to indicate the start of a function definition.\n",
            "- `add_numbers`: This is the name of the function. In this case, the function is named `add_numbers`.\n",
            "- `(a, b)`: These parentheses are used to define the function parameters. In this case, there are two parameters specified, `a` and `b`. The function will accept two arguments, which will be assigned to the variables `a` and `b` inside the function. If there were more parameters, they would be listed inside the parentheses, separated by commas."
         ]
      },
      {
         "cell_type": "markdown",
         "metadata": {},
         "source": [
            "The line `return a + b` is a return statement. It is used to specify the result that the function should produce when called. In this case, the function returns the sum of `a` and `b`."
         ]
      },
      {
         "cell_type": "code",
         "execution_count": null,
         "metadata": {},
         "outputs": [],
         "source": [
            "# Calling the function and storing the result in a variable\n",
            "result = add_numbers(5, 3)"
         ]
      },
      {
         "cell_type": "markdown",
         "metadata": {},
         "source": [
            "The line `result = add_numbers(5, 3)` is calling the `add_numbers()` function with arguments `5` and `3`, and storing the result in a variable named `result`. When you call a function that has a return statement, it will evaluate the function's logic and produce a result. In this case, the function will return `8`, which will be assigned to the variable `result`."
         ]
      },
      {
         "cell_type": "code",
         "execution_count": null,
         "metadata": {},
         "outputs": [],
         "source": [
            "print(\"Result:\", result)"
         ]
      },
      {
         "cell_type": "markdown",
         "metadata": {},
         "source": [
            "The line `print(\"Result:\", result)` prints the result using the `print()` function. It will output: \n",
            "Result: 8\n"
         ]
      }
   ],
   "metadata": {
      "kernelspec": {
         "display_name": "Python 3",
         "language": "python",
         "name": "python3"
      },
      "language_info": {
         "codemirror_mode": {
            "name": "ipython",
            "version": 3
         },
         "file_extension": ".py",
         "mimetype": "text/x-python",
         "name": "python",
         "nbconvert_exporter": "python",
         "pygments_lexer": "ipython3",
         "version": "3.11.3"
      },
      "orig_nbformat": 4
   },
   "nbformat": 4,
   "nbformat_minor": 2
}
