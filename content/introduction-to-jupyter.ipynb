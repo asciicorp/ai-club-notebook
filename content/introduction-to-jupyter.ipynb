{
 "cells": [
  {
   "cell_type": "markdown",
   "metadata": {},
   "source": [
    "# Getting Started with Jupyter Notebook\n",
    "\n",
    "## Introduction to Jupyter Notebook\n",
    "\n",
    "In this course, we will utilize Jupyter Notebook for tutorials and hands-on exercises. Understanding what Jupyter Notebook is and its capabilities is essential.\n",
    "\n",
    "Jupyter Notebook is an *interactive computing environment* that facilitates the creation and sharing of documents. These documents can include live code, visualizations, and explanatory text. Its versatile nature allows you to seamlessly combine code, output, and rich media in a single document, making it highly popular for tasks such as data analysis, data visualization, machine learning, and research.\n",
    "\n",
    "## Running Cells in Jupyter Notebook\n",
    "\n",
    "In Jupyter Notebook, your code is organized into *cells.* Each cell can contain either code (code cells) or text (Markdown cells). To execute the code within a cell, you have two primary options:\n",
    "\n",
    "1. Using the Run Button: To run a cell, select it by clicking on it, and then click the \"Run\" button located in the toolbar at the top of the notebook. This will execute the code within the selected cell.\n",
    "\n",
    "![\"Run Button](https://i.ibb.co/Kz1Mf2w/jupyter-intro.png)\n",
    "\n",
    "2. Using Shortcut Keys: Jupyter Notebook provides convenient keyboard shortcuts for running cells. The most common shortcuts are:\n",
    "- Run the current cell and move to the next one: Shift + Enter\n",
    "- Run the current cell and insert a new cell below: Alt/Option + Enter\n",
    "- Run the current cell and keep the cursor in the same cell: Ctrl + Enter (Windows/Linux) or Cmd + Enter (Mac)\n",
    "\n",
    "## Modifying Existing Code and Running\n",
    "\n",
    "You can easily modify existing code cells in Jupyter Notebook. To edit a code cell, click on it, and the cell will become active, allowing you to modify the code within.\n",
    "\n",
    "1. Edit the Code: Click on the code cell you wish to modify. The cell will become editable, and you can make changes to the code as needed.\n",
    "\n",
    "2. Run the Modified Code: After making changes, you can run the modified code using the methods mentioned earlier: either click the \"Run\" button or use the appropriate keyboard shortcut.\n",
    "\n",
    "Notebook State: It's essential to keep track of the notebook's state when modifying code. If you change the order of cells or re-run cells, it may impact the results of subsequent cells. Therefore, it's a good practice to run the cells sequentially from top to bottom unless you know what you are doing.\n",
    "\n",
    "_Remember that the output of a code cell depends on the state of the notebook, including the variables and functions defined in earlier cells. If you modify a code cell and re-run it, it may affect other code cells' behavior._\n"
   ]
  }
 ],
 "metadata": {
  "kernelspec": {
   "display_name": "Python 3",
   "language": "python",
   "name": "python3"
  },
  "language_info": {
   "codemirror_mode": {
    "name": "ipython",
    "version": 3
   },
   "file_extension": ".py",
   "mimetype": "text/x-python",
   "name": "python",
   "nbconvert_exporter": "python",
   "pygments_lexer": "ipython3",
   "version": "3.11.3"
  },
  "orig_nbformat": 4
 },
 "nbformat": 4,
 "nbformat_minor": 2
}
