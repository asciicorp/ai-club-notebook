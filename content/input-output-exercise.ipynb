{
 "cells": [
  {
   "cell_type": "markdown",
   "metadata": {},
   "source": [
    "## Exercise: Create a Personalized Greeting\n",
    "\n",
    "Task: Write a Python program that takes the user's name as input and then displays a personalized greeting message on the output screen.\n",
    "\n",
    "Hints:\n",
    "- Use the input() function to prompt the user for their name and store it in a variable.\n",
    "- Use the print() function to display the personalized greeting message, including the user's name.\n",
    "\n",
    "Example Output:\n",
    "\n",
    "*Enter your name: John*\n",
    "*Hello, John! Welcome to the AI Eye*"
   ]
  },
  {
   "cell_type": "code",
   "execution_count": null,
   "metadata": {},
   "outputs": [],
   "source": []
  }
 ],
 "metadata": {
  "language_info": {
   "name": "python"
  },
  "orig_nbformat": 4
 },
 "nbformat": 4,
 "nbformat_minor": 2
}
